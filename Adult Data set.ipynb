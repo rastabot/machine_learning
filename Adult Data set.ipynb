{
 "cells": [
  {
   "cell_type": "markdown",
   "metadata": {},
   "source": [
    "# Abstract: Predict whether income exceeds\n",
    "# 50K/yr based on census data. Also known as \"Census Income\" dataset."
   ]
  },
  {
   "cell_type": "code",
   "execution_count": 1,
   "metadata": {},
   "outputs": [],
   "source": [
    "#https://lwmachinelearning.wordpress.com/portfolio/adults-data-set/"
   ]
  },
  {
   "cell_type": "code",
   "execution_count": 2,
   "metadata": {},
   "outputs": [],
   "source": [
    "import numpy as np\n",
    "import pandas as pd\n",
    "import seaborn as sb\n",
    "import sklearn.linear_model as skl\n",
    "import matplotlib.pyplot as plt\n",
    "\n",
    "sb.set_style(\"darkgrid\")"
   ]
  },
  {
   "cell_type": "code",
   "execution_count": 3,
   "metadata": {},
   "outputs": [],
   "source": [
    "sb.set(rc={'figure.figsize':(11.7,8.27)})"
   ]
  },
  {
   "cell_type": "code",
   "execution_count": 4,
   "metadata": {},
   "outputs": [
    {
     "data": {
      "text/plain": [
       "'C:\\\\Users\\\\Thor 3\\\\Desktop\\\\data_science\\\\Adult data set'"
      ]
     },
     "execution_count": 4,
     "metadata": {},
     "output_type": "execute_result"
    }
   ],
   "source": [
    "pwd"
   ]
  },
  {
   "cell_type": "code",
   "execution_count": 5,
   "metadata": {},
   "outputs": [],
   "source": [
    "df = pd.read_csv('adult.data')"
   ]
  },
  {
   "cell_type": "code",
   "execution_count": 6,
   "metadata": {},
   "outputs": [],
   "source": [
    "#df.to_excel('the_datatbl.xlsx')"
   ]
  },
  {
   "cell_type": "code",
   "execution_count": 7,
   "metadata": {},
   "outputs": [],
   "source": [
    "columns= df.columns # df.column -->its an index so we need column.values"
   ]
  },
  {
   "cell_type": "code",
   "execution_count": 8,
   "metadata": {},
   "outputs": [
    {
     "data": {
      "text/plain": [
       "Index(['39', ' State-gov', ' 77516', ' Bachelors', ' 13', ' Never-married',\n",
       "       ' Adm-clerical', ' Not-in-family', ' White', ' Male', ' 2174', ' 0',\n",
       "       ' 40', ' United-States', ' <=50K'],\n",
       "      dtype='object')"
      ]
     },
     "execution_count": 8,
     "metadata": {},
     "output_type": "execute_result"
    }
   ],
   "source": [
    "columns"
   ]
  },
  {
   "cell_type": "code",
   "execution_count": 9,
   "metadata": {},
   "outputs": [
    {
     "data": {
      "text/html": [
       "<div>\n",
       "<style scoped>\n",
       "    .dataframe tbody tr th:only-of-type {\n",
       "        vertical-align: middle;\n",
       "    }\n",
       "\n",
       "    .dataframe tbody tr th {\n",
       "        vertical-align: top;\n",
       "    }\n",
       "\n",
       "    .dataframe thead th {\n",
       "        text-align: right;\n",
       "    }\n",
       "</style>\n",
       "<table border=\"1\" class=\"dataframe\">\n",
       "  <thead>\n",
       "    <tr style=\"text-align: right;\">\n",
       "      <th></th>\n",
       "      <th>39</th>\n",
       "      <th>State-gov</th>\n",
       "      <th>77516</th>\n",
       "      <th>Bachelors</th>\n",
       "      <th>13</th>\n",
       "      <th>Never-married</th>\n",
       "      <th>Adm-clerical</th>\n",
       "      <th>Not-in-family</th>\n",
       "      <th>White</th>\n",
       "      <th>Male</th>\n",
       "      <th>2174</th>\n",
       "      <th>0</th>\n",
       "      <th>40</th>\n",
       "      <th>United-States</th>\n",
       "      <th>&lt;=50K</th>\n",
       "    </tr>\n",
       "  </thead>\n",
       "  <tbody>\n",
       "    <tr>\n",
       "      <th>0</th>\n",
       "      <td>50</td>\n",
       "      <td>Self-emp-not-inc</td>\n",
       "      <td>83311</td>\n",
       "      <td>Bachelors</td>\n",
       "      <td>13</td>\n",
       "      <td>Married-civ-spouse</td>\n",
       "      <td>Exec-managerial</td>\n",
       "      <td>Husband</td>\n",
       "      <td>White</td>\n",
       "      <td>Male</td>\n",
       "      <td>0</td>\n",
       "      <td>0</td>\n",
       "      <td>13</td>\n",
       "      <td>United-States</td>\n",
       "      <td>&lt;=50K</td>\n",
       "    </tr>\n",
       "    <tr>\n",
       "      <th>1</th>\n",
       "      <td>38</td>\n",
       "      <td>Private</td>\n",
       "      <td>215646</td>\n",
       "      <td>HS-grad</td>\n",
       "      <td>9</td>\n",
       "      <td>Divorced</td>\n",
       "      <td>Handlers-cleaners</td>\n",
       "      <td>Not-in-family</td>\n",
       "      <td>White</td>\n",
       "      <td>Male</td>\n",
       "      <td>0</td>\n",
       "      <td>0</td>\n",
       "      <td>40</td>\n",
       "      <td>United-States</td>\n",
       "      <td>&lt;=50K</td>\n",
       "    </tr>\n",
       "    <tr>\n",
       "      <th>2</th>\n",
       "      <td>53</td>\n",
       "      <td>Private</td>\n",
       "      <td>234721</td>\n",
       "      <td>11th</td>\n",
       "      <td>7</td>\n",
       "      <td>Married-civ-spouse</td>\n",
       "      <td>Handlers-cleaners</td>\n",
       "      <td>Husband</td>\n",
       "      <td>Black</td>\n",
       "      <td>Male</td>\n",
       "      <td>0</td>\n",
       "      <td>0</td>\n",
       "      <td>40</td>\n",
       "      <td>United-States</td>\n",
       "      <td>&lt;=50K</td>\n",
       "    </tr>\n",
       "    <tr>\n",
       "      <th>3</th>\n",
       "      <td>28</td>\n",
       "      <td>Private</td>\n",
       "      <td>338409</td>\n",
       "      <td>Bachelors</td>\n",
       "      <td>13</td>\n",
       "      <td>Married-civ-spouse</td>\n",
       "      <td>Prof-specialty</td>\n",
       "      <td>Wife</td>\n",
       "      <td>Black</td>\n",
       "      <td>Female</td>\n",
       "      <td>0</td>\n",
       "      <td>0</td>\n",
       "      <td>40</td>\n",
       "      <td>Cuba</td>\n",
       "      <td>&lt;=50K</td>\n",
       "    </tr>\n",
       "    <tr>\n",
       "      <th>4</th>\n",
       "      <td>37</td>\n",
       "      <td>Private</td>\n",
       "      <td>284582</td>\n",
       "      <td>Masters</td>\n",
       "      <td>14</td>\n",
       "      <td>Married-civ-spouse</td>\n",
       "      <td>Exec-managerial</td>\n",
       "      <td>Wife</td>\n",
       "      <td>White</td>\n",
       "      <td>Female</td>\n",
       "      <td>0</td>\n",
       "      <td>0</td>\n",
       "      <td>40</td>\n",
       "      <td>United-States</td>\n",
       "      <td>&lt;=50K</td>\n",
       "    </tr>\n",
       "  </tbody>\n",
       "</table>\n",
       "</div>"
      ],
      "text/plain": [
       "   39          State-gov   77516   Bachelors   13        Never-married  \\\n",
       "0  50   Self-emp-not-inc   83311   Bachelors   13   Married-civ-spouse   \n",
       "1  38            Private  215646     HS-grad    9             Divorced   \n",
       "2  53            Private  234721        11th    7   Married-civ-spouse   \n",
       "3  28            Private  338409   Bachelors   13   Married-civ-spouse   \n",
       "4  37            Private  284582     Masters   14   Married-civ-spouse   \n",
       "\n",
       "         Adm-clerical   Not-in-family   White     Male   2174   0   40  \\\n",
       "0     Exec-managerial         Husband   White     Male      0   0   13   \n",
       "1   Handlers-cleaners   Not-in-family   White     Male      0   0   40   \n",
       "2   Handlers-cleaners         Husband   Black     Male      0   0   40   \n",
       "3      Prof-specialty            Wife   Black   Female      0   0   40   \n",
       "4     Exec-managerial            Wife   White   Female      0   0   40   \n",
       "\n",
       "    United-States   <=50K  \n",
       "0   United-States   <=50K  \n",
       "1   United-States   <=50K  \n",
       "2   United-States   <=50K  \n",
       "3            Cuba   <=50K  \n",
       "4   United-States   <=50K  "
      ]
     },
     "execution_count": 9,
     "metadata": {},
     "output_type": "execute_result"
    }
   ],
   "source": [
    "df.head()"
   ]
  },
  {
   "cell_type": "code",
   "execution_count": 10,
   "metadata": {},
   "outputs": [
    {
     "name": "stdout",
     "output_type": "stream",
     "text": [
      "<class 'pandas.core.frame.DataFrame'>\n",
      "RangeIndex: 32560 entries, 0 to 32559\n",
      "Data columns (total 15 columns):\n",
      " #   Column          Non-Null Count  Dtype \n",
      "---  ------          --------------  ----- \n",
      " 0   39              32560 non-null  int64 \n",
      " 1    State-gov      32560 non-null  object\n",
      " 2    77516          32560 non-null  int64 \n",
      " 3    Bachelors      32560 non-null  object\n",
      " 4    13             32560 non-null  int64 \n",
      " 5    Never-married  32560 non-null  object\n",
      " 6    Adm-clerical   32560 non-null  object\n",
      " 7    Not-in-family  32560 non-null  object\n",
      " 8    White          32560 non-null  object\n",
      " 9    Male           32560 non-null  object\n",
      " 10   2174           32560 non-null  int64 \n",
      " 11   0              32560 non-null  int64 \n",
      " 12   40             32560 non-null  int64 \n",
      " 13   United-States  32560 non-null  object\n",
      " 14   <=50K          32560 non-null  object\n",
      "dtypes: int64(6), object(9)\n",
      "memory usage: 3.7+ MB\n"
     ]
    }
   ],
   "source": [
    "df.info()"
   ]
  },
  {
   "cell_type": "code",
   "execution_count": 11,
   "metadata": {},
   "outputs": [
    {
     "data": {
      "text/html": [
       "<div>\n",
       "<style scoped>\n",
       "    .dataframe tbody tr th:only-of-type {\n",
       "        vertical-align: middle;\n",
       "    }\n",
       "\n",
       "    .dataframe tbody tr th {\n",
       "        vertical-align: top;\n",
       "    }\n",
       "\n",
       "    .dataframe thead th {\n",
       "        text-align: right;\n",
       "    }\n",
       "</style>\n",
       "<table border=\"1\" class=\"dataframe\">\n",
       "  <thead>\n",
       "    <tr style=\"text-align: right;\">\n",
       "      <th></th>\n",
       "      <th>39</th>\n",
       "      <th>77516</th>\n",
       "      <th>13</th>\n",
       "      <th>2174</th>\n",
       "      <th>0</th>\n",
       "      <th>40</th>\n",
       "    </tr>\n",
       "  </thead>\n",
       "  <tbody>\n",
       "    <tr>\n",
       "      <th>count</th>\n",
       "      <td>32560.000000</td>\n",
       "      <td>3.256000e+04</td>\n",
       "      <td>32560.000000</td>\n",
       "      <td>32560.000000</td>\n",
       "      <td>32560.000000</td>\n",
       "      <td>32560.000000</td>\n",
       "    </tr>\n",
       "    <tr>\n",
       "      <th>mean</th>\n",
       "      <td>38.581634</td>\n",
       "      <td>1.897818e+05</td>\n",
       "      <td>10.080590</td>\n",
       "      <td>1077.615172</td>\n",
       "      <td>87.306511</td>\n",
       "      <td>40.437469</td>\n",
       "    </tr>\n",
       "    <tr>\n",
       "      <th>std</th>\n",
       "      <td>13.640642</td>\n",
       "      <td>1.055498e+05</td>\n",
       "      <td>2.572709</td>\n",
       "      <td>7385.402999</td>\n",
       "      <td>402.966116</td>\n",
       "      <td>12.347618</td>\n",
       "    </tr>\n",
       "    <tr>\n",
       "      <th>min</th>\n",
       "      <td>17.000000</td>\n",
       "      <td>1.228500e+04</td>\n",
       "      <td>1.000000</td>\n",
       "      <td>0.000000</td>\n",
       "      <td>0.000000</td>\n",
       "      <td>1.000000</td>\n",
       "    </tr>\n",
       "    <tr>\n",
       "      <th>25%</th>\n",
       "      <td>28.000000</td>\n",
       "      <td>1.178315e+05</td>\n",
       "      <td>9.000000</td>\n",
       "      <td>0.000000</td>\n",
       "      <td>0.000000</td>\n",
       "      <td>40.000000</td>\n",
       "    </tr>\n",
       "    <tr>\n",
       "      <th>50%</th>\n",
       "      <td>37.000000</td>\n",
       "      <td>1.783630e+05</td>\n",
       "      <td>10.000000</td>\n",
       "      <td>0.000000</td>\n",
       "      <td>0.000000</td>\n",
       "      <td>40.000000</td>\n",
       "    </tr>\n",
       "    <tr>\n",
       "      <th>75%</th>\n",
       "      <td>48.000000</td>\n",
       "      <td>2.370545e+05</td>\n",
       "      <td>12.000000</td>\n",
       "      <td>0.000000</td>\n",
       "      <td>0.000000</td>\n",
       "      <td>45.000000</td>\n",
       "    </tr>\n",
       "    <tr>\n",
       "      <th>max</th>\n",
       "      <td>90.000000</td>\n",
       "      <td>1.484705e+06</td>\n",
       "      <td>16.000000</td>\n",
       "      <td>99999.000000</td>\n",
       "      <td>4356.000000</td>\n",
       "      <td>99.000000</td>\n",
       "    </tr>\n",
       "  </tbody>\n",
       "</table>\n",
       "</div>"
      ],
      "text/plain": [
       "                 39         77516            13          2174             0  \\\n",
       "count  32560.000000  3.256000e+04  32560.000000  32560.000000  32560.000000   \n",
       "mean      38.581634  1.897818e+05     10.080590   1077.615172     87.306511   \n",
       "std       13.640642  1.055498e+05      2.572709   7385.402999    402.966116   \n",
       "min       17.000000  1.228500e+04      1.000000      0.000000      0.000000   \n",
       "25%       28.000000  1.178315e+05      9.000000      0.000000      0.000000   \n",
       "50%       37.000000  1.783630e+05     10.000000      0.000000      0.000000   \n",
       "75%       48.000000  2.370545e+05     12.000000      0.000000      0.000000   \n",
       "max       90.000000  1.484705e+06     16.000000  99999.000000   4356.000000   \n",
       "\n",
       "                 40  \n",
       "count  32560.000000  \n",
       "mean      40.437469  \n",
       "std       12.347618  \n",
       "min        1.000000  \n",
       "25%       40.000000  \n",
       "50%       40.000000  \n",
       "75%       45.000000  \n",
       "max       99.000000  "
      ]
     },
     "execution_count": 11,
     "metadata": {},
     "output_type": "execute_result"
    }
   ],
   "source": [
    "df.describe()"
   ]
  },
  {
   "cell_type": "code",
   "execution_count": 12,
   "metadata": {},
   "outputs": [
    {
     "data": {
      "text/plain": [
       "array([' Bachelors', ' HS-grad', ' 11th', ' Masters', ' 9th',\n",
       "       ' Some-college', ' Assoc-acdm', ' Assoc-voc', ' 7th-8th',\n",
       "       ' Doctorate', ' Prof-school', ' 5th-6th', ' 10th', ' 1st-4th',\n",
       "       ' Preschool', ' 12th'], dtype=object)"
      ]
     },
     "execution_count": 12,
     "metadata": {},
     "output_type": "execute_result"
    }
   ],
   "source": [
    "df[' Bachelors'].unique()"
   ]
  },
  {
   "cell_type": "code",
   "execution_count": 13,
   "metadata": {},
   "outputs": [
    {
     "data": {
      "text/plain": [
       " HS-grad         10501\n",
       " Some-college     7291\n",
       " Bachelors        5354\n",
       " Masters          1723\n",
       " Assoc-voc        1382\n",
       " 11th             1175\n",
       " Assoc-acdm       1067\n",
       " 10th              933\n",
       " 7th-8th           646\n",
       " Prof-school       576\n",
       " 9th               514\n",
       " 12th              433\n",
       " Doctorate         413\n",
       " 5th-6th           333\n",
       " 1st-4th           168\n",
       " Preschool          51\n",
       "Name:  Bachelors, dtype: int64"
      ]
     },
     "execution_count": 13,
     "metadata": {},
     "output_type": "execute_result"
    }
   ],
   "source": [
    "df[' Bachelors'].value_counts()"
   ]
  },
  {
   "cell_type": "code",
   "execution_count": 14,
   "metadata": {},
   "outputs": [
    {
     "data": {
      "text/plain": [
       " United-States                 29169\n",
       " Mexico                          643\n",
       " ?                               583\n",
       " Philippines                     198\n",
       " Germany                         137\n",
       " Canada                          121\n",
       " Puerto-Rico                     114\n",
       " El-Salvador                     106\n",
       " India                           100\n",
       " Cuba                             95\n",
       " England                          90\n",
       " Jamaica                          81\n",
       " South                            80\n",
       " China                            75\n",
       " Italy                            73\n",
       " Dominican-Republic               70\n",
       " Vietnam                          67\n",
       " Guatemala                        64\n",
       " Japan                            62\n",
       " Poland                           60\n",
       " Columbia                         59\n",
       " Taiwan                           51\n",
       " Haiti                            44\n",
       " Iran                             43\n",
       " Portugal                         37\n",
       " Nicaragua                        34\n",
       " Peru                             31\n",
       " Greece                           29\n",
       " France                           29\n",
       " Ecuador                          28\n",
       " Ireland                          24\n",
       " Hong                             20\n",
       " Cambodia                         19\n",
       " Trinadad&Tobago                  19\n",
       " Thailand                         18\n",
       " Laos                             18\n",
       " Yugoslavia                       16\n",
       " Outlying-US(Guam-USVI-etc)       14\n",
       " Hungary                          13\n",
       " Honduras                         13\n",
       " Scotland                         12\n",
       " Holand-Netherlands                1\n",
       "Name:  United-States, dtype: int64"
      ]
     },
     "execution_count": 14,
     "metadata": {},
     "output_type": "execute_result"
    }
   ],
   "source": [
    "df[' United-States'].value_counts()"
   ]
  },
  {
   "cell_type": "code",
   "execution_count": 15,
   "metadata": {},
   "outputs": [
    {
     "data": {
      "text/plain": [
       " <=50K    24719\n",
       " >50K      7841\n",
       "Name:  <=50K, dtype: int64"
      ]
     },
     "execution_count": 15,
     "metadata": {},
     "output_type": "execute_result"
    }
   ],
   "source": [
    "df[' <=50K'].value_counts()"
   ]
  },
  {
   "cell_type": "code",
   "execution_count": 16,
   "metadata": {},
   "outputs": [
    {
     "data": {
      "text/plain": [
       "array([   0, 2042, 1408, 1902, 1573, 1887, 1719, 1762, 1564, 2179, 1816,\n",
       "       1980, 1977, 1876, 1340, 2206, 1741, 1485, 2339, 2415, 1380, 1721,\n",
       "       2051, 2377, 1669, 2352, 1672,  653, 2392, 1504, 2001, 1590, 1651,\n",
       "       1628, 1848, 1740, 2002, 1579, 2258, 1602,  419, 2547, 2174, 2205,\n",
       "       1726, 2444, 1138, 2238,  625,  213, 1539,  880, 1668, 1092, 1594,\n",
       "       3004, 2231, 1844,  810, 2824, 2559, 2057, 1974,  974, 2149, 1825,\n",
       "       1735, 1258, 2129, 2603, 2282,  323, 4356, 2246, 1617, 1648, 2489,\n",
       "       3770, 1755, 3683, 2267, 2080, 2457,  155, 3900, 2201, 1944, 2467,\n",
       "       2163, 2754, 2472, 1411], dtype=int64)"
      ]
     },
     "execution_count": 16,
     "metadata": {},
     "output_type": "execute_result"
    }
   ],
   "source": [
    "df[' 0'].unique()"
   ]
  },
  {
   "cell_type": "code",
   "execution_count": 17,
   "metadata": {},
   "outputs": [
    {
     "name": "stdout",
     "output_type": "stream",
     "text": [
      "36    898\n",
      "31    888\n",
      "34    886\n",
      "23    877\n",
      "35    876\n",
      "     ... \n",
      "83      6\n",
      "85      3\n",
      "88      3\n",
      "87      1\n",
      "86      1\n",
      "Name: 39, Length: 73, dtype: int64\n",
      "[50 38 53 28 37 49 52 31 42 30 23 32 40 34 25 43 54 35 59 56 19 39 20 45\n",
      " 22 48 21 24 57 44 41 29 18 47 46 36 79 27 67 33 76 17 55 61 70 64 71 68\n",
      " 66 51 58 26 60 90 75 65 77 62 63 80 72 74 69 73 81 78 88 82 83 84 85 86\n",
      " 87]\n"
     ]
    }
   ],
   "source": [
    "print(df['39'].value_counts())\n",
    "print(df['39'].unique())"
   ]
  },
  {
   "cell_type": "code",
   "execution_count": 18,
   "metadata": {},
   "outputs": [
    {
     "data": {
      "text/plain": [
       "count    32560.000000\n",
       "mean        38.581634\n",
       "std         13.640642\n",
       "min         17.000000\n",
       "25%         28.000000\n",
       "50%         37.000000\n",
       "75%         48.000000\n",
       "max         90.000000\n",
       "Name: 39, dtype: float64"
      ]
     },
     "execution_count": 18,
     "metadata": {},
     "output_type": "execute_result"
    }
   ],
   "source": [
    "df['39'].describe() #this is the age"
   ]
  },
  {
   "cell_type": "code",
   "execution_count": 19,
   "metadata": {},
   "outputs": [],
   "source": [
    "df.rename(columns={'39':'Age'},inplace=True)"
   ]
  },
  {
   "cell_type": "code",
   "execution_count": 20,
   "metadata": {},
   "outputs": [],
   "source": [
    "for i in range(len(columns)):\n",
    "    columns.values[i]=columns.values[i].replace(' ','')"
   ]
  },
  {
   "cell_type": "code",
   "execution_count": 21,
   "metadata": {},
   "outputs": [
    {
     "data": {
      "text/plain": [
       "Index(['39', 'State-gov', '77516', 'Bachelors', '13', 'Never-married',\n",
       "       'Adm-clerical', 'Not-in-family', 'White', 'Male', '2174', '0', '40',\n",
       "       'United-States', '<=50K'],\n",
       "      dtype='object')"
      ]
     },
     "execution_count": 21,
     "metadata": {},
     "output_type": "execute_result"
    }
   ],
   "source": [
    "columns"
   ]
  },
  {
   "cell_type": "code",
   "execution_count": 22,
   "metadata": {},
   "outputs": [],
   "source": [
    "#df.columns=columns"
   ]
  },
  {
   "cell_type": "code",
   "execution_count": 23,
   "metadata": {},
   "outputs": [
    {
     "data": {
      "text/html": [
       "<div>\n",
       "<style scoped>\n",
       "    .dataframe tbody tr th:only-of-type {\n",
       "        vertical-align: middle;\n",
       "    }\n",
       "\n",
       "    .dataframe tbody tr th {\n",
       "        vertical-align: top;\n",
       "    }\n",
       "\n",
       "    .dataframe thead th {\n",
       "        text-align: right;\n",
       "    }\n",
       "</style>\n",
       "<table border=\"1\" class=\"dataframe\">\n",
       "  <thead>\n",
       "    <tr style=\"text-align: right;\">\n",
       "      <th></th>\n",
       "      <th>Age</th>\n",
       "      <th>State-gov</th>\n",
       "      <th>77516</th>\n",
       "      <th>Bachelors</th>\n",
       "      <th>13</th>\n",
       "      <th>Never-married</th>\n",
       "      <th>Adm-clerical</th>\n",
       "      <th>Not-in-family</th>\n",
       "      <th>White</th>\n",
       "      <th>Male</th>\n",
       "      <th>2174</th>\n",
       "      <th>0</th>\n",
       "      <th>40</th>\n",
       "      <th>United-States</th>\n",
       "      <th>&lt;=50K</th>\n",
       "    </tr>\n",
       "  </thead>\n",
       "  <tbody>\n",
       "    <tr>\n",
       "      <th>0</th>\n",
       "      <td>50</td>\n",
       "      <td>Self-emp-not-inc</td>\n",
       "      <td>83311</td>\n",
       "      <td>Bachelors</td>\n",
       "      <td>13</td>\n",
       "      <td>Married-civ-spouse</td>\n",
       "      <td>Exec-managerial</td>\n",
       "      <td>Husband</td>\n",
       "      <td>White</td>\n",
       "      <td>Male</td>\n",
       "      <td>0</td>\n",
       "      <td>0</td>\n",
       "      <td>13</td>\n",
       "      <td>United-States</td>\n",
       "      <td>&lt;=50K</td>\n",
       "    </tr>\n",
       "    <tr>\n",
       "      <th>1</th>\n",
       "      <td>38</td>\n",
       "      <td>Private</td>\n",
       "      <td>215646</td>\n",
       "      <td>HS-grad</td>\n",
       "      <td>9</td>\n",
       "      <td>Divorced</td>\n",
       "      <td>Handlers-cleaners</td>\n",
       "      <td>Not-in-family</td>\n",
       "      <td>White</td>\n",
       "      <td>Male</td>\n",
       "      <td>0</td>\n",
       "      <td>0</td>\n",
       "      <td>40</td>\n",
       "      <td>United-States</td>\n",
       "      <td>&lt;=50K</td>\n",
       "    </tr>\n",
       "    <tr>\n",
       "      <th>2</th>\n",
       "      <td>53</td>\n",
       "      <td>Private</td>\n",
       "      <td>234721</td>\n",
       "      <td>11th</td>\n",
       "      <td>7</td>\n",
       "      <td>Married-civ-spouse</td>\n",
       "      <td>Handlers-cleaners</td>\n",
       "      <td>Husband</td>\n",
       "      <td>Black</td>\n",
       "      <td>Male</td>\n",
       "      <td>0</td>\n",
       "      <td>0</td>\n",
       "      <td>40</td>\n",
       "      <td>United-States</td>\n",
       "      <td>&lt;=50K</td>\n",
       "    </tr>\n",
       "    <tr>\n",
       "      <th>3</th>\n",
       "      <td>28</td>\n",
       "      <td>Private</td>\n",
       "      <td>338409</td>\n",
       "      <td>Bachelors</td>\n",
       "      <td>13</td>\n",
       "      <td>Married-civ-spouse</td>\n",
       "      <td>Prof-specialty</td>\n",
       "      <td>Wife</td>\n",
       "      <td>Black</td>\n",
       "      <td>Female</td>\n",
       "      <td>0</td>\n",
       "      <td>0</td>\n",
       "      <td>40</td>\n",
       "      <td>Cuba</td>\n",
       "      <td>&lt;=50K</td>\n",
       "    </tr>\n",
       "    <tr>\n",
       "      <th>4</th>\n",
       "      <td>37</td>\n",
       "      <td>Private</td>\n",
       "      <td>284582</td>\n",
       "      <td>Masters</td>\n",
       "      <td>14</td>\n",
       "      <td>Married-civ-spouse</td>\n",
       "      <td>Exec-managerial</td>\n",
       "      <td>Wife</td>\n",
       "      <td>White</td>\n",
       "      <td>Female</td>\n",
       "      <td>0</td>\n",
       "      <td>0</td>\n",
       "      <td>40</td>\n",
       "      <td>United-States</td>\n",
       "      <td>&lt;=50K</td>\n",
       "    </tr>\n",
       "  </tbody>\n",
       "</table>\n",
       "</div>"
      ],
      "text/plain": [
       "   Age          State-gov   77516   Bachelors   13        Never-married  \\\n",
       "0   50   Self-emp-not-inc   83311   Bachelors   13   Married-civ-spouse   \n",
       "1   38            Private  215646     HS-grad    9             Divorced   \n",
       "2   53            Private  234721        11th    7   Married-civ-spouse   \n",
       "3   28            Private  338409   Bachelors   13   Married-civ-spouse   \n",
       "4   37            Private  284582     Masters   14   Married-civ-spouse   \n",
       "\n",
       "         Adm-clerical   Not-in-family   White     Male   2174   0   40  \\\n",
       "0     Exec-managerial         Husband   White     Male      0   0   13   \n",
       "1   Handlers-cleaners   Not-in-family   White     Male      0   0   40   \n",
       "2   Handlers-cleaners         Husband   Black     Male      0   0   40   \n",
       "3      Prof-specialty            Wife   Black   Female      0   0   40   \n",
       "4     Exec-managerial            Wife   White   Female      0   0   40   \n",
       "\n",
       "    United-States   <=50K  \n",
       "0   United-States   <=50K  \n",
       "1   United-States   <=50K  \n",
       "2   United-States   <=50K  \n",
       "3            Cuba   <=50K  \n",
       "4   United-States   <=50K  "
      ]
     },
     "execution_count": 23,
     "metadata": {},
     "output_type": "execute_result"
    }
   ],
   "source": [
    "df.head()"
   ]
  },
  {
   "cell_type": "code",
   "execution_count": 24,
   "metadata": {},
   "outputs": [
    {
     "data": {
      "text/plain": [
       "Index(['Age', ' State-gov', ' 77516', ' Bachelors', ' 13', ' Never-married',\n",
       "       ' Adm-clerical', ' Not-in-family', ' White', ' Male', ' 2174', ' 0',\n",
       "       ' 40', ' United-States', ' <=50K'],\n",
       "      dtype='object')"
      ]
     },
     "execution_count": 24,
     "metadata": {},
     "output_type": "execute_result"
    }
   ],
   "source": [
    "df.columns"
   ]
  },
  {
   "cell_type": "code",
   "execution_count": 25,
   "metadata": {},
   "outputs": [],
   "source": [
    "df.rename(columns={'39':'Age'},inplace=True)"
   ]
  },
  {
   "cell_type": "code",
   "execution_count": 26,
   "metadata": {},
   "outputs": [
    {
     "data": {
      "text/plain": [
       "Index(['Age', ' State-gov', ' 77516', ' Bachelors', ' 13', ' Never-married',\n",
       "       ' Adm-clerical', ' Not-in-family', ' White', ' Male', ' 2174', ' 0',\n",
       "       ' 40', ' United-States', ' <=50K'],\n",
       "      dtype='object')"
      ]
     },
     "execution_count": 26,
     "metadata": {},
     "output_type": "execute_result"
    }
   ],
   "source": [
    "df.columns"
   ]
  },
  {
   "cell_type": "code",
   "execution_count": 27,
   "metadata": {},
   "outputs": [
    {
     "data": {
      "text/plain": [
       "count    3.256000e+04\n",
       "mean     1.897818e+05\n",
       "std      1.055498e+05\n",
       "min      1.228500e+04\n",
       "25%      1.178315e+05\n",
       "50%      1.783630e+05\n",
       "75%      2.370545e+05\n",
       "max      1.484705e+06\n",
       "Name:  77516, dtype: float64"
      ]
     },
     "execution_count": 27,
     "metadata": {},
     "output_type": "execute_result"
    }
   ],
   "source": [
    "df[' 77516'].describe() # final weights fnlwgt"
   ]
  },
  {
   "cell_type": "code",
   "execution_count": 28,
   "metadata": {},
   "outputs": [],
   "source": [
    "df.rename(columns={' 77516':'fnlwgt'},inplace=True)"
   ]
  },
  {
   "cell_type": "code",
   "execution_count": 29,
   "metadata": {},
   "outputs": [],
   "source": [
    "#sb.pairplot(df.dropna())"
   ]
  },
  {
   "cell_type": "code",
   "execution_count": 30,
   "metadata": {},
   "outputs": [
    {
     "data": {
      "text/html": [
       "<div>\n",
       "<style scoped>\n",
       "    .dataframe tbody tr th:only-of-type {\n",
       "        vertical-align: middle;\n",
       "    }\n",
       "\n",
       "    .dataframe tbody tr th {\n",
       "        vertical-align: top;\n",
       "    }\n",
       "\n",
       "    .dataframe thead th {\n",
       "        text-align: right;\n",
       "    }\n",
       "</style>\n",
       "<table border=\"1\" class=\"dataframe\">\n",
       "  <thead>\n",
       "    <tr style=\"text-align: right;\">\n",
       "      <th></th>\n",
       "      <th>Age</th>\n",
       "      <th>State-gov</th>\n",
       "      <th>fnlwgt</th>\n",
       "      <th>Bachelors</th>\n",
       "      <th>13</th>\n",
       "      <th>Never-married</th>\n",
       "      <th>Adm-clerical</th>\n",
       "      <th>Not-in-family</th>\n",
       "      <th>White</th>\n",
       "      <th>Male</th>\n",
       "      <th>2174</th>\n",
       "      <th>0</th>\n",
       "      <th>40</th>\n",
       "      <th>United-States</th>\n",
       "      <th>&lt;=50K</th>\n",
       "    </tr>\n",
       "  </thead>\n",
       "  <tbody>\n",
       "    <tr>\n",
       "      <th>0</th>\n",
       "      <td>50</td>\n",
       "      <td>Self-emp-not-inc</td>\n",
       "      <td>83311</td>\n",
       "      <td>Bachelors</td>\n",
       "      <td>13</td>\n",
       "      <td>Married-civ-spouse</td>\n",
       "      <td>Exec-managerial</td>\n",
       "      <td>Husband</td>\n",
       "      <td>White</td>\n",
       "      <td>Male</td>\n",
       "      <td>0</td>\n",
       "      <td>0</td>\n",
       "      <td>13</td>\n",
       "      <td>United-States</td>\n",
       "      <td>&lt;=50K</td>\n",
       "    </tr>\n",
       "    <tr>\n",
       "      <th>1</th>\n",
       "      <td>38</td>\n",
       "      <td>Private</td>\n",
       "      <td>215646</td>\n",
       "      <td>HS-grad</td>\n",
       "      <td>9</td>\n",
       "      <td>Divorced</td>\n",
       "      <td>Handlers-cleaners</td>\n",
       "      <td>Not-in-family</td>\n",
       "      <td>White</td>\n",
       "      <td>Male</td>\n",
       "      <td>0</td>\n",
       "      <td>0</td>\n",
       "      <td>40</td>\n",
       "      <td>United-States</td>\n",
       "      <td>&lt;=50K</td>\n",
       "    </tr>\n",
       "    <tr>\n",
       "      <th>2</th>\n",
       "      <td>53</td>\n",
       "      <td>Private</td>\n",
       "      <td>234721</td>\n",
       "      <td>11th</td>\n",
       "      <td>7</td>\n",
       "      <td>Married-civ-spouse</td>\n",
       "      <td>Handlers-cleaners</td>\n",
       "      <td>Husband</td>\n",
       "      <td>Black</td>\n",
       "      <td>Male</td>\n",
       "      <td>0</td>\n",
       "      <td>0</td>\n",
       "      <td>40</td>\n",
       "      <td>United-States</td>\n",
       "      <td>&lt;=50K</td>\n",
       "    </tr>\n",
       "    <tr>\n",
       "      <th>3</th>\n",
       "      <td>28</td>\n",
       "      <td>Private</td>\n",
       "      <td>338409</td>\n",
       "      <td>Bachelors</td>\n",
       "      <td>13</td>\n",
       "      <td>Married-civ-spouse</td>\n",
       "      <td>Prof-specialty</td>\n",
       "      <td>Wife</td>\n",
       "      <td>Black</td>\n",
       "      <td>Female</td>\n",
       "      <td>0</td>\n",
       "      <td>0</td>\n",
       "      <td>40</td>\n",
       "      <td>Cuba</td>\n",
       "      <td>&lt;=50K</td>\n",
       "    </tr>\n",
       "    <tr>\n",
       "      <th>4</th>\n",
       "      <td>37</td>\n",
       "      <td>Private</td>\n",
       "      <td>284582</td>\n",
       "      <td>Masters</td>\n",
       "      <td>14</td>\n",
       "      <td>Married-civ-spouse</td>\n",
       "      <td>Exec-managerial</td>\n",
       "      <td>Wife</td>\n",
       "      <td>White</td>\n",
       "      <td>Female</td>\n",
       "      <td>0</td>\n",
       "      <td>0</td>\n",
       "      <td>40</td>\n",
       "      <td>United-States</td>\n",
       "      <td>&lt;=50K</td>\n",
       "    </tr>\n",
       "  </tbody>\n",
       "</table>\n",
       "</div>"
      ],
      "text/plain": [
       "   Age          State-gov  fnlwgt   Bachelors   13        Never-married  \\\n",
       "0   50   Self-emp-not-inc   83311   Bachelors   13   Married-civ-spouse   \n",
       "1   38            Private  215646     HS-grad    9             Divorced   \n",
       "2   53            Private  234721        11th    7   Married-civ-spouse   \n",
       "3   28            Private  338409   Bachelors   13   Married-civ-spouse   \n",
       "4   37            Private  284582     Masters   14   Married-civ-spouse   \n",
       "\n",
       "         Adm-clerical   Not-in-family   White     Male   2174   0   40  \\\n",
       "0     Exec-managerial         Husband   White     Male      0   0   13   \n",
       "1   Handlers-cleaners   Not-in-family   White     Male      0   0   40   \n",
       "2   Handlers-cleaners         Husband   Black     Male      0   0   40   \n",
       "3      Prof-specialty            Wife   Black   Female      0   0   40   \n",
       "4     Exec-managerial            Wife   White   Female      0   0   40   \n",
       "\n",
       "    United-States   <=50K  \n",
       "0   United-States   <=50K  \n",
       "1   United-States   <=50K  \n",
       "2   United-States   <=50K  \n",
       "3            Cuba   <=50K  \n",
       "4   United-States   <=50K  "
      ]
     },
     "execution_count": 30,
     "metadata": {},
     "output_type": "execute_result"
    }
   ],
   "source": [
    "df.head()"
   ]
  },
  {
   "cell_type": "code",
   "execution_count": 31,
   "metadata": {},
   "outputs": [
    {
     "data": {
      "text/plain": [
       "count    32560.000000\n",
       "mean        10.080590\n",
       "std          2.572709\n",
       "min          1.000000\n",
       "25%          9.000000\n",
       "50%         10.000000\n",
       "75%         12.000000\n",
       "max         16.000000\n",
       "Name:  13, dtype: float64"
      ]
     },
     "execution_count": 31,
     "metadata": {},
     "output_type": "execute_result"
    }
   ],
   "source": [
    "df[' 13'].describe() # education_num  - Numeric education level"
   ]
  },
  {
   "cell_type": "code",
   "execution_count": 32,
   "metadata": {},
   "outputs": [],
   "source": [
    "df.rename(columns={' 13':'education_num'},inplace=True)"
   ]
  },
  {
   "cell_type": "code",
   "execution_count": 33,
   "metadata": {},
   "outputs": [
    {
     "data": {
      "text/html": [
       "<div>\n",
       "<style scoped>\n",
       "    .dataframe tbody tr th:only-of-type {\n",
       "        vertical-align: middle;\n",
       "    }\n",
       "\n",
       "    .dataframe tbody tr th {\n",
       "        vertical-align: top;\n",
       "    }\n",
       "\n",
       "    .dataframe thead th {\n",
       "        text-align: right;\n",
       "    }\n",
       "</style>\n",
       "<table border=\"1\" class=\"dataframe\">\n",
       "  <thead>\n",
       "    <tr style=\"text-align: right;\">\n",
       "      <th></th>\n",
       "      <th>Age</th>\n",
       "      <th>State-gov</th>\n",
       "      <th>fnlwgt</th>\n",
       "      <th>Bachelors</th>\n",
       "      <th>education_num</th>\n",
       "      <th>Never-married</th>\n",
       "      <th>Adm-clerical</th>\n",
       "      <th>Not-in-family</th>\n",
       "      <th>White</th>\n",
       "      <th>Male</th>\n",
       "      <th>2174</th>\n",
       "      <th>0</th>\n",
       "      <th>40</th>\n",
       "      <th>United-States</th>\n",
       "      <th>&lt;=50K</th>\n",
       "    </tr>\n",
       "  </thead>\n",
       "  <tbody>\n",
       "    <tr>\n",
       "      <th>0</th>\n",
       "      <td>50</td>\n",
       "      <td>Self-emp-not-inc</td>\n",
       "      <td>83311</td>\n",
       "      <td>Bachelors</td>\n",
       "      <td>13</td>\n",
       "      <td>Married-civ-spouse</td>\n",
       "      <td>Exec-managerial</td>\n",
       "      <td>Husband</td>\n",
       "      <td>White</td>\n",
       "      <td>Male</td>\n",
       "      <td>0</td>\n",
       "      <td>0</td>\n",
       "      <td>13</td>\n",
       "      <td>United-States</td>\n",
       "      <td>&lt;=50K</td>\n",
       "    </tr>\n",
       "    <tr>\n",
       "      <th>1</th>\n",
       "      <td>38</td>\n",
       "      <td>Private</td>\n",
       "      <td>215646</td>\n",
       "      <td>HS-grad</td>\n",
       "      <td>9</td>\n",
       "      <td>Divorced</td>\n",
       "      <td>Handlers-cleaners</td>\n",
       "      <td>Not-in-family</td>\n",
       "      <td>White</td>\n",
       "      <td>Male</td>\n",
       "      <td>0</td>\n",
       "      <td>0</td>\n",
       "      <td>40</td>\n",
       "      <td>United-States</td>\n",
       "      <td>&lt;=50K</td>\n",
       "    </tr>\n",
       "    <tr>\n",
       "      <th>2</th>\n",
       "      <td>53</td>\n",
       "      <td>Private</td>\n",
       "      <td>234721</td>\n",
       "      <td>11th</td>\n",
       "      <td>7</td>\n",
       "      <td>Married-civ-spouse</td>\n",
       "      <td>Handlers-cleaners</td>\n",
       "      <td>Husband</td>\n",
       "      <td>Black</td>\n",
       "      <td>Male</td>\n",
       "      <td>0</td>\n",
       "      <td>0</td>\n",
       "      <td>40</td>\n",
       "      <td>United-States</td>\n",
       "      <td>&lt;=50K</td>\n",
       "    </tr>\n",
       "    <tr>\n",
       "      <th>3</th>\n",
       "      <td>28</td>\n",
       "      <td>Private</td>\n",
       "      <td>338409</td>\n",
       "      <td>Bachelors</td>\n",
       "      <td>13</td>\n",
       "      <td>Married-civ-spouse</td>\n",
       "      <td>Prof-specialty</td>\n",
       "      <td>Wife</td>\n",
       "      <td>Black</td>\n",
       "      <td>Female</td>\n",
       "      <td>0</td>\n",
       "      <td>0</td>\n",
       "      <td>40</td>\n",
       "      <td>Cuba</td>\n",
       "      <td>&lt;=50K</td>\n",
       "    </tr>\n",
       "    <tr>\n",
       "      <th>4</th>\n",
       "      <td>37</td>\n",
       "      <td>Private</td>\n",
       "      <td>284582</td>\n",
       "      <td>Masters</td>\n",
       "      <td>14</td>\n",
       "      <td>Married-civ-spouse</td>\n",
       "      <td>Exec-managerial</td>\n",
       "      <td>Wife</td>\n",
       "      <td>White</td>\n",
       "      <td>Female</td>\n",
       "      <td>0</td>\n",
       "      <td>0</td>\n",
       "      <td>40</td>\n",
       "      <td>United-States</td>\n",
       "      <td>&lt;=50K</td>\n",
       "    </tr>\n",
       "  </tbody>\n",
       "</table>\n",
       "</div>"
      ],
      "text/plain": [
       "   Age          State-gov  fnlwgt   Bachelors  education_num  \\\n",
       "0   50   Self-emp-not-inc   83311   Bachelors             13   \n",
       "1   38            Private  215646     HS-grad              9   \n",
       "2   53            Private  234721        11th              7   \n",
       "3   28            Private  338409   Bachelors             13   \n",
       "4   37            Private  284582     Masters             14   \n",
       "\n",
       "         Never-married        Adm-clerical   Not-in-family   White     Male  \\\n",
       "0   Married-civ-spouse     Exec-managerial         Husband   White     Male   \n",
       "1             Divorced   Handlers-cleaners   Not-in-family   White     Male   \n",
       "2   Married-civ-spouse   Handlers-cleaners         Husband   Black     Male   \n",
       "3   Married-civ-spouse      Prof-specialty            Wife   Black   Female   \n",
       "4   Married-civ-spouse     Exec-managerial            Wife   White   Female   \n",
       "\n",
       "    2174   0   40   United-States   <=50K  \n",
       "0      0   0   13   United-States   <=50K  \n",
       "1      0   0   40   United-States   <=50K  \n",
       "2      0   0   40   United-States   <=50K  \n",
       "3      0   0   40            Cuba   <=50K  \n",
       "4      0   0   40   United-States   <=50K  "
      ]
     },
     "execution_count": 33,
     "metadata": {},
     "output_type": "execute_result"
    }
   ],
   "source": [
    "df.head()"
   ]
  },
  {
   "cell_type": "code",
   "execution_count": 34,
   "metadata": {},
   "outputs": [
    {
     "data": {
      "text/plain": [
       "count    32560.000000\n",
       "mean      1077.615172\n",
       "std       7385.402999\n",
       "min          0.000000\n",
       "25%          0.000000\n",
       "50%          0.000000\n",
       "75%          0.000000\n",
       "max      99999.000000\n",
       "Name:  2174, dtype: float64"
      ]
     },
     "execution_count": 34,
     "metadata": {},
     "output_type": "execute_result"
    }
   ],
   "source": [
    "df[' 2174'].describe() # capital_gain"
   ]
  },
  {
   "cell_type": "code",
   "execution_count": 35,
   "metadata": {},
   "outputs": [],
   "source": [
    "df.rename(columns={' 2174':'capital_gain'},inplace=True)"
   ]
  },
  {
   "cell_type": "code",
   "execution_count": 36,
   "metadata": {},
   "outputs": [
    {
     "data": {
      "text/html": [
       "<div>\n",
       "<style scoped>\n",
       "    .dataframe tbody tr th:only-of-type {\n",
       "        vertical-align: middle;\n",
       "    }\n",
       "\n",
       "    .dataframe tbody tr th {\n",
       "        vertical-align: top;\n",
       "    }\n",
       "\n",
       "    .dataframe thead th {\n",
       "        text-align: right;\n",
       "    }\n",
       "</style>\n",
       "<table border=\"1\" class=\"dataframe\">\n",
       "  <thead>\n",
       "    <tr style=\"text-align: right;\">\n",
       "      <th></th>\n",
       "      <th>Age</th>\n",
       "      <th>State-gov</th>\n",
       "      <th>fnlwgt</th>\n",
       "      <th>Bachelors</th>\n",
       "      <th>education_num</th>\n",
       "      <th>Never-married</th>\n",
       "      <th>Adm-clerical</th>\n",
       "      <th>Not-in-family</th>\n",
       "      <th>White</th>\n",
       "      <th>Male</th>\n",
       "      <th>capital_gain</th>\n",
       "      <th>0</th>\n",
       "      <th>40</th>\n",
       "      <th>United-States</th>\n",
       "      <th>&lt;=50K</th>\n",
       "    </tr>\n",
       "  </thead>\n",
       "  <tbody>\n",
       "    <tr>\n",
       "      <th>0</th>\n",
       "      <td>50</td>\n",
       "      <td>Self-emp-not-inc</td>\n",
       "      <td>83311</td>\n",
       "      <td>Bachelors</td>\n",
       "      <td>13</td>\n",
       "      <td>Married-civ-spouse</td>\n",
       "      <td>Exec-managerial</td>\n",
       "      <td>Husband</td>\n",
       "      <td>White</td>\n",
       "      <td>Male</td>\n",
       "      <td>0</td>\n",
       "      <td>0</td>\n",
       "      <td>13</td>\n",
       "      <td>United-States</td>\n",
       "      <td>&lt;=50K</td>\n",
       "    </tr>\n",
       "    <tr>\n",
       "      <th>1</th>\n",
       "      <td>38</td>\n",
       "      <td>Private</td>\n",
       "      <td>215646</td>\n",
       "      <td>HS-grad</td>\n",
       "      <td>9</td>\n",
       "      <td>Divorced</td>\n",
       "      <td>Handlers-cleaners</td>\n",
       "      <td>Not-in-family</td>\n",
       "      <td>White</td>\n",
       "      <td>Male</td>\n",
       "      <td>0</td>\n",
       "      <td>0</td>\n",
       "      <td>40</td>\n",
       "      <td>United-States</td>\n",
       "      <td>&lt;=50K</td>\n",
       "    </tr>\n",
       "    <tr>\n",
       "      <th>2</th>\n",
       "      <td>53</td>\n",
       "      <td>Private</td>\n",
       "      <td>234721</td>\n",
       "      <td>11th</td>\n",
       "      <td>7</td>\n",
       "      <td>Married-civ-spouse</td>\n",
       "      <td>Handlers-cleaners</td>\n",
       "      <td>Husband</td>\n",
       "      <td>Black</td>\n",
       "      <td>Male</td>\n",
       "      <td>0</td>\n",
       "      <td>0</td>\n",
       "      <td>40</td>\n",
       "      <td>United-States</td>\n",
       "      <td>&lt;=50K</td>\n",
       "    </tr>\n",
       "    <tr>\n",
       "      <th>3</th>\n",
       "      <td>28</td>\n",
       "      <td>Private</td>\n",
       "      <td>338409</td>\n",
       "      <td>Bachelors</td>\n",
       "      <td>13</td>\n",
       "      <td>Married-civ-spouse</td>\n",
       "      <td>Prof-specialty</td>\n",
       "      <td>Wife</td>\n",
       "      <td>Black</td>\n",
       "      <td>Female</td>\n",
       "      <td>0</td>\n",
       "      <td>0</td>\n",
       "      <td>40</td>\n",
       "      <td>Cuba</td>\n",
       "      <td>&lt;=50K</td>\n",
       "    </tr>\n",
       "    <tr>\n",
       "      <th>4</th>\n",
       "      <td>37</td>\n",
       "      <td>Private</td>\n",
       "      <td>284582</td>\n",
       "      <td>Masters</td>\n",
       "      <td>14</td>\n",
       "      <td>Married-civ-spouse</td>\n",
       "      <td>Exec-managerial</td>\n",
       "      <td>Wife</td>\n",
       "      <td>White</td>\n",
       "      <td>Female</td>\n",
       "      <td>0</td>\n",
       "      <td>0</td>\n",
       "      <td>40</td>\n",
       "      <td>United-States</td>\n",
       "      <td>&lt;=50K</td>\n",
       "    </tr>\n",
       "  </tbody>\n",
       "</table>\n",
       "</div>"
      ],
      "text/plain": [
       "   Age          State-gov  fnlwgt   Bachelors  education_num  \\\n",
       "0   50   Self-emp-not-inc   83311   Bachelors             13   \n",
       "1   38            Private  215646     HS-grad              9   \n",
       "2   53            Private  234721        11th              7   \n",
       "3   28            Private  338409   Bachelors             13   \n",
       "4   37            Private  284582     Masters             14   \n",
       "\n",
       "         Never-married        Adm-clerical   Not-in-family   White     Male  \\\n",
       "0   Married-civ-spouse     Exec-managerial         Husband   White     Male   \n",
       "1             Divorced   Handlers-cleaners   Not-in-family   White     Male   \n",
       "2   Married-civ-spouse   Handlers-cleaners         Husband   Black     Male   \n",
       "3   Married-civ-spouse      Prof-specialty            Wife   Black   Female   \n",
       "4   Married-civ-spouse     Exec-managerial            Wife   White   Female   \n",
       "\n",
       "   capital_gain   0   40   United-States   <=50K  \n",
       "0             0   0   13   United-States   <=50K  \n",
       "1             0   0   40   United-States   <=50K  \n",
       "2             0   0   40   United-States   <=50K  \n",
       "3             0   0   40            Cuba   <=50K  \n",
       "4             0   0   40   United-States   <=50K  "
      ]
     },
     "execution_count": 36,
     "metadata": {},
     "output_type": "execute_result"
    }
   ],
   "source": [
    "df.head()"
   ]
  },
  {
   "cell_type": "code",
   "execution_count": 37,
   "metadata": {},
   "outputs": [
    {
     "data": {
      "text/plain": [
       "count    32560.000000\n",
       "mean        87.306511\n",
       "std        402.966116\n",
       "min          0.000000\n",
       "25%          0.000000\n",
       "50%          0.000000\n",
       "75%          0.000000\n",
       "max       4356.000000\n",
       "Name:  0, dtype: float64"
      ]
     },
     "execution_count": 37,
     "metadata": {},
     "output_type": "execute_result"
    }
   ],
   "source": [
    "df[' 0'].describe() #capital_loss"
   ]
  },
  {
   "cell_type": "code",
   "execution_count": 38,
   "metadata": {},
   "outputs": [],
   "source": [
    "df.rename(columns={' 0':'capital_loss'},inplace=True)"
   ]
  },
  {
   "cell_type": "code",
   "execution_count": 39,
   "metadata": {},
   "outputs": [
    {
     "data": {
      "text/plain": [
       "count    32560.000000\n",
       "mean        40.437469\n",
       "std         12.347618\n",
       "min          1.000000\n",
       "25%         40.000000\n",
       "50%         40.000000\n",
       "75%         45.000000\n",
       "max         99.000000\n",
       "Name:  40, dtype: float64"
      ]
     },
     "execution_count": 39,
     "metadata": {},
     "output_type": "execute_result"
    }
   ],
   "source": [
    "df[' 40'].describe() # hours_per_week"
   ]
  },
  {
   "cell_type": "code",
   "execution_count": 40,
   "metadata": {},
   "outputs": [],
   "source": [
    "df.rename(columns={' 40':'hours_per_week','United-States':'Country','Not-in-family':'Relationship'},inplace=True)\n"
   ]
  },
  {
   "cell_type": "code",
   "execution_count": 41,
   "metadata": {},
   "outputs": [
    {
     "data": {
      "text/html": [
       "<div>\n",
       "<style scoped>\n",
       "    .dataframe tbody tr th:only-of-type {\n",
       "        vertical-align: middle;\n",
       "    }\n",
       "\n",
       "    .dataframe tbody tr th {\n",
       "        vertical-align: top;\n",
       "    }\n",
       "\n",
       "    .dataframe thead th {\n",
       "        text-align: right;\n",
       "    }\n",
       "</style>\n",
       "<table border=\"1\" class=\"dataframe\">\n",
       "  <thead>\n",
       "    <tr style=\"text-align: right;\">\n",
       "      <th></th>\n",
       "      <th>Age</th>\n",
       "      <th>State-gov</th>\n",
       "      <th>fnlwgt</th>\n",
       "      <th>Bachelors</th>\n",
       "      <th>education_num</th>\n",
       "      <th>Never-married</th>\n",
       "      <th>Adm-clerical</th>\n",
       "      <th>Not-in-family</th>\n",
       "      <th>White</th>\n",
       "      <th>Male</th>\n",
       "      <th>capital_gain</th>\n",
       "      <th>capital_loss</th>\n",
       "      <th>hours_per_week</th>\n",
       "      <th>United-States</th>\n",
       "      <th>&lt;=50K</th>\n",
       "    </tr>\n",
       "  </thead>\n",
       "  <tbody>\n",
       "    <tr>\n",
       "      <th>0</th>\n",
       "      <td>50</td>\n",
       "      <td>Self-emp-not-inc</td>\n",
       "      <td>83311</td>\n",
       "      <td>Bachelors</td>\n",
       "      <td>13</td>\n",
       "      <td>Married-civ-spouse</td>\n",
       "      <td>Exec-managerial</td>\n",
       "      <td>Husband</td>\n",
       "      <td>White</td>\n",
       "      <td>Male</td>\n",
       "      <td>0</td>\n",
       "      <td>0</td>\n",
       "      <td>13</td>\n",
       "      <td>United-States</td>\n",
       "      <td>&lt;=50K</td>\n",
       "    </tr>\n",
       "    <tr>\n",
       "      <th>1</th>\n",
       "      <td>38</td>\n",
       "      <td>Private</td>\n",
       "      <td>215646</td>\n",
       "      <td>HS-grad</td>\n",
       "      <td>9</td>\n",
       "      <td>Divorced</td>\n",
       "      <td>Handlers-cleaners</td>\n",
       "      <td>Not-in-family</td>\n",
       "      <td>White</td>\n",
       "      <td>Male</td>\n",
       "      <td>0</td>\n",
       "      <td>0</td>\n",
       "      <td>40</td>\n",
       "      <td>United-States</td>\n",
       "      <td>&lt;=50K</td>\n",
       "    </tr>\n",
       "    <tr>\n",
       "      <th>2</th>\n",
       "      <td>53</td>\n",
       "      <td>Private</td>\n",
       "      <td>234721</td>\n",
       "      <td>11th</td>\n",
       "      <td>7</td>\n",
       "      <td>Married-civ-spouse</td>\n",
       "      <td>Handlers-cleaners</td>\n",
       "      <td>Husband</td>\n",
       "      <td>Black</td>\n",
       "      <td>Male</td>\n",
       "      <td>0</td>\n",
       "      <td>0</td>\n",
       "      <td>40</td>\n",
       "      <td>United-States</td>\n",
       "      <td>&lt;=50K</td>\n",
       "    </tr>\n",
       "    <tr>\n",
       "      <th>3</th>\n",
       "      <td>28</td>\n",
       "      <td>Private</td>\n",
       "      <td>338409</td>\n",
       "      <td>Bachelors</td>\n",
       "      <td>13</td>\n",
       "      <td>Married-civ-spouse</td>\n",
       "      <td>Prof-specialty</td>\n",
       "      <td>Wife</td>\n",
       "      <td>Black</td>\n",
       "      <td>Female</td>\n",
       "      <td>0</td>\n",
       "      <td>0</td>\n",
       "      <td>40</td>\n",
       "      <td>Cuba</td>\n",
       "      <td>&lt;=50K</td>\n",
       "    </tr>\n",
       "    <tr>\n",
       "      <th>4</th>\n",
       "      <td>37</td>\n",
       "      <td>Private</td>\n",
       "      <td>284582</td>\n",
       "      <td>Masters</td>\n",
       "      <td>14</td>\n",
       "      <td>Married-civ-spouse</td>\n",
       "      <td>Exec-managerial</td>\n",
       "      <td>Wife</td>\n",
       "      <td>White</td>\n",
       "      <td>Female</td>\n",
       "      <td>0</td>\n",
       "      <td>0</td>\n",
       "      <td>40</td>\n",
       "      <td>United-States</td>\n",
       "      <td>&lt;=50K</td>\n",
       "    </tr>\n",
       "  </tbody>\n",
       "</table>\n",
       "</div>"
      ],
      "text/plain": [
       "   Age          State-gov  fnlwgt   Bachelors  education_num  \\\n",
       "0   50   Self-emp-not-inc   83311   Bachelors             13   \n",
       "1   38            Private  215646     HS-grad              9   \n",
       "2   53            Private  234721        11th              7   \n",
       "3   28            Private  338409   Bachelors             13   \n",
       "4   37            Private  284582     Masters             14   \n",
       "\n",
       "         Never-married        Adm-clerical   Not-in-family   White     Male  \\\n",
       "0   Married-civ-spouse     Exec-managerial         Husband   White     Male   \n",
       "1             Divorced   Handlers-cleaners   Not-in-family   White     Male   \n",
       "2   Married-civ-spouse   Handlers-cleaners         Husband   Black     Male   \n",
       "3   Married-civ-spouse      Prof-specialty            Wife   Black   Female   \n",
       "4   Married-civ-spouse     Exec-managerial            Wife   White   Female   \n",
       "\n",
       "   capital_gain  capital_loss  hours_per_week   United-States   <=50K  \n",
       "0             0             0              13   United-States   <=50K  \n",
       "1             0             0              40   United-States   <=50K  \n",
       "2             0             0              40   United-States   <=50K  \n",
       "3             0             0              40            Cuba   <=50K  \n",
       "4             0             0              40   United-States   <=50K  "
      ]
     },
     "execution_count": 41,
     "metadata": {},
     "output_type": "execute_result"
    }
   ],
   "source": [
    "df.head()"
   ]
  },
  {
   "cell_type": "code",
   "execution_count": 42,
   "metadata": {},
   "outputs": [],
   "source": [
    "#sb.factorplot('<=50K',data=df,hue='White')"
   ]
  },
  {
   "cell_type": "code",
   "execution_count": 43,
   "metadata": {},
   "outputs": [],
   "source": [
    "df2 = df.copy(deep=True)"
   ]
  },
  {
   "cell_type": "code",
   "execution_count": 44,
   "metadata": {},
   "outputs": [],
   "source": [
    "fif = pd.get_dummies(df2[' <=50K'])"
   ]
  },
  {
   "cell_type": "code",
   "execution_count": 45,
   "metadata": {},
   "outputs": [
    {
     "data": {
      "text/html": [
       "<div>\n",
       "<style scoped>\n",
       "    .dataframe tbody tr th:only-of-type {\n",
       "        vertical-align: middle;\n",
       "    }\n",
       "\n",
       "    .dataframe tbody tr th {\n",
       "        vertical-align: top;\n",
       "    }\n",
       "\n",
       "    .dataframe thead th {\n",
       "        text-align: right;\n",
       "    }\n",
       "</style>\n",
       "<table border=\"1\" class=\"dataframe\">\n",
       "  <thead>\n",
       "    <tr style=\"text-align: right;\">\n",
       "      <th></th>\n",
       "      <th>&lt;=50K</th>\n",
       "      <th>&gt;50K</th>\n",
       "    </tr>\n",
       "  </thead>\n",
       "  <tbody>\n",
       "    <tr>\n",
       "      <th>0</th>\n",
       "      <td>1</td>\n",
       "      <td>0</td>\n",
       "    </tr>\n",
       "    <tr>\n",
       "      <th>1</th>\n",
       "      <td>1</td>\n",
       "      <td>0</td>\n",
       "    </tr>\n",
       "    <tr>\n",
       "      <th>2</th>\n",
       "      <td>1</td>\n",
       "      <td>0</td>\n",
       "    </tr>\n",
       "    <tr>\n",
       "      <th>3</th>\n",
       "      <td>1</td>\n",
       "      <td>0</td>\n",
       "    </tr>\n",
       "    <tr>\n",
       "      <th>4</th>\n",
       "      <td>1</td>\n",
       "      <td>0</td>\n",
       "    </tr>\n",
       "  </tbody>\n",
       "</table>\n",
       "</div>"
      ],
      "text/plain": [
       "    <=50K   >50K\n",
       "0       1      0\n",
       "1       1      0\n",
       "2       1      0\n",
       "3       1      0\n",
       "4       1      0"
      ]
     },
     "execution_count": 45,
     "metadata": {},
     "output_type": "execute_result"
    }
   ],
   "source": [
    "fif.head()"
   ]
  },
  {
   "cell_type": "code",
   "execution_count": 46,
   "metadata": {},
   "outputs": [
    {
     "data": {
      "text/plain": [
       "numpy.uint8"
      ]
     },
     "execution_count": 46,
     "metadata": {},
     "output_type": "execute_result"
    }
   ],
   "source": [
    "type(fif[' >50K'][1])"
   ]
  },
  {
   "cell_type": "code",
   "execution_count": 47,
   "metadata": {},
   "outputs": [],
   "source": [
    "def fifty(val):\n",
    "    return val == ' <=50K'"
   ]
  },
  {
   "cell_type": "code",
   "execution_count": 48,
   "metadata": {},
   "outputs": [],
   "source": [
    "#df2['<=50K']"
   ]
  },
  {
   "cell_type": "code",
   "execution_count": 49,
   "metadata": {},
   "outputs": [],
   "source": [
    "#titanic_df['person'] = titanic_df[['Age','Sex']].apply(male_female_child,axis=1)\n",
    "df2['less than 50K'] = df2[[' <=50K']].apply(fifty,axis=1)"
   ]
  },
  {
   "cell_type": "code",
   "execution_count": 50,
   "metadata": {},
   "outputs": [
    {
     "data": {
      "text/plain": [
       "True     24719\n",
       "False     7841\n",
       "Name: less than 50K, dtype: int64"
      ]
     },
     "execution_count": 50,
     "metadata": {},
     "output_type": "execute_result"
    }
   ],
   "source": [
    "df2['less than 50K'].value_counts()"
   ]
  },
  {
   "cell_type": "code",
   "execution_count": 51,
   "metadata": {},
   "outputs": [
    {
     "data": {
      "text/html": [
       "<div>\n",
       "<style scoped>\n",
       "    .dataframe tbody tr th:only-of-type {\n",
       "        vertical-align: middle;\n",
       "    }\n",
       "\n",
       "    .dataframe tbody tr th {\n",
       "        vertical-align: top;\n",
       "    }\n",
       "\n",
       "    .dataframe thead th {\n",
       "        text-align: right;\n",
       "    }\n",
       "</style>\n",
       "<table border=\"1\" class=\"dataframe\">\n",
       "  <thead>\n",
       "    <tr style=\"text-align: right;\">\n",
       "      <th></th>\n",
       "      <th>Age</th>\n",
       "      <th>State-gov</th>\n",
       "      <th>fnlwgt</th>\n",
       "      <th>Bachelors</th>\n",
       "      <th>education_num</th>\n",
       "      <th>Never-married</th>\n",
       "      <th>Adm-clerical</th>\n",
       "      <th>Not-in-family</th>\n",
       "      <th>White</th>\n",
       "      <th>Male</th>\n",
       "      <th>capital_gain</th>\n",
       "      <th>capital_loss</th>\n",
       "      <th>hours_per_week</th>\n",
       "      <th>United-States</th>\n",
       "      <th>&lt;=50K</th>\n",
       "      <th>less than 50K</th>\n",
       "    </tr>\n",
       "  </thead>\n",
       "  <tbody>\n",
       "    <tr>\n",
       "      <th>0</th>\n",
       "      <td>50</td>\n",
       "      <td>Self-emp-not-inc</td>\n",
       "      <td>83311</td>\n",
       "      <td>Bachelors</td>\n",
       "      <td>13</td>\n",
       "      <td>Married-civ-spouse</td>\n",
       "      <td>Exec-managerial</td>\n",
       "      <td>Husband</td>\n",
       "      <td>White</td>\n",
       "      <td>Male</td>\n",
       "      <td>0</td>\n",
       "      <td>0</td>\n",
       "      <td>13</td>\n",
       "      <td>United-States</td>\n",
       "      <td>&lt;=50K</td>\n",
       "      <td>True</td>\n",
       "    </tr>\n",
       "    <tr>\n",
       "      <th>1</th>\n",
       "      <td>38</td>\n",
       "      <td>Private</td>\n",
       "      <td>215646</td>\n",
       "      <td>HS-grad</td>\n",
       "      <td>9</td>\n",
       "      <td>Divorced</td>\n",
       "      <td>Handlers-cleaners</td>\n",
       "      <td>Not-in-family</td>\n",
       "      <td>White</td>\n",
       "      <td>Male</td>\n",
       "      <td>0</td>\n",
       "      <td>0</td>\n",
       "      <td>40</td>\n",
       "      <td>United-States</td>\n",
       "      <td>&lt;=50K</td>\n",
       "      <td>True</td>\n",
       "    </tr>\n",
       "    <tr>\n",
       "      <th>2</th>\n",
       "      <td>53</td>\n",
       "      <td>Private</td>\n",
       "      <td>234721</td>\n",
       "      <td>11th</td>\n",
       "      <td>7</td>\n",
       "      <td>Married-civ-spouse</td>\n",
       "      <td>Handlers-cleaners</td>\n",
       "      <td>Husband</td>\n",
       "      <td>Black</td>\n",
       "      <td>Male</td>\n",
       "      <td>0</td>\n",
       "      <td>0</td>\n",
       "      <td>40</td>\n",
       "      <td>United-States</td>\n",
       "      <td>&lt;=50K</td>\n",
       "      <td>True</td>\n",
       "    </tr>\n",
       "    <tr>\n",
       "      <th>3</th>\n",
       "      <td>28</td>\n",
       "      <td>Private</td>\n",
       "      <td>338409</td>\n",
       "      <td>Bachelors</td>\n",
       "      <td>13</td>\n",
       "      <td>Married-civ-spouse</td>\n",
       "      <td>Prof-specialty</td>\n",
       "      <td>Wife</td>\n",
       "      <td>Black</td>\n",
       "      <td>Female</td>\n",
       "      <td>0</td>\n",
       "      <td>0</td>\n",
       "      <td>40</td>\n",
       "      <td>Cuba</td>\n",
       "      <td>&lt;=50K</td>\n",
       "      <td>True</td>\n",
       "    </tr>\n",
       "    <tr>\n",
       "      <th>4</th>\n",
       "      <td>37</td>\n",
       "      <td>Private</td>\n",
       "      <td>284582</td>\n",
       "      <td>Masters</td>\n",
       "      <td>14</td>\n",
       "      <td>Married-civ-spouse</td>\n",
       "      <td>Exec-managerial</td>\n",
       "      <td>Wife</td>\n",
       "      <td>White</td>\n",
       "      <td>Female</td>\n",
       "      <td>0</td>\n",
       "      <td>0</td>\n",
       "      <td>40</td>\n",
       "      <td>United-States</td>\n",
       "      <td>&lt;=50K</td>\n",
       "      <td>True</td>\n",
       "    </tr>\n",
       "  </tbody>\n",
       "</table>\n",
       "</div>"
      ],
      "text/plain": [
       "   Age          State-gov  fnlwgt   Bachelors  education_num  \\\n",
       "0   50   Self-emp-not-inc   83311   Bachelors             13   \n",
       "1   38            Private  215646     HS-grad              9   \n",
       "2   53            Private  234721        11th              7   \n",
       "3   28            Private  338409   Bachelors             13   \n",
       "4   37            Private  284582     Masters             14   \n",
       "\n",
       "         Never-married        Adm-clerical   Not-in-family   White     Male  \\\n",
       "0   Married-civ-spouse     Exec-managerial         Husband   White     Male   \n",
       "1             Divorced   Handlers-cleaners   Not-in-family   White     Male   \n",
       "2   Married-civ-spouse   Handlers-cleaners         Husband   Black     Male   \n",
       "3   Married-civ-spouse      Prof-specialty            Wife   Black   Female   \n",
       "4   Married-civ-spouse     Exec-managerial            Wife   White   Female   \n",
       "\n",
       "   capital_gain  capital_loss  hours_per_week   United-States   <=50K  \\\n",
       "0             0             0              13   United-States   <=50K   \n",
       "1             0             0              40   United-States   <=50K   \n",
       "2             0             0              40   United-States   <=50K   \n",
       "3             0             0              40            Cuba   <=50K   \n",
       "4             0             0              40   United-States   <=50K   \n",
       "\n",
       "   less than 50K  \n",
       "0           True  \n",
       "1           True  \n",
       "2           True  \n",
       "3           True  \n",
       "4           True  "
      ]
     },
     "execution_count": 51,
     "metadata": {},
     "output_type": "execute_result"
    }
   ],
   "source": [
    "df2.head()"
   ]
  },
  {
   "cell_type": "code",
   "execution_count": 52,
   "metadata": {},
   "outputs": [
    {
     "data": {
      "text/html": [
       "<div>\n",
       "<style scoped>\n",
       "    .dataframe tbody tr th:only-of-type {\n",
       "        vertical-align: middle;\n",
       "    }\n",
       "\n",
       "    .dataframe tbody tr th {\n",
       "        vertical-align: top;\n",
       "    }\n",
       "\n",
       "    .dataframe thead th {\n",
       "        text-align: right;\n",
       "    }\n",
       "</style>\n",
       "<table border=\"1\" class=\"dataframe\">\n",
       "  <thead>\n",
       "    <tr style=\"text-align: right;\">\n",
       "      <th></th>\n",
       "      <th>Age</th>\n",
       "      <th>State-gov</th>\n",
       "      <th>fnlwgt</th>\n",
       "      <th>Bachelors</th>\n",
       "      <th>education_num</th>\n",
       "      <th>Never-married</th>\n",
       "      <th>Adm-clerical</th>\n",
       "      <th>Not-in-family</th>\n",
       "      <th>White</th>\n",
       "      <th>Male</th>\n",
       "      <th>capital_gain</th>\n",
       "      <th>capital_loss</th>\n",
       "      <th>hours_per_week</th>\n",
       "      <th>United-States</th>\n",
       "      <th>&lt;=50K</th>\n",
       "      <th>less than 50K</th>\n",
       "    </tr>\n",
       "  </thead>\n",
       "  <tbody>\n",
       "    <tr>\n",
       "      <th>32555</th>\n",
       "      <td>27</td>\n",
       "      <td>Private</td>\n",
       "      <td>257302</td>\n",
       "      <td>Assoc-acdm</td>\n",
       "      <td>12</td>\n",
       "      <td>Married-civ-spouse</td>\n",
       "      <td>Tech-support</td>\n",
       "      <td>Wife</td>\n",
       "      <td>White</td>\n",
       "      <td>Female</td>\n",
       "      <td>0</td>\n",
       "      <td>0</td>\n",
       "      <td>38</td>\n",
       "      <td>United-States</td>\n",
       "      <td>&lt;=50K</td>\n",
       "      <td>True</td>\n",
       "    </tr>\n",
       "    <tr>\n",
       "      <th>32556</th>\n",
       "      <td>40</td>\n",
       "      <td>Private</td>\n",
       "      <td>154374</td>\n",
       "      <td>HS-grad</td>\n",
       "      <td>9</td>\n",
       "      <td>Married-civ-spouse</td>\n",
       "      <td>Machine-op-inspct</td>\n",
       "      <td>Husband</td>\n",
       "      <td>White</td>\n",
       "      <td>Male</td>\n",
       "      <td>0</td>\n",
       "      <td>0</td>\n",
       "      <td>40</td>\n",
       "      <td>United-States</td>\n",
       "      <td>&gt;50K</td>\n",
       "      <td>False</td>\n",
       "    </tr>\n",
       "    <tr>\n",
       "      <th>32557</th>\n",
       "      <td>58</td>\n",
       "      <td>Private</td>\n",
       "      <td>151910</td>\n",
       "      <td>HS-grad</td>\n",
       "      <td>9</td>\n",
       "      <td>Widowed</td>\n",
       "      <td>Adm-clerical</td>\n",
       "      <td>Unmarried</td>\n",
       "      <td>White</td>\n",
       "      <td>Female</td>\n",
       "      <td>0</td>\n",
       "      <td>0</td>\n",
       "      <td>40</td>\n",
       "      <td>United-States</td>\n",
       "      <td>&lt;=50K</td>\n",
       "      <td>True</td>\n",
       "    </tr>\n",
       "    <tr>\n",
       "      <th>32558</th>\n",
       "      <td>22</td>\n",
       "      <td>Private</td>\n",
       "      <td>201490</td>\n",
       "      <td>HS-grad</td>\n",
       "      <td>9</td>\n",
       "      <td>Never-married</td>\n",
       "      <td>Adm-clerical</td>\n",
       "      <td>Own-child</td>\n",
       "      <td>White</td>\n",
       "      <td>Male</td>\n",
       "      <td>0</td>\n",
       "      <td>0</td>\n",
       "      <td>20</td>\n",
       "      <td>United-States</td>\n",
       "      <td>&lt;=50K</td>\n",
       "      <td>True</td>\n",
       "    </tr>\n",
       "    <tr>\n",
       "      <th>32559</th>\n",
       "      <td>52</td>\n",
       "      <td>Self-emp-inc</td>\n",
       "      <td>287927</td>\n",
       "      <td>HS-grad</td>\n",
       "      <td>9</td>\n",
       "      <td>Married-civ-spouse</td>\n",
       "      <td>Exec-managerial</td>\n",
       "      <td>Wife</td>\n",
       "      <td>White</td>\n",
       "      <td>Female</td>\n",
       "      <td>15024</td>\n",
       "      <td>0</td>\n",
       "      <td>40</td>\n",
       "      <td>United-States</td>\n",
       "      <td>&gt;50K</td>\n",
       "      <td>False</td>\n",
       "    </tr>\n",
       "  </tbody>\n",
       "</table>\n",
       "</div>"
      ],
      "text/plain": [
       "       Age      State-gov  fnlwgt    Bachelors  education_num  \\\n",
       "32555   27        Private  257302   Assoc-acdm             12   \n",
       "32556   40        Private  154374      HS-grad              9   \n",
       "32557   58        Private  151910      HS-grad              9   \n",
       "32558   22        Private  201490      HS-grad              9   \n",
       "32559   52   Self-emp-inc  287927      HS-grad              9   \n",
       "\n",
       "             Never-married        Adm-clerical  Not-in-family   White  \\\n",
       "32555   Married-civ-spouse        Tech-support           Wife   White   \n",
       "32556   Married-civ-spouse   Machine-op-inspct        Husband   White   \n",
       "32557              Widowed        Adm-clerical      Unmarried   White   \n",
       "32558        Never-married        Adm-clerical      Own-child   White   \n",
       "32559   Married-civ-spouse     Exec-managerial           Wife   White   \n",
       "\n",
       "          Male  capital_gain  capital_loss  hours_per_week   United-States  \\\n",
       "32555   Female             0             0              38   United-States   \n",
       "32556     Male             0             0              40   United-States   \n",
       "32557   Female             0             0              40   United-States   \n",
       "32558     Male             0             0              20   United-States   \n",
       "32559   Female         15024             0              40   United-States   \n",
       "\n",
       "        <=50K  less than 50K  \n",
       "32555   <=50K           True  \n",
       "32556    >50K          False  \n",
       "32557   <=50K           True  \n",
       "32558   <=50K           True  \n",
       "32559    >50K          False  "
      ]
     },
     "execution_count": 52,
     "metadata": {},
     "output_type": "execute_result"
    }
   ],
   "source": [
    "df2.tail()"
   ]
  },
  {
   "cell_type": "code",
   "execution_count": 53,
   "metadata": {},
   "outputs": [
    {
     "data": {
      "text/plain": [
       "' >50K'"
      ]
     },
     "execution_count": 53,
     "metadata": {},
     "output_type": "execute_result"
    }
   ],
   "source": [
    "df2[' <=50K'][32559]"
   ]
  },
  {
   "cell_type": "code",
   "execution_count": 54,
   "metadata": {},
   "outputs": [
    {
     "data": {
      "text/plain": [
       " <=50K    24719\n",
       " >50K      7841\n",
       "Name:  <=50K, dtype: int64"
      ]
     },
     "execution_count": 54,
     "metadata": {},
     "output_type": "execute_result"
    }
   ],
   "source": [
    "df2[' <=50K'].value_counts()"
   ]
  },
  {
   "cell_type": "code",
   "execution_count": 55,
   "metadata": {},
   "outputs": [
    {
     "data": {
      "text/plain": [
       "True     24719\n",
       "False     7841\n",
       "Name: less than 50K, dtype: int64"
      ]
     },
     "execution_count": 55,
     "metadata": {},
     "output_type": "execute_result"
    }
   ],
   "source": [
    "df2['less than 50K'].value_counts()"
   ]
  },
  {
   "cell_type": "code",
   "execution_count": 56,
   "metadata": {},
   "outputs": [],
   "source": [
    "df2['less than 50K'] = df2['less than 50K'].astype(int)"
   ]
  },
  {
   "cell_type": "code",
   "execution_count": 57,
   "metadata": {},
   "outputs": [
    {
     "data": {
      "text/plain": [
       "1    24719\n",
       "0     7841\n",
       "Name: less than 50K, dtype: int64"
      ]
     },
     "execution_count": 57,
     "metadata": {},
     "output_type": "execute_result"
    }
   ],
   "source": [
    "df2['less than 50K'].value_counts()"
   ]
  },
  {
   "cell_type": "code",
   "execution_count": 58,
   "metadata": {},
   "outputs": [
    {
     "data": {
      "text/html": [
       "<div>\n",
       "<style scoped>\n",
       "    .dataframe tbody tr th:only-of-type {\n",
       "        vertical-align: middle;\n",
       "    }\n",
       "\n",
       "    .dataframe tbody tr th {\n",
       "        vertical-align: top;\n",
       "    }\n",
       "\n",
       "    .dataframe thead th {\n",
       "        text-align: right;\n",
       "    }\n",
       "</style>\n",
       "<table border=\"1\" class=\"dataframe\">\n",
       "  <thead>\n",
       "    <tr style=\"text-align: right;\">\n",
       "      <th></th>\n",
       "      <th>Age</th>\n",
       "      <th>State-gov</th>\n",
       "      <th>fnlwgt</th>\n",
       "      <th>Bachelors</th>\n",
       "      <th>education_num</th>\n",
       "      <th>Never-married</th>\n",
       "      <th>Adm-clerical</th>\n",
       "      <th>Not-in-family</th>\n",
       "      <th>White</th>\n",
       "      <th>Male</th>\n",
       "      <th>capital_gain</th>\n",
       "      <th>capital_loss</th>\n",
       "      <th>hours_per_week</th>\n",
       "      <th>United-States</th>\n",
       "      <th>&lt;=50K</th>\n",
       "      <th>less than 50K</th>\n",
       "    </tr>\n",
       "  </thead>\n",
       "  <tbody>\n",
       "    <tr>\n",
       "      <th>0</th>\n",
       "      <td>50</td>\n",
       "      <td>Self-emp-not-inc</td>\n",
       "      <td>83311</td>\n",
       "      <td>Bachelors</td>\n",
       "      <td>13</td>\n",
       "      <td>Married-civ-spouse</td>\n",
       "      <td>Exec-managerial</td>\n",
       "      <td>Husband</td>\n",
       "      <td>White</td>\n",
       "      <td>Male</td>\n",
       "      <td>0</td>\n",
       "      <td>0</td>\n",
       "      <td>13</td>\n",
       "      <td>United-States</td>\n",
       "      <td>&lt;=50K</td>\n",
       "      <td>1</td>\n",
       "    </tr>\n",
       "    <tr>\n",
       "      <th>1</th>\n",
       "      <td>38</td>\n",
       "      <td>Private</td>\n",
       "      <td>215646</td>\n",
       "      <td>HS-grad</td>\n",
       "      <td>9</td>\n",
       "      <td>Divorced</td>\n",
       "      <td>Handlers-cleaners</td>\n",
       "      <td>Not-in-family</td>\n",
       "      <td>White</td>\n",
       "      <td>Male</td>\n",
       "      <td>0</td>\n",
       "      <td>0</td>\n",
       "      <td>40</td>\n",
       "      <td>United-States</td>\n",
       "      <td>&lt;=50K</td>\n",
       "      <td>1</td>\n",
       "    </tr>\n",
       "    <tr>\n",
       "      <th>2</th>\n",
       "      <td>53</td>\n",
       "      <td>Private</td>\n",
       "      <td>234721</td>\n",
       "      <td>11th</td>\n",
       "      <td>7</td>\n",
       "      <td>Married-civ-spouse</td>\n",
       "      <td>Handlers-cleaners</td>\n",
       "      <td>Husband</td>\n",
       "      <td>Black</td>\n",
       "      <td>Male</td>\n",
       "      <td>0</td>\n",
       "      <td>0</td>\n",
       "      <td>40</td>\n",
       "      <td>United-States</td>\n",
       "      <td>&lt;=50K</td>\n",
       "      <td>1</td>\n",
       "    </tr>\n",
       "    <tr>\n",
       "      <th>3</th>\n",
       "      <td>28</td>\n",
       "      <td>Private</td>\n",
       "      <td>338409</td>\n",
       "      <td>Bachelors</td>\n",
       "      <td>13</td>\n",
       "      <td>Married-civ-spouse</td>\n",
       "      <td>Prof-specialty</td>\n",
       "      <td>Wife</td>\n",
       "      <td>Black</td>\n",
       "      <td>Female</td>\n",
       "      <td>0</td>\n",
       "      <td>0</td>\n",
       "      <td>40</td>\n",
       "      <td>Cuba</td>\n",
       "      <td>&lt;=50K</td>\n",
       "      <td>1</td>\n",
       "    </tr>\n",
       "    <tr>\n",
       "      <th>4</th>\n",
       "      <td>37</td>\n",
       "      <td>Private</td>\n",
       "      <td>284582</td>\n",
       "      <td>Masters</td>\n",
       "      <td>14</td>\n",
       "      <td>Married-civ-spouse</td>\n",
       "      <td>Exec-managerial</td>\n",
       "      <td>Wife</td>\n",
       "      <td>White</td>\n",
       "      <td>Female</td>\n",
       "      <td>0</td>\n",
       "      <td>0</td>\n",
       "      <td>40</td>\n",
       "      <td>United-States</td>\n",
       "      <td>&lt;=50K</td>\n",
       "      <td>1</td>\n",
       "    </tr>\n",
       "  </tbody>\n",
       "</table>\n",
       "</div>"
      ],
      "text/plain": [
       "   Age          State-gov  fnlwgt   Bachelors  education_num  \\\n",
       "0   50   Self-emp-not-inc   83311   Bachelors             13   \n",
       "1   38            Private  215646     HS-grad              9   \n",
       "2   53            Private  234721        11th              7   \n",
       "3   28            Private  338409   Bachelors             13   \n",
       "4   37            Private  284582     Masters             14   \n",
       "\n",
       "         Never-married        Adm-clerical   Not-in-family   White     Male  \\\n",
       "0   Married-civ-spouse     Exec-managerial         Husband   White     Male   \n",
       "1             Divorced   Handlers-cleaners   Not-in-family   White     Male   \n",
       "2   Married-civ-spouse   Handlers-cleaners         Husband   Black     Male   \n",
       "3   Married-civ-spouse      Prof-specialty            Wife   Black   Female   \n",
       "4   Married-civ-spouse     Exec-managerial            Wife   White   Female   \n",
       "\n",
       "   capital_gain  capital_loss  hours_per_week   United-States   <=50K  \\\n",
       "0             0             0              13   United-States   <=50K   \n",
       "1             0             0              40   United-States   <=50K   \n",
       "2             0             0              40   United-States   <=50K   \n",
       "3             0             0              40            Cuba   <=50K   \n",
       "4             0             0              40   United-States   <=50K   \n",
       "\n",
       "   less than 50K  \n",
       "0              1  \n",
       "1              1  \n",
       "2              1  \n",
       "3              1  \n",
       "4              1  "
      ]
     },
     "execution_count": 58,
     "metadata": {},
     "output_type": "execute_result"
    }
   ],
   "source": [
    "df2.head()"
   ]
  },
  {
   "cell_type": "code",
   "execution_count": 59,
   "metadata": {},
   "outputs": [
    {
     "data": {
      "text/plain": [
       "1    24719\n",
       "0     7841\n",
       "Name: less than 50K, dtype: int64"
      ]
     },
     "execution_count": 59,
     "metadata": {},
     "output_type": "execute_result"
    }
   ],
   "source": [
    "df2['less than 50K'].value_counts()"
   ]
  },
  {
   "cell_type": "code",
   "execution_count": 60,
   "metadata": {},
   "outputs": [
    {
     "data": {
      "text/plain": [
       " White                 27815\n",
       " Black                  3124\n",
       " Asian-Pac-Islander     1039\n",
       " Amer-Indian-Eskimo      311\n",
       " Other                   271\n",
       "Name:  White, dtype: int64"
      ]
     },
     "execution_count": 60,
     "metadata": {},
     "output_type": "execute_result"
    }
   ],
   "source": [
    "df2[' White'].value_counts()"
   ]
  },
  {
   "cell_type": "code",
   "execution_count": 61,
   "metadata": {},
   "outputs": [
    {
     "data": {
      "text/plain": [
       "False    32560\n",
       "Name:  White, dtype: int64"
      ]
     },
     "execution_count": 61,
     "metadata": {},
     "output_type": "execute_result"
    }
   ],
   "source": [
    "df2[' White'].isna().value_counts()"
   ]
  },
  {
   "cell_type": "code",
   "execution_count": 62,
   "metadata": {},
   "outputs": [],
   "source": [
    "df2.rename(columns={' White':'Ethnicity',' Male':'Gender','':'Occupation'},inplace=True)"
   ]
  },
  {
   "cell_type": "code",
   "execution_count": 63,
   "metadata": {},
   "outputs": [
    {
     "data": {
      "text/plain": [
       "<matplotlib.axes._subplots.AxesSubplot at 0x131270b5828>"
      ]
     },
     "execution_count": 63,
     "metadata": {},
     "output_type": "execute_result"
    },
    {
     "data": {
      "image/png": "[encoded data removed]",
      "text/plain": [
       "<Figure size 842.4x595.44 with 1 Axes>"
      ]
     },
     "metadata": {},
     "output_type": "display_data"
    }
   ],
   "source": [
    "sb.countplot('Ethnicity',data=df2,hue='less than 50K',palette='Paired')"
   ]
  },
  {
   "cell_type": "code",
   "execution_count": 64,
   "metadata": {},
   "outputs": [],
   "source": [
    "#sb.countplot('Age',data=df2,hue='less than 50K',palette='rocket')"
   ]
  },
  {
   "cell_type": "code",
   "execution_count": 65,
   "metadata": {},
   "outputs": [
    {
     "data": {
      "text/plain": [
       "<matplotlib.axes._subplots.AxesSubplot at 0x13126f8b128>"
      ]
     },
     "execution_count": 65,
     "metadata": {},
     "output_type": "execute_result"
    },
    {
     "data": {
      "image/png": "[encoded data removed]",
      "text/plain": [
       "<Figure size 842.4x595.44 with 1 Axes>"
      ]
     },
     "metadata": {},
     "output_type": "display_data"
    }
   ],
   "source": [
    "sb.countplot('Gender',data=df2,hue='less than 50K',palette='rocket')"
   ]
  },
  {
   "cell_type": "code",
   "execution_count": 66,
   "metadata": {},
   "outputs": [
    {
     "name": "stderr",
     "output_type": "stream",
     "text": [
      "C:\\Users\\Thor 3\\Anaconda3\\lib\\site-packages\\seaborn\\categorical.py:3669: UserWarning: The `factorplot` function has been renamed to `catplot`. The original name will be removed in a future release. Please update your code. Note that the default `kind` in `factorplot` (`'point'`) has changed `'strip'` in `catplot`.\n",
      "  warnings.warn(msg)\n"
     ]
    },
    {
     "data": {
      "text/plain": [
       "<seaborn.axisgrid.FacetGrid at 0x13126ec5a58>"
      ]
     },
     "execution_count": 66,
     "metadata": {},
     "output_type": "execute_result"
    },
    {
     "data": {
      "image/png": "[encoded data removed]",
      "text/plain": [
       "<Figure size 970.55x360 with 1 Axes>"
      ]
     },
     "metadata": {},
     "output_type": "display_data"
    }
   ],
   "source": [
    "#g = sns.factorplot(\"year\", data=planets, aspect=1.5, kind=\"count\", color=\"b\")\n",
    "bachelors = sb.factorplot(' Bachelors',data=df2,kind=\"count\",hue='less than 50K',aspect=2.5)\n",
    "bachelors.set_xticklabels(rotation=30)"
   ]
  },
  {
   "cell_type": "code",
   "execution_count": 67,
   "metadata": {},
   "outputs": [
    {
     "data": {
      "text/html": [
       "<div>\n",
       "<style scoped>\n",
       "    .dataframe tbody tr th:only-of-type {\n",
       "        vertical-align: middle;\n",
       "    }\n",
       "\n",
       "    .dataframe tbody tr th {\n",
       "        vertical-align: top;\n",
       "    }\n",
       "\n",
       "    .dataframe thead th {\n",
       "        text-align: right;\n",
       "    }\n",
       "</style>\n",
       "<table border=\"1\" class=\"dataframe\">\n",
       "  <thead>\n",
       "    <tr style=\"text-align: right;\">\n",
       "      <th></th>\n",
       "      <th>Age</th>\n",
       "      <th>State-gov</th>\n",
       "      <th>fnlwgt</th>\n",
       "      <th>Bachelors</th>\n",
       "      <th>education_num</th>\n",
       "      <th>Never-married</th>\n",
       "      <th>Adm-clerical</th>\n",
       "      <th>Not-in-family</th>\n",
       "      <th>Ethnicity</th>\n",
       "      <th>Gender</th>\n",
       "      <th>capital_gain</th>\n",
       "      <th>capital_loss</th>\n",
       "      <th>hours_per_week</th>\n",
       "      <th>United-States</th>\n",
       "      <th>&lt;=50K</th>\n",
       "      <th>less than 50K</th>\n",
       "    </tr>\n",
       "  </thead>\n",
       "  <tbody>\n",
       "    <tr>\n",
       "      <th>0</th>\n",
       "      <td>50</td>\n",
       "      <td>Self-emp-not-inc</td>\n",
       "      <td>83311</td>\n",
       "      <td>Bachelors</td>\n",
       "      <td>13</td>\n",
       "      <td>Married-civ-spouse</td>\n",
       "      <td>Exec-managerial</td>\n",
       "      <td>Husband</td>\n",
       "      <td>White</td>\n",
       "      <td>Male</td>\n",
       "      <td>0</td>\n",
       "      <td>0</td>\n",
       "      <td>13</td>\n",
       "      <td>United-States</td>\n",
       "      <td>&lt;=50K</td>\n",
       "      <td>1</td>\n",
       "    </tr>\n",
       "    <tr>\n",
       "      <th>1</th>\n",
       "      <td>38</td>\n",
       "      <td>Private</td>\n",
       "      <td>215646</td>\n",
       "      <td>HS-grad</td>\n",
       "      <td>9</td>\n",
       "      <td>Divorced</td>\n",
       "      <td>Handlers-cleaners</td>\n",
       "      <td>Not-in-family</td>\n",
       "      <td>White</td>\n",
       "      <td>Male</td>\n",
       "      <td>0</td>\n",
       "      <td>0</td>\n",
       "      <td>40</td>\n",
       "      <td>United-States</td>\n",
       "      <td>&lt;=50K</td>\n",
       "      <td>1</td>\n",
       "    </tr>\n",
       "    <tr>\n",
       "      <th>2</th>\n",
       "      <td>53</td>\n",
       "      <td>Private</td>\n",
       "      <td>234721</td>\n",
       "      <td>11th</td>\n",
       "      <td>7</td>\n",
       "      <td>Married-civ-spouse</td>\n",
       "      <td>Handlers-cleaners</td>\n",
       "      <td>Husband</td>\n",
       "      <td>Black</td>\n",
       "      <td>Male</td>\n",
       "      <td>0</td>\n",
       "      <td>0</td>\n",
       "      <td>40</td>\n",
       "      <td>United-States</td>\n",
       "      <td>&lt;=50K</td>\n",
       "      <td>1</td>\n",
       "    </tr>\n",
       "    <tr>\n",
       "      <th>3</th>\n",
       "      <td>28</td>\n",
       "      <td>Private</td>\n",
       "      <td>338409</td>\n",
       "      <td>Bachelors</td>\n",
       "      <td>13</td>\n",
       "      <td>Married-civ-spouse</td>\n",
       "      <td>Prof-specialty</td>\n",
       "      <td>Wife</td>\n",
       "      <td>Black</td>\n",
       "      <td>Female</td>\n",
       "      <td>0</td>\n",
       "      <td>0</td>\n",
       "      <td>40</td>\n",
       "      <td>Cuba</td>\n",
       "      <td>&lt;=50K</td>\n",
       "      <td>1</td>\n",
       "    </tr>\n",
       "    <tr>\n",
       "      <th>4</th>\n",
       "      <td>37</td>\n",
       "      <td>Private</td>\n",
       "      <td>284582</td>\n",
       "      <td>Masters</td>\n",
       "      <td>14</td>\n",
       "      <td>Married-civ-spouse</td>\n",
       "      <td>Exec-managerial</td>\n",
       "      <td>Wife</td>\n",
       "      <td>White</td>\n",
       "      <td>Female</td>\n",
       "      <td>0</td>\n",
       "      <td>0</td>\n",
       "      <td>40</td>\n",
       "      <td>United-States</td>\n",
       "      <td>&lt;=50K</td>\n",
       "      <td>1</td>\n",
       "    </tr>\n",
       "  </tbody>\n",
       "</table>\n",
       "</div>"
      ],
      "text/plain": [
       "   Age          State-gov  fnlwgt   Bachelors  education_num  \\\n",
       "0   50   Self-emp-not-inc   83311   Bachelors             13   \n",
       "1   38            Private  215646     HS-grad              9   \n",
       "2   53            Private  234721        11th              7   \n",
       "3   28            Private  338409   Bachelors             13   \n",
       "4   37            Private  284582     Masters             14   \n",
       "\n",
       "         Never-married        Adm-clerical   Not-in-family Ethnicity   Gender  \\\n",
       "0   Married-civ-spouse     Exec-managerial         Husband     White     Male   \n",
       "1             Divorced   Handlers-cleaners   Not-in-family     White     Male   \n",
       "2   Married-civ-spouse   Handlers-cleaners         Husband     Black     Male   \n",
       "3   Married-civ-spouse      Prof-specialty            Wife     Black   Female   \n",
       "4   Married-civ-spouse     Exec-managerial            Wife     White   Female   \n",
       "\n",
       "   capital_gain  capital_loss  hours_per_week   United-States   <=50K  \\\n",
       "0             0             0              13   United-States   <=50K   \n",
       "1             0             0              40   United-States   <=50K   \n",
       "2             0             0              40   United-States   <=50K   \n",
       "3             0             0              40            Cuba   <=50K   \n",
       "4             0             0              40   United-States   <=50K   \n",
       "\n",
       "   less than 50K  \n",
       "0              1  \n",
       "1              1  \n",
       "2              1  \n",
       "3              1  \n",
       "4              1  "
      ]
     },
     "execution_count": 67,
     "metadata": {},
     "output_type": "execute_result"
    }
   ],
   "source": [
    "df2.columns\n",
    "df2.head()"
   ]
  },
  {
   "cell_type": "code",
   "execution_count": 68,
   "metadata": {},
   "outputs": [
    {
     "data": {
      "text/html": [
       "<div>\n",
       "<style scoped>\n",
       "    .dataframe tbody tr th:only-of-type {\n",
       "        vertical-align: middle;\n",
       "    }\n",
       "\n",
       "    .dataframe tbody tr th {\n",
       "        vertical-align: top;\n",
       "    }\n",
       "\n",
       "    .dataframe thead th {\n",
       "        text-align: right;\n",
       "    }\n",
       "</style>\n",
       "<table border=\"1\" class=\"dataframe\">\n",
       "  <thead>\n",
       "    <tr style=\"text-align: right;\">\n",
       "      <th></th>\n",
       "      <th>Age</th>\n",
       "      <th>Workclass</th>\n",
       "      <th>fnlwgt</th>\n",
       "      <th>Bachelors</th>\n",
       "      <th>education_num</th>\n",
       "      <th>Marital</th>\n",
       "      <th>Occupation</th>\n",
       "      <th>Relationship</th>\n",
       "      <th>Ethnicity</th>\n",
       "      <th>Gender</th>\n",
       "      <th>capital_gain</th>\n",
       "      <th>capital_loss</th>\n",
       "      <th>hours_per_week</th>\n",
       "      <th>United-States</th>\n",
       "      <th>&lt;=50K</th>\n",
       "      <th>less than 50K</th>\n",
       "    </tr>\n",
       "  </thead>\n",
       "  <tbody>\n",
       "    <tr>\n",
       "      <th>0</th>\n",
       "      <td>50</td>\n",
       "      <td>Self-emp-not-inc</td>\n",
       "      <td>83311</td>\n",
       "      <td>Bachelors</td>\n",
       "      <td>13</td>\n",
       "      <td>Married-civ-spouse</td>\n",
       "      <td>Exec-managerial</td>\n",
       "      <td>Husband</td>\n",
       "      <td>White</td>\n",
       "      <td>Male</td>\n",
       "      <td>0</td>\n",
       "      <td>0</td>\n",
       "      <td>13</td>\n",
       "      <td>United-States</td>\n",
       "      <td>&lt;=50K</td>\n",
       "      <td>1</td>\n",
       "    </tr>\n",
       "    <tr>\n",
       "      <th>1</th>\n",
       "      <td>38</td>\n",
       "      <td>Private</td>\n",
       "      <td>215646</td>\n",
       "      <td>HS-grad</td>\n",
       "      <td>9</td>\n",
       "      <td>Divorced</td>\n",
       "      <td>Handlers-cleaners</td>\n",
       "      <td>Not-in-family</td>\n",
       "      <td>White</td>\n",
       "      <td>Male</td>\n",
       "      <td>0</td>\n",
       "      <td>0</td>\n",
       "      <td>40</td>\n",
       "      <td>United-States</td>\n",
       "      <td>&lt;=50K</td>\n",
       "      <td>1</td>\n",
       "    </tr>\n",
       "    <tr>\n",
       "      <th>2</th>\n",
       "      <td>53</td>\n",
       "      <td>Private</td>\n",
       "      <td>234721</td>\n",
       "      <td>11th</td>\n",
       "      <td>7</td>\n",
       "      <td>Married-civ-spouse</td>\n",
       "      <td>Handlers-cleaners</td>\n",
       "      <td>Husband</td>\n",
       "      <td>Black</td>\n",
       "      <td>Male</td>\n",
       "      <td>0</td>\n",
       "      <td>0</td>\n",
       "      <td>40</td>\n",
       "      <td>United-States</td>\n",
       "      <td>&lt;=50K</td>\n",
       "      <td>1</td>\n",
       "    </tr>\n",
       "    <tr>\n",
       "      <th>3</th>\n",
       "      <td>28</td>\n",
       "      <td>Private</td>\n",
       "      <td>338409</td>\n",
       "      <td>Bachelors</td>\n",
       "      <td>13</td>\n",
       "      <td>Married-civ-spouse</td>\n",
       "      <td>Prof-specialty</td>\n",
       "      <td>Wife</td>\n",
       "      <td>Black</td>\n",
       "      <td>Female</td>\n",
       "      <td>0</td>\n",
       "      <td>0</td>\n",
       "      <td>40</td>\n",
       "      <td>Cuba</td>\n",
       "      <td>&lt;=50K</td>\n",
       "      <td>1</td>\n",
       "    </tr>\n",
       "    <tr>\n",
       "      <th>4</th>\n",
       "      <td>37</td>\n",
       "      <td>Private</td>\n",
       "      <td>284582</td>\n",
       "      <td>Masters</td>\n",
       "      <td>14</td>\n",
       "      <td>Married-civ-spouse</td>\n",
       "      <td>Exec-managerial</td>\n",
       "      <td>Wife</td>\n",
       "      <td>White</td>\n",
       "      <td>Female</td>\n",
       "      <td>0</td>\n",
       "      <td>0</td>\n",
       "      <td>40</td>\n",
       "      <td>United-States</td>\n",
       "      <td>&lt;=50K</td>\n",
       "      <td>1</td>\n",
       "    </tr>\n",
       "  </tbody>\n",
       "</table>\n",
       "</div>"
      ],
      "text/plain": [
       "   Age          Workclass  fnlwgt   Bachelors  education_num  \\\n",
       "0   50   Self-emp-not-inc   83311   Bachelors             13   \n",
       "1   38            Private  215646     HS-grad              9   \n",
       "2   53            Private  234721        11th              7   \n",
       "3   28            Private  338409   Bachelors             13   \n",
       "4   37            Private  284582     Masters             14   \n",
       "\n",
       "               Marital          Occupation    Relationship Ethnicity   Gender  \\\n",
       "0   Married-civ-spouse     Exec-managerial         Husband     White     Male   \n",
       "1             Divorced   Handlers-cleaners   Not-in-family     White     Male   \n",
       "2   Married-civ-spouse   Handlers-cleaners         Husband     Black     Male   \n",
       "3   Married-civ-spouse      Prof-specialty            Wife     Black   Female   \n",
       "4   Married-civ-spouse     Exec-managerial            Wife     White   Female   \n",
       "\n",
       "   capital_gain  capital_loss  hours_per_week   United-States   <=50K  \\\n",
       "0             0             0              13   United-States   <=50K   \n",
       "1             0             0              40   United-States   <=50K   \n",
       "2             0             0              40   United-States   <=50K   \n",
       "3             0             0              40            Cuba   <=50K   \n",
       "4             0             0              40   United-States   <=50K   \n",
       "\n",
       "   less than 50K  \n",
       "0              1  \n",
       "1              1  \n",
       "2              1  \n",
       "3              1  \n",
       "4              1  "
      ]
     },
     "execution_count": 68,
     "metadata": {},
     "output_type": "execute_result"
    }
   ],
   "source": [
    "df2.rename(columns={' Not-in-family':'Relationship',' Never-married':'Marital',' State-gov':'Workclass',' Adm-clerical':'Occupation',' Bachelors':'Bachelors'},inplace=True)\n",
    "df2.head()"
   ]
  },
  {
   "cell_type": "code",
   "execution_count": 69,
   "metadata": {},
   "outputs": [
    {
     "name": "stderr",
     "output_type": "stream",
     "text": [
      "C:\\Users\\Thor 3\\Anaconda3\\lib\\site-packages\\seaborn\\categorical.py:3669: UserWarning: The `factorplot` function has been renamed to `catplot`. The original name will be removed in a future release. Please update your code. Note that the default `kind` in `factorplot` (`'point'`) has changed `'strip'` in `catplot`.\n",
      "  warnings.warn(msg)\n"
     ]
    },
    {
     "data": {
      "image/png": "[encoded data removed]",
      "text/plain": [
       "<Figure size 970.55x360 with 1 Axes>"
      ]
     },
     "metadata": {},
     "output_type": "display_data"
    }
   ],
   "source": [
    "fam_rel = sb.factorplot('Relationship',data=df2,kind=\"count\",hue='less than 50K',aspect=2.5,palette='Set2')\n",
    "fam_rel.set_xticklabels(rotation=30)\n",
    "plt.legend(labels=['more than 50K', 'less than 50K'])\n",
    "plt.show(fam_rel)\n"
   ]
  },
  {
   "cell_type": "code",
   "execution_count": 70,
   "metadata": {},
   "outputs": [
    {
     "data": {
      "image/png": "[encoded data removed]",
      "text/plain": [
       "<Figure size 970.55x360 with 1 Axes>"
      ]
     },
     "metadata": {},
     "output_type": "display_data"
    }
   ],
   "source": [
    "marital = sb.factorplot('Marital',data=df2,kind=\"count\",hue='less than 50K',aspect=2.5,palette='Set2')\n",
    "fam_rel.set_xticklabels(rotation=30)\n",
    "plt.legend(labels=['more than 50K', 'less than 50K'])\n",
    "plt.show(marital)"
   ]
  },
  {
   "cell_type": "code",
   "execution_count": 71,
   "metadata": {},
   "outputs": [
    {
     "name": "stderr",
     "output_type": "stream",
     "text": [
      "C:\\Users\\Thor 3\\Anaconda3\\lib\\site-packages\\scipy\\stats\\stats.py:1713: FutureWarning: Using a non-tuple sequence for multidimensional indexing is deprecated; use `arr[tuple(seq)]` instead of `arr[seq]`. In the future this will be interpreted as an array index, `arr[np.array(seq)]`, which will result either in an error or a different result.\n",
      "  return np.add.reduce(sorted[indexer] * weights, axis=axis) / sumval\n"
     ]
    },
    {
     "data": {
      "image/png": "[encoded data removed]",
      "text/plain": [
       "<Figure size 842.4x595.44 with 1 Axes>"
      ]
     },
     "metadata": {},
     "output_type": "display_data"
    }
   ],
   "source": [
    "hour_p_w = sb.distplot(df2['hours_per_week'],bins=70)\n",
    "#hour_p_w.set_xticklabels(rotation=45)\n",
    "plt.legend(labels=['more than 50K', 'less than 50K'])\n",
    "plt.show(hour_p_w)"
   ]
  },
  {
   "cell_type": "code",
   "execution_count": 72,
   "metadata": {},
   "outputs": [],
   "source": [
    "cols = df2.columns.values"
   ]
  },
  {
   "cell_type": "code",
   "execution_count": 73,
   "metadata": {},
   "outputs": [
    {
     "data": {
      "text/plain": [
       "array(['Age', 'Workclass', 'fnlwgt', 'Bachelors', 'education_num',\n",
       "       'Marital', 'Occupation', 'Relationship', 'Ethnicity', 'Gender',\n",
       "       'capital_gain', 'capital_loss', 'hours_per_week', ' United-States',\n",
       "       ' <=50K', 'less than 50K'], dtype=object)"
      ]
     },
     "execution_count": 73,
     "metadata": {},
     "output_type": "execute_result"
    }
   ],
   "source": [
    "cols"
   ]
  },
  {
   "cell_type": "code",
   "execution_count": 74,
   "metadata": {},
   "outputs": [
    {
     "name": "stdout",
     "output_type": "stream",
     "text": [
      "36    898\n",
      "31    888\n",
      "34    886\n",
      "23    877\n",
      "35    876\n",
      "     ... \n",
      "83      6\n",
      "85      3\n",
      "88      3\n",
      "87      1\n",
      "86      1\n",
      "Name: Age, Length: 73, dtype: int64\n",
      " Private             22696\n",
      " Self-emp-not-inc     2541\n",
      " Local-gov            2093\n",
      " ?                    1836\n",
      " State-gov            1297\n",
      " Self-emp-inc         1116\n",
      " Federal-gov           960\n",
      " Without-pay            14\n",
      " Never-worked            7\n",
      "Name: Workclass, dtype: int64\n",
      "123011    13\n",
      "203488    13\n",
      "164190    13\n",
      "121124    12\n",
      "148995    12\n",
      "          ..\n",
      "68318      1\n",
      "284211     1\n",
      "312881     1\n",
      "177711     1\n",
      "229376     1\n",
      "Name: fnlwgt, Length: 21647, dtype: int64\n",
      " HS-grad         10501\n",
      " Some-college     7291\n",
      " Bachelors        5354\n",
      " Masters          1723\n",
      " Assoc-voc        1382\n",
      " 11th             1175\n",
      " Assoc-acdm       1067\n",
      " 10th              933\n",
      " 7th-8th           646\n",
      " Prof-school       576\n",
      " 9th               514\n",
      " 12th              433\n",
      " Doctorate         413\n",
      " 5th-6th           333\n",
      " 1st-4th           168\n",
      " Preschool          51\n",
      "Name: Bachelors, dtype: int64\n",
      "9     10501\n",
      "10     7291\n",
      "13     5354\n",
      "14     1723\n",
      "11     1382\n",
      "7      1175\n",
      "12     1067\n",
      "6       933\n",
      "4       646\n",
      "15      576\n",
      "5       514\n",
      "8       433\n",
      "16      413\n",
      "3       333\n",
      "2       168\n",
      "1        51\n",
      "Name: education_num, dtype: int64\n",
      " Married-civ-spouse       14976\n",
      " Never-married            10682\n",
      " Divorced                  4443\n",
      " Separated                 1025\n",
      " Widowed                    993\n",
      " Married-spouse-absent      418\n",
      " Married-AF-spouse           23\n",
      "Name: Marital, dtype: int64\n",
      " Prof-specialty       4140\n",
      " Craft-repair         4099\n",
      " Exec-managerial      4066\n",
      " Adm-clerical         3769\n",
      " Sales                3650\n",
      " Other-service        3295\n",
      " Machine-op-inspct    2002\n",
      " ?                    1843\n",
      " Transport-moving     1597\n",
      " Handlers-cleaners    1370\n",
      " Farming-fishing       994\n",
      " Tech-support          928\n",
      " Protective-serv       649\n",
      " Priv-house-serv       149\n",
      " Armed-Forces            9\n",
      "Name: Occupation, dtype: int64\n",
      " Husband           13193\n",
      " Not-in-family      8304\n",
      " Own-child          5068\n",
      " Unmarried          3446\n",
      " Wife               1568\n",
      " Other-relative      981\n",
      "Name: Relationship, dtype: int64\n",
      " White                 27815\n",
      " Black                  3124\n",
      " Asian-Pac-Islander     1039\n",
      " Amer-Indian-Eskimo      311\n",
      " Other                   271\n",
      "Name: Ethnicity, dtype: int64\n",
      " Male      21789\n",
      " Female    10771\n",
      "Name: Gender, dtype: int64\n",
      "0        29849\n",
      "15024      347\n",
      "7688       284\n",
      "7298       246\n",
      "99999      159\n",
      "         ...  \n",
      "4931         1\n",
      "1455         1\n",
      "6097         1\n",
      "22040        1\n",
      "1111         1\n",
      "Name: capital_gain, Length: 119, dtype: int64\n",
      "0       31041\n",
      "1902      202\n",
      "1977      168\n",
      "1887      159\n",
      "1848       51\n",
      "        ...  \n",
      "1411        1\n",
      "1539        1\n",
      "2472        1\n",
      "1944        1\n",
      "2201        1\n",
      "Name: capital_loss, Length: 92, dtype: int64\n",
      "40    15216\n",
      "50     2819\n",
      "45     1824\n",
      "60     1475\n",
      "35     1297\n",
      "      ...  \n",
      "92        1\n",
      "94        1\n",
      "87        1\n",
      "74        1\n",
      "82        1\n",
      "Name: hours_per_week, Length: 94, dtype: int64\n",
      " United-States                 29169\n",
      " Mexico                          643\n",
      " ?                               583\n",
      " Philippines                     198\n",
      " Germany                         137\n",
      " Canada                          121\n",
      " Puerto-Rico                     114\n",
      " El-Salvador                     106\n",
      " India                           100\n",
      " Cuba                             95\n",
      " England                          90\n",
      " Jamaica                          81\n",
      " South                            80\n",
      " China                            75\n",
      " Italy                            73\n",
      " Dominican-Republic               70\n",
      " Vietnam                          67\n",
      " Guatemala                        64\n",
      " Japan                            62\n",
      " Poland                           60\n",
      " Columbia                         59\n",
      " Taiwan                           51\n",
      " Haiti                            44\n",
      " Iran                             43\n",
      " Portugal                         37\n",
      " Nicaragua                        34\n",
      " Peru                             31\n",
      " Greece                           29\n",
      " France                           29\n",
      " Ecuador                          28\n",
      " Ireland                          24\n",
      " Hong                             20\n",
      " Cambodia                         19\n",
      " Trinadad&Tobago                  19\n",
      " Thailand                         18\n",
      " Laos                             18\n",
      " Yugoslavia                       16\n",
      " Outlying-US(Guam-USVI-etc)       14\n",
      " Hungary                          13\n",
      " Honduras                         13\n",
      " Scotland                         12\n",
      " Holand-Netherlands                1\n",
      "Name:  United-States, dtype: int64\n",
      " <=50K    24719\n",
      " >50K      7841\n",
      "Name:  <=50K, dtype: int64\n",
      "1    24719\n",
      "0     7841\n",
      "Name: less than 50K, dtype: int64\n"
     ]
    }
   ],
   "source": [
    "for i in range(len(cols)):\n",
    "    txt = cols[i]\n",
    "    print(df2[txt].value_counts(),end='\\n')"
   ]
  },
  {
   "cell_type": "code",
   "execution_count": 75,
   "metadata": {},
   "outputs": [
    {
     "data": {
      "text/html": [
       "<div>\n",
       "<style scoped>\n",
       "    .dataframe tbody tr th:only-of-type {\n",
       "        vertical-align: middle;\n",
       "    }\n",
       "\n",
       "    .dataframe tbody tr th {\n",
       "        vertical-align: top;\n",
       "    }\n",
       "\n",
       "    .dataframe thead th {\n",
       "        text-align: right;\n",
       "    }\n",
       "</style>\n",
       "<table border=\"1\" class=\"dataframe\">\n",
       "  <thead>\n",
       "    <tr style=\"text-align: right;\">\n",
       "      <th></th>\n",
       "      <th>Age</th>\n",
       "      <th>Workclass</th>\n",
       "      <th>fnlwgt</th>\n",
       "      <th>Bachelors</th>\n",
       "      <th>education_num</th>\n",
       "      <th>Marital</th>\n",
       "      <th>Occupation</th>\n",
       "      <th>Relationship</th>\n",
       "      <th>Ethnicity</th>\n",
       "      <th>Gender</th>\n",
       "      <th>capital_gain</th>\n",
       "      <th>capital_loss</th>\n",
       "      <th>hours_per_week</th>\n",
       "      <th>United-States</th>\n",
       "      <th>&lt;=50K</th>\n",
       "      <th>less than 50K</th>\n",
       "    </tr>\n",
       "  </thead>\n",
       "  <tbody>\n",
       "    <tr>\n",
       "      <th>26</th>\n",
       "      <td>54</td>\n",
       "      <td>?</td>\n",
       "      <td>180211</td>\n",
       "      <td>Some-college</td>\n",
       "      <td>10</td>\n",
       "      <td>Married-civ-spouse</td>\n",
       "      <td>?</td>\n",
       "      <td>Husband</td>\n",
       "      <td>Asian-Pac-Islander</td>\n",
       "      <td>Male</td>\n",
       "      <td>0</td>\n",
       "      <td>0</td>\n",
       "      <td>60</td>\n",
       "      <td>South</td>\n",
       "      <td>&gt;50K</td>\n",
       "      <td>0</td>\n",
       "    </tr>\n",
       "    <tr>\n",
       "      <th>60</th>\n",
       "      <td>32</td>\n",
       "      <td>?</td>\n",
       "      <td>293936</td>\n",
       "      <td>7th-8th</td>\n",
       "      <td>4</td>\n",
       "      <td>Married-spouse-absent</td>\n",
       "      <td>?</td>\n",
       "      <td>Not-in-family</td>\n",
       "      <td>White</td>\n",
       "      <td>Male</td>\n",
       "      <td>0</td>\n",
       "      <td>0</td>\n",
       "      <td>40</td>\n",
       "      <td>?</td>\n",
       "      <td>&lt;=50K</td>\n",
       "      <td>1</td>\n",
       "    </tr>\n",
       "    <tr>\n",
       "      <th>68</th>\n",
       "      <td>25</td>\n",
       "      <td>?</td>\n",
       "      <td>200681</td>\n",
       "      <td>Some-college</td>\n",
       "      <td>10</td>\n",
       "      <td>Never-married</td>\n",
       "      <td>?</td>\n",
       "      <td>Own-child</td>\n",
       "      <td>White</td>\n",
       "      <td>Male</td>\n",
       "      <td>0</td>\n",
       "      <td>0</td>\n",
       "      <td>40</td>\n",
       "      <td>United-States</td>\n",
       "      <td>&lt;=50K</td>\n",
       "      <td>1</td>\n",
       "    </tr>\n",
       "    <tr>\n",
       "      <th>76</th>\n",
       "      <td>67</td>\n",
       "      <td>?</td>\n",
       "      <td>212759</td>\n",
       "      <td>10th</td>\n",
       "      <td>6</td>\n",
       "      <td>Married-civ-spouse</td>\n",
       "      <td>?</td>\n",
       "      <td>Husband</td>\n",
       "      <td>White</td>\n",
       "      <td>Male</td>\n",
       "      <td>0</td>\n",
       "      <td>0</td>\n",
       "      <td>2</td>\n",
       "      <td>United-States</td>\n",
       "      <td>&lt;=50K</td>\n",
       "      <td>1</td>\n",
       "    </tr>\n",
       "    <tr>\n",
       "      <th>105</th>\n",
       "      <td>17</td>\n",
       "      <td>?</td>\n",
       "      <td>304873</td>\n",
       "      <td>10th</td>\n",
       "      <td>6</td>\n",
       "      <td>Never-married</td>\n",
       "      <td>?</td>\n",
       "      <td>Own-child</td>\n",
       "      <td>White</td>\n",
       "      <td>Female</td>\n",
       "      <td>34095</td>\n",
       "      <td>0</td>\n",
       "      <td>32</td>\n",
       "      <td>United-States</td>\n",
       "      <td>&lt;=50K</td>\n",
       "      <td>1</td>\n",
       "    </tr>\n",
       "    <tr>\n",
       "      <th>...</th>\n",
       "      <td>...</td>\n",
       "      <td>...</td>\n",
       "      <td>...</td>\n",
       "      <td>...</td>\n",
       "      <td>...</td>\n",
       "      <td>...</td>\n",
       "      <td>...</td>\n",
       "      <td>...</td>\n",
       "      <td>...</td>\n",
       "      <td>...</td>\n",
       "      <td>...</td>\n",
       "      <td>...</td>\n",
       "      <td>...</td>\n",
       "      <td>...</td>\n",
       "      <td>...</td>\n",
       "      <td>...</td>\n",
       "    </tr>\n",
       "    <tr>\n",
       "      <th>32529</th>\n",
       "      <td>35</td>\n",
       "      <td>?</td>\n",
       "      <td>320084</td>\n",
       "      <td>Bachelors</td>\n",
       "      <td>13</td>\n",
       "      <td>Married-civ-spouse</td>\n",
       "      <td>?</td>\n",
       "      <td>Wife</td>\n",
       "      <td>White</td>\n",
       "      <td>Female</td>\n",
       "      <td>0</td>\n",
       "      <td>0</td>\n",
       "      <td>55</td>\n",
       "      <td>United-States</td>\n",
       "      <td>&gt;50K</td>\n",
       "      <td>0</td>\n",
       "    </tr>\n",
       "    <tr>\n",
       "      <th>32530</th>\n",
       "      <td>30</td>\n",
       "      <td>?</td>\n",
       "      <td>33811</td>\n",
       "      <td>Bachelors</td>\n",
       "      <td>13</td>\n",
       "      <td>Never-married</td>\n",
       "      <td>?</td>\n",
       "      <td>Not-in-family</td>\n",
       "      <td>Asian-Pac-Islander</td>\n",
       "      <td>Female</td>\n",
       "      <td>0</td>\n",
       "      <td>0</td>\n",
       "      <td>99</td>\n",
       "      <td>United-States</td>\n",
       "      <td>&lt;=50K</td>\n",
       "      <td>1</td>\n",
       "    </tr>\n",
       "    <tr>\n",
       "      <th>32538</th>\n",
       "      <td>71</td>\n",
       "      <td>?</td>\n",
       "      <td>287372</td>\n",
       "      <td>Doctorate</td>\n",
       "      <td>16</td>\n",
       "      <td>Married-civ-spouse</td>\n",
       "      <td>?</td>\n",
       "      <td>Husband</td>\n",
       "      <td>White</td>\n",
       "      <td>Male</td>\n",
       "      <td>0</td>\n",
       "      <td>0</td>\n",
       "      <td>10</td>\n",
       "      <td>United-States</td>\n",
       "      <td>&gt;50K</td>\n",
       "      <td>0</td>\n",
       "    </tr>\n",
       "    <tr>\n",
       "      <th>32540</th>\n",
       "      <td>41</td>\n",
       "      <td>?</td>\n",
       "      <td>202822</td>\n",
       "      <td>HS-grad</td>\n",
       "      <td>9</td>\n",
       "      <td>Separated</td>\n",
       "      <td>?</td>\n",
       "      <td>Not-in-family</td>\n",
       "      <td>Black</td>\n",
       "      <td>Female</td>\n",
       "      <td>0</td>\n",
       "      <td>0</td>\n",
       "      <td>32</td>\n",
       "      <td>United-States</td>\n",
       "      <td>&lt;=50K</td>\n",
       "      <td>1</td>\n",
       "    </tr>\n",
       "    <tr>\n",
       "      <th>32541</th>\n",
       "      <td>72</td>\n",
       "      <td>?</td>\n",
       "      <td>129912</td>\n",
       "      <td>HS-grad</td>\n",
       "      <td>9</td>\n",
       "      <td>Married-civ-spouse</td>\n",
       "      <td>?</td>\n",
       "      <td>Husband</td>\n",
       "      <td>White</td>\n",
       "      <td>Male</td>\n",
       "      <td>0</td>\n",
       "      <td>0</td>\n",
       "      <td>25</td>\n",
       "      <td>United-States</td>\n",
       "      <td>&lt;=50K</td>\n",
       "      <td>1</td>\n",
       "    </tr>\n",
       "  </tbody>\n",
       "</table>\n",
       "<p>1836 rows × 16 columns</p>\n",
       "</div>"
      ],
      "text/plain": [
       "       Age Workclass  fnlwgt      Bachelors  education_num  \\\n",
       "26      54         ?  180211   Some-college             10   \n",
       "60      32         ?  293936        7th-8th              4   \n",
       "68      25         ?  200681   Some-college             10   \n",
       "76      67         ?  212759           10th              6   \n",
       "105     17         ?  304873           10th              6   \n",
       "...    ...       ...     ...            ...            ...   \n",
       "32529   35         ?  320084      Bachelors             13   \n",
       "32530   30         ?   33811      Bachelors             13   \n",
       "32538   71         ?  287372      Doctorate             16   \n",
       "32540   41         ?  202822        HS-grad              9   \n",
       "32541   72         ?  129912        HS-grad              9   \n",
       "\n",
       "                      Marital Occupation    Relationship            Ethnicity  \\\n",
       "26         Married-civ-spouse          ?         Husband   Asian-Pac-Islander   \n",
       "60      Married-spouse-absent          ?   Not-in-family                White   \n",
       "68              Never-married          ?       Own-child                White   \n",
       "76         Married-civ-spouse          ?         Husband                White   \n",
       "105             Never-married          ?       Own-child                White   \n",
       "...                       ...        ...             ...                  ...   \n",
       "32529      Married-civ-spouse          ?            Wife                White   \n",
       "32530           Never-married          ?   Not-in-family   Asian-Pac-Islander   \n",
       "32538      Married-civ-spouse          ?         Husband                White   \n",
       "32540               Separated          ?   Not-in-family                Black   \n",
       "32541      Married-civ-spouse          ?         Husband                White   \n",
       "\n",
       "        Gender  capital_gain  capital_loss  hours_per_week   United-States  \\\n",
       "26        Male             0             0              60           South   \n",
       "60        Male             0             0              40               ?   \n",
       "68        Male             0             0              40   United-States   \n",
       "76        Male             0             0               2   United-States   \n",
       "105     Female         34095             0              32   United-States   \n",
       "...        ...           ...           ...             ...             ...   \n",
       "32529   Female             0             0              55   United-States   \n",
       "32530   Female             0             0              99   United-States   \n",
       "32538     Male             0             0              10   United-States   \n",
       "32540   Female             0             0              32   United-States   \n",
       "32541     Male             0             0              25   United-States   \n",
       "\n",
       "        <=50K  less than 50K  \n",
       "26       >50K              0  \n",
       "60      <=50K              1  \n",
       "68      <=50K              1  \n",
       "76      <=50K              1  \n",
       "105     <=50K              1  \n",
       "...       ...            ...  \n",
       "32529    >50K              0  \n",
       "32530   <=50K              1  \n",
       "32538    >50K              0  \n",
       "32540   <=50K              1  \n",
       "32541   <=50K              1  \n",
       "\n",
       "[1836 rows x 16 columns]"
      ]
     },
     "execution_count": 75,
     "metadata": {},
     "output_type": "execute_result"
    }
   ],
   "source": [
    "df2[df2['Workclass']==' ?']"
   ]
  },
  {
   "cell_type": "code",
   "execution_count": 76,
   "metadata": {},
   "outputs": [],
   "source": [
    "\n",
    "unk = df2[['Workclass','Occupation']]"
   ]
  },
  {
   "cell_type": "code",
   "execution_count": 77,
   "metadata": {},
   "outputs": [
    {
     "data": {
      "text/html": [
       "<div>\n",
       "<style scoped>\n",
       "    .dataframe tbody tr th:only-of-type {\n",
       "        vertical-align: middle;\n",
       "    }\n",
       "\n",
       "    .dataframe tbody tr th {\n",
       "        vertical-align: top;\n",
       "    }\n",
       "\n",
       "    .dataframe thead th {\n",
       "        text-align: right;\n",
       "    }\n",
       "</style>\n",
       "<table border=\"1\" class=\"dataframe\">\n",
       "  <thead>\n",
       "    <tr style=\"text-align: right;\">\n",
       "      <th></th>\n",
       "      <th>Workclass</th>\n",
       "      <th>Occupation</th>\n",
       "    </tr>\n",
       "  </thead>\n",
       "  <tbody>\n",
       "    <tr>\n",
       "      <th>0</th>\n",
       "      <td>Self-emp-not-inc</td>\n",
       "      <td>Exec-managerial</td>\n",
       "    </tr>\n",
       "    <tr>\n",
       "      <th>1</th>\n",
       "      <td>Private</td>\n",
       "      <td>Handlers-cleaners</td>\n",
       "    </tr>\n",
       "    <tr>\n",
       "      <th>2</th>\n",
       "      <td>Private</td>\n",
       "      <td>Handlers-cleaners</td>\n",
       "    </tr>\n",
       "    <tr>\n",
       "      <th>3</th>\n",
       "      <td>Private</td>\n",
       "      <td>Prof-specialty</td>\n",
       "    </tr>\n",
       "    <tr>\n",
       "      <th>4</th>\n",
       "      <td>Private</td>\n",
       "      <td>Exec-managerial</td>\n",
       "    </tr>\n",
       "    <tr>\n",
       "      <th>...</th>\n",
       "      <td>...</td>\n",
       "      <td>...</td>\n",
       "    </tr>\n",
       "    <tr>\n",
       "      <th>32555</th>\n",
       "      <td>Private</td>\n",
       "      <td>Tech-support</td>\n",
       "    </tr>\n",
       "    <tr>\n",
       "      <th>32556</th>\n",
       "      <td>Private</td>\n",
       "      <td>Machine-op-inspct</td>\n",
       "    </tr>\n",
       "    <tr>\n",
       "      <th>32557</th>\n",
       "      <td>Private</td>\n",
       "      <td>Adm-clerical</td>\n",
       "    </tr>\n",
       "    <tr>\n",
       "      <th>32558</th>\n",
       "      <td>Private</td>\n",
       "      <td>Adm-clerical</td>\n",
       "    </tr>\n",
       "    <tr>\n",
       "      <th>32559</th>\n",
       "      <td>Self-emp-inc</td>\n",
       "      <td>Exec-managerial</td>\n",
       "    </tr>\n",
       "  </tbody>\n",
       "</table>\n",
       "<p>32560 rows × 2 columns</p>\n",
       "</div>"
      ],
      "text/plain": [
       "               Workclass          Occupation\n",
       "0       Self-emp-not-inc     Exec-managerial\n",
       "1                Private   Handlers-cleaners\n",
       "2                Private   Handlers-cleaners\n",
       "3                Private      Prof-specialty\n",
       "4                Private     Exec-managerial\n",
       "...                  ...                 ...\n",
       "32555            Private        Tech-support\n",
       "32556            Private   Machine-op-inspct\n",
       "32557            Private        Adm-clerical\n",
       "32558            Private        Adm-clerical\n",
       "32559       Self-emp-inc     Exec-managerial\n",
       "\n",
       "[32560 rows x 2 columns]"
      ]
     },
     "execution_count": 77,
     "metadata": {},
     "output_type": "execute_result"
    }
   ],
   "source": [
    "unk"
   ]
  },
  {
   "cell_type": "code",
   "execution_count": 78,
   "metadata": {},
   "outputs": [
    {
     "data": {
      "text/html": [
       "<div>\n",
       "<style scoped>\n",
       "    .dataframe tbody tr th:only-of-type {\n",
       "        vertical-align: middle;\n",
       "    }\n",
       "\n",
       "    .dataframe tbody tr th {\n",
       "        vertical-align: top;\n",
       "    }\n",
       "\n",
       "    .dataframe thead th {\n",
       "        text-align: right;\n",
       "    }\n",
       "</style>\n",
       "<table border=\"1\" class=\"dataframe\">\n",
       "  <thead>\n",
       "    <tr style=\"text-align: right;\">\n",
       "      <th></th>\n",
       "      <th>Workclass</th>\n",
       "      <th>Occupation</th>\n",
       "    </tr>\n",
       "  </thead>\n",
       "  <tbody>\n",
       "    <tr>\n",
       "      <th>26</th>\n",
       "      <td>?</td>\n",
       "      <td>?</td>\n",
       "    </tr>\n",
       "    <tr>\n",
       "      <th>60</th>\n",
       "      <td>?</td>\n",
       "      <td>?</td>\n",
       "    </tr>\n",
       "    <tr>\n",
       "      <th>68</th>\n",
       "      <td>?</td>\n",
       "      <td>?</td>\n",
       "    </tr>\n",
       "    <tr>\n",
       "      <th>76</th>\n",
       "      <td>?</td>\n",
       "      <td>?</td>\n",
       "    </tr>\n",
       "    <tr>\n",
       "      <th>105</th>\n",
       "      <td>?</td>\n",
       "      <td>?</td>\n",
       "    </tr>\n",
       "    <tr>\n",
       "      <th>...</th>\n",
       "      <td>...</td>\n",
       "      <td>...</td>\n",
       "    </tr>\n",
       "    <tr>\n",
       "      <th>32529</th>\n",
       "      <td>?</td>\n",
       "      <td>?</td>\n",
       "    </tr>\n",
       "    <tr>\n",
       "      <th>32530</th>\n",
       "      <td>?</td>\n",
       "      <td>?</td>\n",
       "    </tr>\n",
       "    <tr>\n",
       "      <th>32538</th>\n",
       "      <td>?</td>\n",
       "      <td>?</td>\n",
       "    </tr>\n",
       "    <tr>\n",
       "      <th>32540</th>\n",
       "      <td>?</td>\n",
       "      <td>?</td>\n",
       "    </tr>\n",
       "    <tr>\n",
       "      <th>32541</th>\n",
       "      <td>?</td>\n",
       "      <td>?</td>\n",
       "    </tr>\n",
       "  </tbody>\n",
       "</table>\n",
       "<p>1836 rows × 2 columns</p>\n",
       "</div>"
      ],
      "text/plain": [
       "      Workclass Occupation\n",
       "26            ?          ?\n",
       "60            ?          ?\n",
       "68            ?          ?\n",
       "76            ?          ?\n",
       "105           ?          ?\n",
       "...         ...        ...\n",
       "32529         ?          ?\n",
       "32530         ?          ?\n",
       "32538         ?          ?\n",
       "32540         ?          ?\n",
       "32541         ?          ?\n",
       "\n",
       "[1836 rows x 2 columns]"
      ]
     },
     "execution_count": 78,
     "metadata": {},
     "output_type": "execute_result"
    }
   ],
   "source": [
    "unk[unk['Workclass']==' ?' ] "
   ]
  },
  {
   "cell_type": "code",
   "execution_count": 79,
   "metadata": {},
   "outputs": [],
   "source": [
    "unk3 = unk[unk['Occupation']==' ?' ] "
   ]
  },
  {
   "cell_type": "code",
   "execution_count": 80,
   "metadata": {},
   "outputs": [
    {
     "data": {
      "text/plain": [
       "array([' ?', ' Never-worked'], dtype=object)"
      ]
     },
     "execution_count": 80,
     "metadata": {},
     "output_type": "execute_result"
    }
   ],
   "source": [
    "unk3['Workclass'].unique()\n"
   ]
  },
  {
   "cell_type": "code",
   "execution_count": 81,
   "metadata": {},
   "outputs": [],
   "source": [
    "nev_w = unk3[unk3['Workclass']==' Never-worked' ]"
   ]
  },
  {
   "cell_type": "code",
   "execution_count": 82,
   "metadata": {},
   "outputs": [],
   "source": [
    "indxs_n_w = nev_w.index"
   ]
  },
  {
   "cell_type": "code",
   "execution_count": 83,
   "metadata": {},
   "outputs": [
    {
     "data": {
      "text/plain": [
       "Int64Index([5360, 10844, 14771, 20336, 23231, 32303, 32313], dtype='int64')"
      ]
     },
     "execution_count": 83,
     "metadata": {},
     "output_type": "execute_result"
    }
   ],
   "source": [
    "indxs_n_w"
   ]
  },
  {
   "cell_type": "code",
   "execution_count": 84,
   "metadata": {},
   "outputs": [
    {
     "data": {
      "text/html": [
       "<div>\n",
       "<style scoped>\n",
       "    .dataframe tbody tr th:only-of-type {\n",
       "        vertical-align: middle;\n",
       "    }\n",
       "\n",
       "    .dataframe tbody tr th {\n",
       "        vertical-align: top;\n",
       "    }\n",
       "\n",
       "    .dataframe thead th {\n",
       "        text-align: right;\n",
       "    }\n",
       "</style>\n",
       "<table border=\"1\" class=\"dataframe\">\n",
       "  <thead>\n",
       "    <tr style=\"text-align: right;\">\n",
       "      <th></th>\n",
       "      <th>Age</th>\n",
       "      <th>Workclass</th>\n",
       "      <th>fnlwgt</th>\n",
       "      <th>Bachelors</th>\n",
       "      <th>education_num</th>\n",
       "      <th>Marital</th>\n",
       "      <th>Occupation</th>\n",
       "      <th>Relationship</th>\n",
       "      <th>Ethnicity</th>\n",
       "      <th>Gender</th>\n",
       "      <th>capital_gain</th>\n",
       "      <th>capital_loss</th>\n",
       "      <th>hours_per_week</th>\n",
       "      <th>United-States</th>\n",
       "      <th>&lt;=50K</th>\n",
       "      <th>less than 50K</th>\n",
       "    </tr>\n",
       "  </thead>\n",
       "  <tbody>\n",
       "    <tr>\n",
       "      <th>5360</th>\n",
       "      <td>18</td>\n",
       "      <td>Never-worked</td>\n",
       "      <td>206359</td>\n",
       "      <td>10th</td>\n",
       "      <td>6</td>\n",
       "      <td>Never-married</td>\n",
       "      <td>?</td>\n",
       "      <td>Own-child</td>\n",
       "      <td>White</td>\n",
       "      <td>Male</td>\n",
       "      <td>0</td>\n",
       "      <td>0</td>\n",
       "      <td>40</td>\n",
       "      <td>United-States</td>\n",
       "      <td>&lt;=50K</td>\n",
       "      <td>1</td>\n",
       "    </tr>\n",
       "    <tr>\n",
       "      <th>10844</th>\n",
       "      <td>23</td>\n",
       "      <td>Never-worked</td>\n",
       "      <td>188535</td>\n",
       "      <td>7th-8th</td>\n",
       "      <td>4</td>\n",
       "      <td>Divorced</td>\n",
       "      <td>?</td>\n",
       "      <td>Not-in-family</td>\n",
       "      <td>White</td>\n",
       "      <td>Male</td>\n",
       "      <td>0</td>\n",
       "      <td>0</td>\n",
       "      <td>35</td>\n",
       "      <td>United-States</td>\n",
       "      <td>&lt;=50K</td>\n",
       "      <td>1</td>\n",
       "    </tr>\n",
       "    <tr>\n",
       "      <th>14771</th>\n",
       "      <td>17</td>\n",
       "      <td>Never-worked</td>\n",
       "      <td>237272</td>\n",
       "      <td>10th</td>\n",
       "      <td>6</td>\n",
       "      <td>Never-married</td>\n",
       "      <td>?</td>\n",
       "      <td>Own-child</td>\n",
       "      <td>White</td>\n",
       "      <td>Male</td>\n",
       "      <td>0</td>\n",
       "      <td>0</td>\n",
       "      <td>30</td>\n",
       "      <td>United-States</td>\n",
       "      <td>&lt;=50K</td>\n",
       "      <td>1</td>\n",
       "    </tr>\n",
       "    <tr>\n",
       "      <th>20336</th>\n",
       "      <td>18</td>\n",
       "      <td>Never-worked</td>\n",
       "      <td>157131</td>\n",
       "      <td>11th</td>\n",
       "      <td>7</td>\n",
       "      <td>Never-married</td>\n",
       "      <td>?</td>\n",
       "      <td>Own-child</td>\n",
       "      <td>White</td>\n",
       "      <td>Female</td>\n",
       "      <td>0</td>\n",
       "      <td>0</td>\n",
       "      <td>10</td>\n",
       "      <td>United-States</td>\n",
       "      <td>&lt;=50K</td>\n",
       "      <td>1</td>\n",
       "    </tr>\n",
       "    <tr>\n",
       "      <th>23231</th>\n",
       "      <td>20</td>\n",
       "      <td>Never-worked</td>\n",
       "      <td>462294</td>\n",
       "      <td>Some-college</td>\n",
       "      <td>10</td>\n",
       "      <td>Never-married</td>\n",
       "      <td>?</td>\n",
       "      <td>Own-child</td>\n",
       "      <td>Black</td>\n",
       "      <td>Male</td>\n",
       "      <td>0</td>\n",
       "      <td>0</td>\n",
       "      <td>40</td>\n",
       "      <td>United-States</td>\n",
       "      <td>&lt;=50K</td>\n",
       "      <td>1</td>\n",
       "    </tr>\n",
       "    <tr>\n",
       "      <th>32303</th>\n",
       "      <td>30</td>\n",
       "      <td>Never-worked</td>\n",
       "      <td>176673</td>\n",
       "      <td>HS-grad</td>\n",
       "      <td>9</td>\n",
       "      <td>Married-civ-spouse</td>\n",
       "      <td>?</td>\n",
       "      <td>Wife</td>\n",
       "      <td>Black</td>\n",
       "      <td>Female</td>\n",
       "      <td>0</td>\n",
       "      <td>0</td>\n",
       "      <td>40</td>\n",
       "      <td>United-States</td>\n",
       "      <td>&lt;=50K</td>\n",
       "      <td>1</td>\n",
       "    </tr>\n",
       "    <tr>\n",
       "      <th>32313</th>\n",
       "      <td>18</td>\n",
       "      <td>Never-worked</td>\n",
       "      <td>153663</td>\n",
       "      <td>Some-college</td>\n",
       "      <td>10</td>\n",
       "      <td>Never-married</td>\n",
       "      <td>?</td>\n",
       "      <td>Own-child</td>\n",
       "      <td>White</td>\n",
       "      <td>Male</td>\n",
       "      <td>0</td>\n",
       "      <td>0</td>\n",
       "      <td>4</td>\n",
       "      <td>United-States</td>\n",
       "      <td>&lt;=50K</td>\n",
       "      <td>1</td>\n",
       "    </tr>\n",
       "  </tbody>\n",
       "</table>\n",
       "</div>"
      ],
      "text/plain": [
       "       Age      Workclass  fnlwgt      Bachelors  education_num  \\\n",
       "5360    18   Never-worked  206359           10th              6   \n",
       "10844   23   Never-worked  188535        7th-8th              4   \n",
       "14771   17   Never-worked  237272           10th              6   \n",
       "20336   18   Never-worked  157131           11th              7   \n",
       "23231   20   Never-worked  462294   Some-college             10   \n",
       "32303   30   Never-worked  176673        HS-grad              9   \n",
       "32313   18   Never-worked  153663   Some-college             10   \n",
       "\n",
       "                   Marital Occupation    Relationship Ethnicity   Gender  \\\n",
       "5360         Never-married          ?       Own-child     White     Male   \n",
       "10844             Divorced          ?   Not-in-family     White     Male   \n",
       "14771        Never-married          ?       Own-child     White     Male   \n",
       "20336        Never-married          ?       Own-child     White   Female   \n",
       "23231        Never-married          ?       Own-child     Black     Male   \n",
       "32303   Married-civ-spouse          ?            Wife     Black   Female   \n",
       "32313        Never-married          ?       Own-child     White     Male   \n",
       "\n",
       "       capital_gain  capital_loss  hours_per_week   United-States   <=50K  \\\n",
       "5360              0             0              40   United-States   <=50K   \n",
       "10844             0             0              35   United-States   <=50K   \n",
       "14771             0             0              30   United-States   <=50K   \n",
       "20336             0             0              10   United-States   <=50K   \n",
       "23231             0             0              40   United-States   <=50K   \n",
       "32303             0             0              40   United-States   <=50K   \n",
       "32313             0             0               4   United-States   <=50K   \n",
       "\n",
       "       less than 50K  \n",
       "5360               1  \n",
       "10844              1  \n",
       "14771              1  \n",
       "20336              1  \n",
       "23231              1  \n",
       "32303              1  \n",
       "32313              1  "
      ]
     },
     "execution_count": 84,
     "metadata": {},
     "output_type": "execute_result"
    }
   ],
   "source": [
    "df2.loc[indxs_n_w]"
   ]
  },
  {
   "cell_type": "code",
   "execution_count": 85,
   "metadata": {},
   "outputs": [
    {
     "data": {
      "text/html": [
       "<div>\n",
       "<style scoped>\n",
       "    .dataframe tbody tr th:only-of-type {\n",
       "        vertical-align: middle;\n",
       "    }\n",
       "\n",
       "    .dataframe tbody tr th {\n",
       "        vertical-align: top;\n",
       "    }\n",
       "\n",
       "    .dataframe thead th {\n",
       "        text-align: right;\n",
       "    }\n",
       "</style>\n",
       "<table border=\"1\" class=\"dataframe\">\n",
       "  <thead>\n",
       "    <tr style=\"text-align: right;\">\n",
       "      <th></th>\n",
       "      <th>Age</th>\n",
       "      <th>Workclass</th>\n",
       "      <th>fnlwgt</th>\n",
       "      <th>Bachelors</th>\n",
       "      <th>education_num</th>\n",
       "      <th>Marital</th>\n",
       "      <th>Occupation</th>\n",
       "      <th>Relationship</th>\n",
       "      <th>Ethnicity</th>\n",
       "      <th>Gender</th>\n",
       "      <th>capital_gain</th>\n",
       "      <th>capital_loss</th>\n",
       "      <th>hours_per_week</th>\n",
       "      <th>United-States</th>\n",
       "      <th>&lt;=50K</th>\n",
       "      <th>less than 50K</th>\n",
       "    </tr>\n",
       "  </thead>\n",
       "  <tbody>\n",
       "    <tr>\n",
       "      <th>5360</th>\n",
       "      <td>18</td>\n",
       "      <td>Never-worked</td>\n",
       "      <td>206359</td>\n",
       "      <td>10th</td>\n",
       "      <td>6</td>\n",
       "      <td>Never-married</td>\n",
       "      <td>?</td>\n",
       "      <td>Own-child</td>\n",
       "      <td>White</td>\n",
       "      <td>Male</td>\n",
       "      <td>0</td>\n",
       "      <td>0</td>\n",
       "      <td>40</td>\n",
       "      <td>United-States</td>\n",
       "      <td>&lt;=50K</td>\n",
       "      <td>1</td>\n",
       "    </tr>\n",
       "    <tr>\n",
       "      <th>10844</th>\n",
       "      <td>23</td>\n",
       "      <td>Never-worked</td>\n",
       "      <td>188535</td>\n",
       "      <td>7th-8th</td>\n",
       "      <td>4</td>\n",
       "      <td>Divorced</td>\n",
       "      <td>?</td>\n",
       "      <td>Not-in-family</td>\n",
       "      <td>White</td>\n",
       "      <td>Male</td>\n",
       "      <td>0</td>\n",
       "      <td>0</td>\n",
       "      <td>35</td>\n",
       "      <td>United-States</td>\n",
       "      <td>&lt;=50K</td>\n",
       "      <td>1</td>\n",
       "    </tr>\n",
       "    <tr>\n",
       "      <th>14771</th>\n",
       "      <td>17</td>\n",
       "      <td>Never-worked</td>\n",
       "      <td>237272</td>\n",
       "      <td>10th</td>\n",
       "      <td>6</td>\n",
       "      <td>Never-married</td>\n",
       "      <td>?</td>\n",
       "      <td>Own-child</td>\n",
       "      <td>White</td>\n",
       "      <td>Male</td>\n",
       "      <td>0</td>\n",
       "      <td>0</td>\n",
       "      <td>30</td>\n",
       "      <td>United-States</td>\n",
       "      <td>&lt;=50K</td>\n",
       "      <td>1</td>\n",
       "    </tr>\n",
       "    <tr>\n",
       "      <th>20336</th>\n",
       "      <td>18</td>\n",
       "      <td>Never-worked</td>\n",
       "      <td>157131</td>\n",
       "      <td>11th</td>\n",
       "      <td>7</td>\n",
       "      <td>Never-married</td>\n",
       "      <td>?</td>\n",
       "      <td>Own-child</td>\n",
       "      <td>White</td>\n",
       "      <td>Female</td>\n",
       "      <td>0</td>\n",
       "      <td>0</td>\n",
       "      <td>10</td>\n",
       "      <td>United-States</td>\n",
       "      <td>&lt;=50K</td>\n",
       "      <td>1</td>\n",
       "    </tr>\n",
       "    <tr>\n",
       "      <th>23231</th>\n",
       "      <td>20</td>\n",
       "      <td>Never-worked</td>\n",
       "      <td>462294</td>\n",
       "      <td>Some-college</td>\n",
       "      <td>10</td>\n",
       "      <td>Never-married</td>\n",
       "      <td>?</td>\n",
       "      <td>Own-child</td>\n",
       "      <td>Black</td>\n",
       "      <td>Male</td>\n",
       "      <td>0</td>\n",
       "      <td>0</td>\n",
       "      <td>40</td>\n",
       "      <td>United-States</td>\n",
       "      <td>&lt;=50K</td>\n",
       "      <td>1</td>\n",
       "    </tr>\n",
       "    <tr>\n",
       "      <th>32303</th>\n",
       "      <td>30</td>\n",
       "      <td>Never-worked</td>\n",
       "      <td>176673</td>\n",
       "      <td>HS-grad</td>\n",
       "      <td>9</td>\n",
       "      <td>Married-civ-spouse</td>\n",
       "      <td>?</td>\n",
       "      <td>Wife</td>\n",
       "      <td>Black</td>\n",
       "      <td>Female</td>\n",
       "      <td>0</td>\n",
       "      <td>0</td>\n",
       "      <td>40</td>\n",
       "      <td>United-States</td>\n",
       "      <td>&lt;=50K</td>\n",
       "      <td>1</td>\n",
       "    </tr>\n",
       "    <tr>\n",
       "      <th>32313</th>\n",
       "      <td>18</td>\n",
       "      <td>Never-worked</td>\n",
       "      <td>153663</td>\n",
       "      <td>Some-college</td>\n",
       "      <td>10</td>\n",
       "      <td>Never-married</td>\n",
       "      <td>?</td>\n",
       "      <td>Own-child</td>\n",
       "      <td>White</td>\n",
       "      <td>Male</td>\n",
       "      <td>0</td>\n",
       "      <td>0</td>\n",
       "      <td>4</td>\n",
       "      <td>United-States</td>\n",
       "      <td>&lt;=50K</td>\n",
       "      <td>1</td>\n",
       "    </tr>\n",
       "  </tbody>\n",
       "</table>\n",
       "</div>"
      ],
      "text/plain": [
       "       Age      Workclass  fnlwgt      Bachelors  education_num  \\\n",
       "5360    18   Never-worked  206359           10th              6   \n",
       "10844   23   Never-worked  188535        7th-8th              4   \n",
       "14771   17   Never-worked  237272           10th              6   \n",
       "20336   18   Never-worked  157131           11th              7   \n",
       "23231   20   Never-worked  462294   Some-college             10   \n",
       "32303   30   Never-worked  176673        HS-grad              9   \n",
       "32313   18   Never-worked  153663   Some-college             10   \n",
       "\n",
       "                   Marital Occupation    Relationship Ethnicity   Gender  \\\n",
       "5360         Never-married          ?       Own-child     White     Male   \n",
       "10844             Divorced          ?   Not-in-family     White     Male   \n",
       "14771        Never-married          ?       Own-child     White     Male   \n",
       "20336        Never-married          ?       Own-child     White   Female   \n",
       "23231        Never-married          ?       Own-child     Black     Male   \n",
       "32303   Married-civ-spouse          ?            Wife     Black   Female   \n",
       "32313        Never-married          ?       Own-child     White     Male   \n",
       "\n",
       "       capital_gain  capital_loss  hours_per_week   United-States   <=50K  \\\n",
       "5360              0             0              40   United-States   <=50K   \n",
       "10844             0             0              35   United-States   <=50K   \n",
       "14771             0             0              30   United-States   <=50K   \n",
       "20336             0             0              10   United-States   <=50K   \n",
       "23231             0             0              40   United-States   <=50K   \n",
       "32303             0             0              40   United-States   <=50K   \n",
       "32313             0             0               4   United-States   <=50K   \n",
       "\n",
       "       less than 50K  \n",
       "5360               1  \n",
       "10844              1  \n",
       "14771              1  \n",
       "20336              1  \n",
       "23231              1  \n",
       "32303              1  \n",
       "32313              1  "
      ]
     },
     "execution_count": 85,
     "metadata": {},
     "output_type": "execute_result"
    }
   ],
   "source": [
    "df2[df2['Workclass']==' Never-worked']"
   ]
  },
  {
   "cell_type": "code",
   "execution_count": 86,
   "metadata": {},
   "outputs": [
    {
     "name": "stdout",
     "output_type": "stream",
     "text": [
      " Prof-specialty       4140\n",
      " Craft-repair         4099\n",
      " Exec-managerial      4066\n",
      " Adm-clerical         3769\n",
      " Sales                3650\n",
      " Other-service        3295\n",
      " Machine-op-inspct    2002\n",
      " ?                    1843\n",
      " Transport-moving     1597\n",
      " Handlers-cleaners    1370\n",
      " Farming-fishing       994\n",
      " Tech-support          928\n",
      " Protective-serv       649\n",
      " Priv-house-serv       149\n",
      " Armed-Forces            9\n",
      "Name: Occupation, dtype: int64 \n",
      "\n",
      "  Private             22696\n",
      " Self-emp-not-inc     2541\n",
      " Local-gov            2093\n",
      " ?                    1836\n",
      " State-gov            1297\n",
      " Self-emp-inc         1116\n",
      " Federal-gov           960\n",
      " Without-pay            14\n",
      " Never-worked            7\n",
      "Name: Workclass, dtype: int64\n"
     ]
    }
   ],
   "source": [
    "print (df2['Occupation'].value_counts(),'\\n\\n',df2['Workclass'].value_counts())"
   ]
  },
  {
   "cell_type": "code",
   "execution_count": 87,
   "metadata": {},
   "outputs": [
    {
     "data": {
      "text/html": [
       "<div>\n",
       "<style scoped>\n",
       "    .dataframe tbody tr th:only-of-type {\n",
       "        vertical-align: middle;\n",
       "    }\n",
       "\n",
       "    .dataframe tbody tr th {\n",
       "        vertical-align: top;\n",
       "    }\n",
       "\n",
       "    .dataframe thead th {\n",
       "        text-align: right;\n",
       "    }\n",
       "</style>\n",
       "<table border=\"1\" class=\"dataframe\">\n",
       "  <thead>\n",
       "    <tr style=\"text-align: right;\">\n",
       "      <th></th>\n",
       "      <th>Workclass</th>\n",
       "      <th>Occupation</th>\n",
       "      <th>Bachelors</th>\n",
       "      <th>hours_per_week</th>\n",
       "    </tr>\n",
       "  </thead>\n",
       "  <tbody>\n",
       "    <tr>\n",
       "      <th>0</th>\n",
       "      <td>Self-emp-not-inc</td>\n",
       "      <td>Exec-managerial</td>\n",
       "      <td>Bachelors</td>\n",
       "      <td>13</td>\n",
       "    </tr>\n",
       "    <tr>\n",
       "      <th>1</th>\n",
       "      <td>Private</td>\n",
       "      <td>Handlers-cleaners</td>\n",
       "      <td>HS-grad</td>\n",
       "      <td>40</td>\n",
       "    </tr>\n",
       "    <tr>\n",
       "      <th>2</th>\n",
       "      <td>Private</td>\n",
       "      <td>Handlers-cleaners</td>\n",
       "      <td>11th</td>\n",
       "      <td>40</td>\n",
       "    </tr>\n",
       "    <tr>\n",
       "      <th>3</th>\n",
       "      <td>Private</td>\n",
       "      <td>Prof-specialty</td>\n",
       "      <td>Bachelors</td>\n",
       "      <td>40</td>\n",
       "    </tr>\n",
       "    <tr>\n",
       "      <th>4</th>\n",
       "      <td>Private</td>\n",
       "      <td>Exec-managerial</td>\n",
       "      <td>Masters</td>\n",
       "      <td>40</td>\n",
       "    </tr>\n",
       "  </tbody>\n",
       "</table>\n",
       "</div>"
      ],
      "text/plain": [
       "           Workclass          Occupation   Bachelors  hours_per_week\n",
       "0   Self-emp-not-inc     Exec-managerial   Bachelors              13\n",
       "1            Private   Handlers-cleaners     HS-grad              40\n",
       "2            Private   Handlers-cleaners        11th              40\n",
       "3            Private      Prof-specialty   Bachelors              40\n",
       "4            Private     Exec-managerial     Masters              40"
      ]
     },
     "execution_count": 87,
     "metadata": {},
     "output_type": "execute_result"
    }
   ],
   "source": [
    "unk = df2[['Workclass','Occupation','Bachelors','hours_per_week']]\n",
    "unk.head()"
   ]
  },
  {
   "cell_type": "code",
   "execution_count": 88,
   "metadata": {},
   "outputs": [
    {
     "data": {
      "text/html": [
       "<div>\n",
       "<style scoped>\n",
       "    .dataframe tbody tr th:only-of-type {\n",
       "        vertical-align: middle;\n",
       "    }\n",
       "\n",
       "    .dataframe tbody tr th {\n",
       "        vertical-align: top;\n",
       "    }\n",
       "\n",
       "    .dataframe thead th {\n",
       "        text-align: right;\n",
       "    }\n",
       "</style>\n",
       "<table border=\"1\" class=\"dataframe\">\n",
       "  <thead>\n",
       "    <tr style=\"text-align: right;\">\n",
       "      <th></th>\n",
       "      <th>Workclass</th>\n",
       "      <th>Occupation</th>\n",
       "      <th>Bachelors</th>\n",
       "      <th>hours_per_week</th>\n",
       "    </tr>\n",
       "  </thead>\n",
       "  <tbody>\n",
       "    <tr>\n",
       "      <th>5360</th>\n",
       "      <td>Never-worked</td>\n",
       "      <td>?</td>\n",
       "      <td>10th</td>\n",
       "      <td>40</td>\n",
       "    </tr>\n",
       "    <tr>\n",
       "      <th>10844</th>\n",
       "      <td>Never-worked</td>\n",
       "      <td>?</td>\n",
       "      <td>7th-8th</td>\n",
       "      <td>35</td>\n",
       "    </tr>\n",
       "    <tr>\n",
       "      <th>14771</th>\n",
       "      <td>Never-worked</td>\n",
       "      <td>?</td>\n",
       "      <td>10th</td>\n",
       "      <td>30</td>\n",
       "    </tr>\n",
       "    <tr>\n",
       "      <th>20336</th>\n",
       "      <td>Never-worked</td>\n",
       "      <td>?</td>\n",
       "      <td>11th</td>\n",
       "      <td>10</td>\n",
       "    </tr>\n",
       "    <tr>\n",
       "      <th>23231</th>\n",
       "      <td>Never-worked</td>\n",
       "      <td>?</td>\n",
       "      <td>Some-college</td>\n",
       "      <td>40</td>\n",
       "    </tr>\n",
       "    <tr>\n",
       "      <th>32303</th>\n",
       "      <td>Never-worked</td>\n",
       "      <td>?</td>\n",
       "      <td>HS-grad</td>\n",
       "      <td>40</td>\n",
       "    </tr>\n",
       "    <tr>\n",
       "      <th>32313</th>\n",
       "      <td>Never-worked</td>\n",
       "      <td>?</td>\n",
       "      <td>Some-college</td>\n",
       "      <td>4</td>\n",
       "    </tr>\n",
       "  </tbody>\n",
       "</table>\n",
       "</div>"
      ],
      "text/plain": [
       "           Workclass Occupation      Bachelors  hours_per_week\n",
       "5360    Never-worked          ?           10th              40\n",
       "10844   Never-worked          ?        7th-8th              35\n",
       "14771   Never-worked          ?           10th              30\n",
       "20336   Never-worked          ?           11th              10\n",
       "23231   Never-worked          ?   Some-college              40\n",
       "32303   Never-worked          ?        HS-grad              40\n",
       "32313   Never-worked          ?   Some-college               4"
      ]
     },
     "execution_count": 88,
     "metadata": {},
     "output_type": "execute_result"
    }
   ],
   "source": [
    "unk[unk['Workclass']==' Never-worked']"
   ]
  },
  {
   "cell_type": "code",
   "execution_count": 89,
   "metadata": {},
   "outputs": [
    {
     "data": {
      "text/plain": [
       "5360      Never-worked\n",
       "10844     Never-worked\n",
       "14771     Never-worked\n",
       "20336     Never-worked\n",
       "23231     Never-worked\n",
       "32303     Never-worked\n",
       "32313     Never-worked\n",
       "Name: Workclass, dtype: object"
      ]
     },
     "execution_count": 89,
     "metadata": {},
     "output_type": "execute_result"
    }
   ],
   "source": [
    "unk[unk['Workclass']==' Never-worked']['Workclass']"
   ]
  },
  {
   "cell_type": "code",
   "execution_count": 90,
   "metadata": {},
   "outputs": [
    {
     "name": "stderr",
     "output_type": "stream",
     "text": [
      "C:\\Users\\Thor 3\\Anaconda3\\lib\\site-packages\\pandas\\core\\indexing.py:965: SettingWithCopyWarning: \n",
      "A value is trying to be set on a copy of a slice from a DataFrame.\n",
      "Try using .loc[row_indexer,col_indexer] = value instead\n",
      "\n",
      "See the caveats in the documentation: https://pandas.pydata.org/pandas-docs/stable/user_guide/indexing.html#returning-a-view-versus-a-copy\n",
      "  self.obj[item] = s\n"
     ]
    }
   ],
   "source": [
    "unk.loc[unk['Workclass']==' Never-worked']=' Private'"
   ]
  },
  {
   "cell_type": "code",
   "execution_count": 91,
   "metadata": {},
   "outputs": [],
   "source": [
    "#df2.loc[df2['Workclass']==' Never-worked']=' Private'\n",
    "df2['Workclass'].replace(' ?',' Private',inplace=True)"
   ]
  },
  {
   "cell_type": "code",
   "execution_count": 92,
   "metadata": {},
   "outputs": [
    {
     "name": "stdout",
     "output_type": "stream",
     "text": [
      " Prof-specialty       4140\n",
      " Craft-repair         4099\n",
      " Exec-managerial      4066\n",
      " Adm-clerical         3769\n",
      " Sales                3650\n",
      " Other-service        3295\n",
      " Machine-op-inspct    2002\n",
      " ?                    1843\n",
      " Transport-moving     1597\n",
      " Handlers-cleaners    1370\n",
      " Farming-fishing       994\n",
      " Tech-support          928\n",
      " Protective-serv       649\n",
      " Priv-house-serv       149\n",
      " Armed-Forces            9\n",
      "Name: Occupation, dtype: int64 \n",
      "\n",
      "  Private             24532\n",
      " Self-emp-not-inc     2541\n",
      " Local-gov            2093\n",
      " State-gov            1297\n",
      " Self-emp-inc         1116\n",
      " Federal-gov           960\n",
      " Without-pay            14\n",
      " Never-worked            7\n",
      "Name: Workclass, dtype: int64\n"
     ]
    }
   ],
   "source": [
    "print (df2['Occupation'].value_counts(),'\\n\\n',df2['Workclass'].value_counts())"
   ]
  },
  {
   "cell_type": "code",
   "execution_count": 93,
   "metadata": {},
   "outputs": [],
   "source": [
    "#df2.loc[df2['Workclass']==' ?',['Workclass']]=' Private'\n",
    "#df2.loc[df2['Occupation']==' ?',['Occupation']]=' Other-service'\n",
    "#df3['Marital'].replace(' Private','Private',inplace=True)\n",
    "df2['Workclass'].replace(' ?',' Private',inplace=True)\n",
    "df2['Occupation'].replace(' ?',' Other-service',inplace=True)"
   ]
  },
  {
   "cell_type": "code",
   "execution_count": 94,
   "metadata": {},
   "outputs": [
    {
     "name": "stdout",
     "output_type": "stream",
     "text": [
      " Other-service        5138\n",
      " Prof-specialty       4140\n",
      " Craft-repair         4099\n",
      " Exec-managerial      4066\n",
      " Adm-clerical         3769\n",
      " Sales                3650\n",
      " Machine-op-inspct    2002\n",
      " Transport-moving     1597\n",
      " Handlers-cleaners    1370\n",
      " Farming-fishing       994\n",
      " Tech-support          928\n",
      " Protective-serv       649\n",
      " Priv-house-serv       149\n",
      " Armed-Forces            9\n",
      "Name: Occupation, dtype: int64 \n",
      "\n",
      "  Private             24532\n",
      " Self-emp-not-inc     2541\n",
      " Local-gov            2093\n",
      " State-gov            1297\n",
      " Self-emp-inc         1116\n",
      " Federal-gov           960\n",
      " Without-pay            14\n",
      " Never-worked            7\n",
      "Name: Workclass, dtype: int64\n"
     ]
    }
   ],
   "source": [
    "print (df2['Occupation'].value_counts(),'\\n\\n',df2['Workclass'].value_counts())"
   ]
  },
  {
   "cell_type": "code",
   "execution_count": 95,
   "metadata": {},
   "outputs": [],
   "source": [
    "#df2.loc[df2['Workclass']==' Private',['Workclass']]='Private'\n",
    "df2['Workclass'].replace(' Private','Private',inplace=True)"
   ]
  },
  {
   "cell_type": "code",
   "execution_count": 96,
   "metadata": {},
   "outputs": [
    {
     "name": "stdout",
     "output_type": "stream",
     "text": [
      " Other-service        5138\n",
      " Prof-specialty       4140\n",
      " Craft-repair         4099\n",
      " Exec-managerial      4066\n",
      " Adm-clerical         3769\n",
      " Sales                3650\n",
      " Machine-op-inspct    2002\n",
      " Transport-moving     1597\n",
      " Handlers-cleaners    1370\n",
      " Farming-fishing       994\n",
      " Tech-support          928\n",
      " Protective-serv       649\n",
      " Priv-house-serv       149\n",
      " Armed-Forces            9\n",
      "Name: Occupation, dtype: int64 \n",
      "\n",
      " Private              24532\n",
      " Self-emp-not-inc     2541\n",
      " Local-gov            2093\n",
      " State-gov            1297\n",
      " Self-emp-inc         1116\n",
      " Federal-gov           960\n",
      " Without-pay            14\n",
      " Never-worked            7\n",
      "Name: Workclass, dtype: int64\n"
     ]
    }
   ],
   "source": [
    "print (df2['Occupation'].value_counts(),'\\n\\n',df2['Workclass'].value_counts())"
   ]
  },
  {
   "cell_type": "code",
   "execution_count": 97,
   "metadata": {},
   "outputs": [
    {
     "data": {
      "text/plain": [
       "1    24719\n",
       "0     7841\n",
       "Name: less than 50K, dtype: int64"
      ]
     },
     "execution_count": 97,
     "metadata": {},
     "output_type": "execute_result"
    }
   ],
   "source": [
    "df2['less than 50K'].value_counts()"
   ]
  },
  {
   "cell_type": "code",
   "execution_count": 98,
   "metadata": {},
   "outputs": [],
   "source": [
    "#df2.drop([' <=50K'],axis=1,inplace=True)"
   ]
  },
  {
   "cell_type": "code",
   "execution_count": 99,
   "metadata": {},
   "outputs": [
    {
     "data": {
      "text/html": [
       "<div>\n",
       "<style scoped>\n",
       "    .dataframe tbody tr th:only-of-type {\n",
       "        vertical-align: middle;\n",
       "    }\n",
       "\n",
       "    .dataframe tbody tr th {\n",
       "        vertical-align: top;\n",
       "    }\n",
       "\n",
       "    .dataframe thead th {\n",
       "        text-align: right;\n",
       "    }\n",
       "</style>\n",
       "<table border=\"1\" class=\"dataframe\">\n",
       "  <thead>\n",
       "    <tr style=\"text-align: right;\">\n",
       "      <th></th>\n",
       "      <th>Age</th>\n",
       "      <th>Workclass</th>\n",
       "      <th>fnlwgt</th>\n",
       "      <th>Bachelors</th>\n",
       "      <th>education_num</th>\n",
       "      <th>Marital</th>\n",
       "      <th>Occupation</th>\n",
       "      <th>Relationship</th>\n",
       "      <th>Ethnicity</th>\n",
       "      <th>Gender</th>\n",
       "      <th>capital_gain</th>\n",
       "      <th>capital_loss</th>\n",
       "      <th>hours_per_week</th>\n",
       "      <th>United-States</th>\n",
       "      <th>&lt;=50K</th>\n",
       "      <th>less than 50K</th>\n",
       "    </tr>\n",
       "  </thead>\n",
       "  <tbody>\n",
       "    <tr>\n",
       "      <th>0</th>\n",
       "      <td>50</td>\n",
       "      <td>Self-emp-not-inc</td>\n",
       "      <td>83311</td>\n",
       "      <td>Bachelors</td>\n",
       "      <td>13</td>\n",
       "      <td>Married-civ-spouse</td>\n",
       "      <td>Exec-managerial</td>\n",
       "      <td>Husband</td>\n",
       "      <td>White</td>\n",
       "      <td>Male</td>\n",
       "      <td>0</td>\n",
       "      <td>0</td>\n",
       "      <td>13</td>\n",
       "      <td>United-States</td>\n",
       "      <td>&lt;=50K</td>\n",
       "      <td>1</td>\n",
       "    </tr>\n",
       "    <tr>\n",
       "      <th>1</th>\n",
       "      <td>38</td>\n",
       "      <td>Private</td>\n",
       "      <td>215646</td>\n",
       "      <td>HS-grad</td>\n",
       "      <td>9</td>\n",
       "      <td>Divorced</td>\n",
       "      <td>Handlers-cleaners</td>\n",
       "      <td>Not-in-family</td>\n",
       "      <td>White</td>\n",
       "      <td>Male</td>\n",
       "      <td>0</td>\n",
       "      <td>0</td>\n",
       "      <td>40</td>\n",
       "      <td>United-States</td>\n",
       "      <td>&lt;=50K</td>\n",
       "      <td>1</td>\n",
       "    </tr>\n",
       "    <tr>\n",
       "      <th>2</th>\n",
       "      <td>53</td>\n",
       "      <td>Private</td>\n",
       "      <td>234721</td>\n",
       "      <td>11th</td>\n",
       "      <td>7</td>\n",
       "      <td>Married-civ-spouse</td>\n",
       "      <td>Handlers-cleaners</td>\n",
       "      <td>Husband</td>\n",
       "      <td>Black</td>\n",
       "      <td>Male</td>\n",
       "      <td>0</td>\n",
       "      <td>0</td>\n",
       "      <td>40</td>\n",
       "      <td>United-States</td>\n",
       "      <td>&lt;=50K</td>\n",
       "      <td>1</td>\n",
       "    </tr>\n",
       "    <tr>\n",
       "      <th>3</th>\n",
       "      <td>28</td>\n",
       "      <td>Private</td>\n",
       "      <td>338409</td>\n",
       "      <td>Bachelors</td>\n",
       "      <td>13</td>\n",
       "      <td>Married-civ-spouse</td>\n",
       "      <td>Prof-specialty</td>\n",
       "      <td>Wife</td>\n",
       "      <td>Black</td>\n",
       "      <td>Female</td>\n",
       "      <td>0</td>\n",
       "      <td>0</td>\n",
       "      <td>40</td>\n",
       "      <td>Cuba</td>\n",
       "      <td>&lt;=50K</td>\n",
       "      <td>1</td>\n",
       "    </tr>\n",
       "    <tr>\n",
       "      <th>4</th>\n",
       "      <td>37</td>\n",
       "      <td>Private</td>\n",
       "      <td>284582</td>\n",
       "      <td>Masters</td>\n",
       "      <td>14</td>\n",
       "      <td>Married-civ-spouse</td>\n",
       "      <td>Exec-managerial</td>\n",
       "      <td>Wife</td>\n",
       "      <td>White</td>\n",
       "      <td>Female</td>\n",
       "      <td>0</td>\n",
       "      <td>0</td>\n",
       "      <td>40</td>\n",
       "      <td>United-States</td>\n",
       "      <td>&lt;=50K</td>\n",
       "      <td>1</td>\n",
       "    </tr>\n",
       "  </tbody>\n",
       "</table>\n",
       "</div>"
      ],
      "text/plain": [
       "   Age          Workclass  fnlwgt   Bachelors  education_num  \\\n",
       "0   50   Self-emp-not-inc   83311   Bachelors             13   \n",
       "1   38            Private  215646     HS-grad              9   \n",
       "2   53            Private  234721        11th              7   \n",
       "3   28            Private  338409   Bachelors             13   \n",
       "4   37            Private  284582     Masters             14   \n",
       "\n",
       "               Marital          Occupation    Relationship Ethnicity   Gender  \\\n",
       "0   Married-civ-spouse     Exec-managerial         Husband     White     Male   \n",
       "1             Divorced   Handlers-cleaners   Not-in-family     White     Male   \n",
       "2   Married-civ-spouse   Handlers-cleaners         Husband     Black     Male   \n",
       "3   Married-civ-spouse      Prof-specialty            Wife     Black   Female   \n",
       "4   Married-civ-spouse     Exec-managerial            Wife     White   Female   \n",
       "\n",
       "   capital_gain  capital_loss  hours_per_week   United-States   <=50K  \\\n",
       "0             0             0              13   United-States   <=50K   \n",
       "1             0             0              40   United-States   <=50K   \n",
       "2             0             0              40   United-States   <=50K   \n",
       "3             0             0              40            Cuba   <=50K   \n",
       "4             0             0              40   United-States   <=50K   \n",
       "\n",
       "   less than 50K  \n",
       "0              1  \n",
       "1              1  \n",
       "2              1  \n",
       "3              1  \n",
       "4              1  "
      ]
     },
     "execution_count": 99,
     "metadata": {},
     "output_type": "execute_result"
    }
   ],
   "source": [
    "df2.head()"
   ]
  },
  {
   "cell_type": "code",
   "execution_count": 100,
   "metadata": {},
   "outputs": [
    {
     "data": {
      "text/plain": [
       "(32560, 16)"
      ]
     },
     "execution_count": 100,
     "metadata": {},
     "output_type": "execute_result"
    }
   ],
   "source": [
    "df2.shape"
   ]
  },
  {
   "cell_type": "code",
   "execution_count": 101,
   "metadata": {},
   "outputs": [
    {
     "data": {
      "text/plain": [
       " <=50K    24719\n",
       " >50K      7841\n",
       "Name:  <=50K, dtype: int64"
      ]
     },
     "execution_count": 101,
     "metadata": {},
     "output_type": "execute_result"
    }
   ],
   "source": [
    "df[' <=50K'].value_counts()"
   ]
  },
  {
   "cell_type": "code",
   "execution_count": 102,
   "metadata": {},
   "outputs": [
    {
     "data": {
      "text/plain": [
       "1    24719\n",
       "0     7841\n",
       "Name: less than 50K, dtype: int64"
      ]
     },
     "execution_count": 102,
     "metadata": {},
     "output_type": "execute_result"
    }
   ],
   "source": [
    "df2['less than 50K'].value_counts()"
   ]
  },
  {
   "cell_type": "code",
   "execution_count": 103,
   "metadata": {},
   "outputs": [
    {
     "data": {
      "text/plain": [
       "Index(['Age', 'Workclass', 'fnlwgt', 'Bachelors', 'education_num', 'Marital',\n",
       "       'Occupation', 'Relationship', 'Ethnicity', 'Gender', 'capital_gain',\n",
       "       'capital_loss', 'hours_per_week', ' United-States', ' <=50K',\n",
       "       'less than 50K'],\n",
       "      dtype='object')"
      ]
     },
     "execution_count": 103,
     "metadata": {},
     "output_type": "execute_result"
    }
   ],
   "source": [
    "df2.columns"
   ]
  },
  {
   "cell_type": "markdown",
   "metadata": {},
   "source": [
    "# # final df"
   ]
  },
  {
   "cell_type": "code",
   "execution_count": 104,
   "metadata": {},
   "outputs": [],
   "source": [
    "df3 = df2.copy(deep=True)"
   ]
  },
  {
   "cell_type": "code",
   "execution_count": 105,
   "metadata": {},
   "outputs": [],
   "source": [
    "df3.drop(['fnlwgt','education_num'],axis=1,inplace=True)"
   ]
  },
  {
   "cell_type": "code",
   "execution_count": 106,
   "metadata": {},
   "outputs": [],
   "source": [
    "df3.drop(' <=50K',axis=1,inplace=True)"
   ]
  },
  {
   "cell_type": "code",
   "execution_count": 107,
   "metadata": {},
   "outputs": [
    {
     "data": {
      "text/plain": [
       "Private              24532\n",
       " Self-emp-not-inc     2541\n",
       " Local-gov            2093\n",
       " State-gov            1297\n",
       " Self-emp-inc         1116\n",
       " Federal-gov           960\n",
       " Without-pay            14\n",
       " Never-worked            7\n",
       "Name: Workclass, dtype: int64"
      ]
     },
     "execution_count": 107,
     "metadata": {},
     "output_type": "execute_result"
    }
   ],
   "source": [
    "df3['Workclass'].value_counts()"
   ]
  },
  {
   "cell_type": "code",
   "execution_count": 108,
   "metadata": {},
   "outputs": [],
   "source": [
    "#df.rename(columns={'39':'Age'},inplace=True)\n",
    "df3.rename(columns={' United-States':'Country'},inplace=True)"
   ]
  },
  {
   "cell_type": "code",
   "execution_count": 109,
   "metadata": {},
   "outputs": [
    {
     "data": {
      "text/html": [
       "<div>\n",
       "<style scoped>\n",
       "    .dataframe tbody tr th:only-of-type {\n",
       "        vertical-align: middle;\n",
       "    }\n",
       "\n",
       "    .dataframe tbody tr th {\n",
       "        vertical-align: top;\n",
       "    }\n",
       "\n",
       "    .dataframe thead th {\n",
       "        text-align: right;\n",
       "    }\n",
       "</style>\n",
       "<table border=\"1\" class=\"dataframe\">\n",
       "  <thead>\n",
       "    <tr style=\"text-align: right;\">\n",
       "      <th></th>\n",
       "      <th>Age</th>\n",
       "      <th>Workclass</th>\n",
       "      <th>Bachelors</th>\n",
       "      <th>Marital</th>\n",
       "      <th>Occupation</th>\n",
       "      <th>Relationship</th>\n",
       "      <th>Ethnicity</th>\n",
       "      <th>Gender</th>\n",
       "      <th>capital_gain</th>\n",
       "      <th>capital_loss</th>\n",
       "      <th>hours_per_week</th>\n",
       "      <th>Country</th>\n",
       "      <th>less than 50K</th>\n",
       "    </tr>\n",
       "  </thead>\n",
       "  <tbody>\n",
       "    <tr>\n",
       "      <th>0</th>\n",
       "      <td>50</td>\n",
       "      <td>Self-emp-not-inc</td>\n",
       "      <td>Bachelors</td>\n",
       "      <td>Married-civ-spouse</td>\n",
       "      <td>Exec-managerial</td>\n",
       "      <td>Husband</td>\n",
       "      <td>White</td>\n",
       "      <td>Male</td>\n",
       "      <td>0</td>\n",
       "      <td>0</td>\n",
       "      <td>13</td>\n",
       "      <td>United-States</td>\n",
       "      <td>1</td>\n",
       "    </tr>\n",
       "  </tbody>\n",
       "</table>\n",
       "</div>"
      ],
      "text/plain": [
       "   Age          Workclass   Bachelors              Marital        Occupation  \\\n",
       "0   50   Self-emp-not-inc   Bachelors   Married-civ-spouse   Exec-managerial   \n",
       "\n",
       "  Relationship Ethnicity Gender  capital_gain  capital_loss  hours_per_week  \\\n",
       "0      Husband     White   Male             0             0              13   \n",
       "\n",
       "          Country  less than 50K  \n",
       "0   United-States              1  "
      ]
     },
     "execution_count": 109,
     "metadata": {},
     "output_type": "execute_result"
    }
   ],
   "source": [
    "df3.head(1)"
   ]
  },
  {
   "cell_type": "code",
   "execution_count": 110,
   "metadata": {},
   "outputs": [],
   "source": [
    "#final_data = pd.get_dummies(loans,columns=['purpose'],drop_first=True)\n",
    "df4 = pd.get_dummies(df3,columns=['Relationship','Workclass','Bachelors','Marital','Occupation','Ethnicity','Gender','Country'],drop_first=True)"
   ]
  },
  {
   "cell_type": "markdown",
   "metadata": {},
   "source": [
    "# df4"
   ]
  },
  {
   "cell_type": "code",
   "execution_count": 111,
   "metadata": {},
   "outputs": [
    {
     "data": {
      "text/html": [
       "<div>\n",
       "<style scoped>\n",
       "    .dataframe tbody tr th:only-of-type {\n",
       "        vertical-align: middle;\n",
       "    }\n",
       "\n",
       "    .dataframe tbody tr th {\n",
       "        vertical-align: top;\n",
       "    }\n",
       "\n",
       "    .dataframe thead th {\n",
       "        text-align: right;\n",
       "    }\n",
       "</style>\n",
       "<table border=\"1\" class=\"dataframe\">\n",
       "  <thead>\n",
       "    <tr style=\"text-align: right;\">\n",
       "      <th></th>\n",
       "      <th>Age</th>\n",
       "      <th>capital_gain</th>\n",
       "      <th>capital_loss</th>\n",
       "      <th>hours_per_week</th>\n",
       "      <th>less than 50K</th>\n",
       "      <th>Relationship_ Not-in-family</th>\n",
       "      <th>Relationship_ Other-relative</th>\n",
       "      <th>Relationship_ Own-child</th>\n",
       "      <th>Relationship_ Unmarried</th>\n",
       "      <th>Relationship_ Wife</th>\n",
       "      <th>...</th>\n",
       "      <th>Country_ Portugal</th>\n",
       "      <th>Country_ Puerto-Rico</th>\n",
       "      <th>Country_ Scotland</th>\n",
       "      <th>Country_ South</th>\n",
       "      <th>Country_ Taiwan</th>\n",
       "      <th>Country_ Thailand</th>\n",
       "      <th>Country_ Trinadad&amp;Tobago</th>\n",
       "      <th>Country_ United-States</th>\n",
       "      <th>Country_ Vietnam</th>\n",
       "      <th>Country_ Yugoslavia</th>\n",
       "    </tr>\n",
       "  </thead>\n",
       "  <tbody>\n",
       "    <tr>\n",
       "      <th>0</th>\n",
       "      <td>50</td>\n",
       "      <td>0</td>\n",
       "      <td>0</td>\n",
       "      <td>13</td>\n",
       "      <td>1</td>\n",
       "      <td>0</td>\n",
       "      <td>0</td>\n",
       "      <td>0</td>\n",
       "      <td>0</td>\n",
       "      <td>0</td>\n",
       "      <td>...</td>\n",
       "      <td>0</td>\n",
       "      <td>0</td>\n",
       "      <td>0</td>\n",
       "      <td>0</td>\n",
       "      <td>0</td>\n",
       "      <td>0</td>\n",
       "      <td>0</td>\n",
       "      <td>1</td>\n",
       "      <td>0</td>\n",
       "      <td>0</td>\n",
       "    </tr>\n",
       "    <tr>\n",
       "      <th>1</th>\n",
       "      <td>38</td>\n",
       "      <td>0</td>\n",
       "      <td>0</td>\n",
       "      <td>40</td>\n",
       "      <td>1</td>\n",
       "      <td>1</td>\n",
       "      <td>0</td>\n",
       "      <td>0</td>\n",
       "      <td>0</td>\n",
       "      <td>0</td>\n",
       "      <td>...</td>\n",
       "      <td>0</td>\n",
       "      <td>0</td>\n",
       "      <td>0</td>\n",
       "      <td>0</td>\n",
       "      <td>0</td>\n",
       "      <td>0</td>\n",
       "      <td>0</td>\n",
       "      <td>1</td>\n",
       "      <td>0</td>\n",
       "      <td>0</td>\n",
       "    </tr>\n",
       "    <tr>\n",
       "      <th>2</th>\n",
       "      <td>53</td>\n",
       "      <td>0</td>\n",
       "      <td>0</td>\n",
       "      <td>40</td>\n",
       "      <td>1</td>\n",
       "      <td>0</td>\n",
       "      <td>0</td>\n",
       "      <td>0</td>\n",
       "      <td>0</td>\n",
       "      <td>0</td>\n",
       "      <td>...</td>\n",
       "      <td>0</td>\n",
       "      <td>0</td>\n",
       "      <td>0</td>\n",
       "      <td>0</td>\n",
       "      <td>0</td>\n",
       "      <td>0</td>\n",
       "      <td>0</td>\n",
       "      <td>1</td>\n",
       "      <td>0</td>\n",
       "      <td>0</td>\n",
       "    </tr>\n",
       "    <tr>\n",
       "      <th>3</th>\n",
       "      <td>28</td>\n",
       "      <td>0</td>\n",
       "      <td>0</td>\n",
       "      <td>40</td>\n",
       "      <td>1</td>\n",
       "      <td>0</td>\n",
       "      <td>0</td>\n",
       "      <td>0</td>\n",
       "      <td>0</td>\n",
       "      <td>1</td>\n",
       "      <td>...</td>\n",
       "      <td>0</td>\n",
       "      <td>0</td>\n",
       "      <td>0</td>\n",
       "      <td>0</td>\n",
       "      <td>0</td>\n",
       "      <td>0</td>\n",
       "      <td>0</td>\n",
       "      <td>0</td>\n",
       "      <td>0</td>\n",
       "      <td>0</td>\n",
       "    </tr>\n",
       "    <tr>\n",
       "      <th>4</th>\n",
       "      <td>37</td>\n",
       "      <td>0</td>\n",
       "      <td>0</td>\n",
       "      <td>40</td>\n",
       "      <td>1</td>\n",
       "      <td>0</td>\n",
       "      <td>0</td>\n",
       "      <td>0</td>\n",
       "      <td>0</td>\n",
       "      <td>1</td>\n",
       "      <td>...</td>\n",
       "      <td>0</td>\n",
       "      <td>0</td>\n",
       "      <td>0</td>\n",
       "      <td>0</td>\n",
       "      <td>0</td>\n",
       "      <td>0</td>\n",
       "      <td>0</td>\n",
       "      <td>1</td>\n",
       "      <td>0</td>\n",
       "      <td>0</td>\n",
       "    </tr>\n",
       "  </tbody>\n",
       "</table>\n",
       "<p>5 rows × 97 columns</p>\n",
       "</div>"
      ],
      "text/plain": [
       "   Age  capital_gain  capital_loss  hours_per_week  less than 50K  \\\n",
       "0   50             0             0              13              1   \n",
       "1   38             0             0              40              1   \n",
       "2   53             0             0              40              1   \n",
       "3   28             0             0              40              1   \n",
       "4   37             0             0              40              1   \n",
       "\n",
       "   Relationship_ Not-in-family  Relationship_ Other-relative  \\\n",
       "0                            0                             0   \n",
       "1                            1                             0   \n",
       "2                            0                             0   \n",
       "3                            0                             0   \n",
       "4                            0                             0   \n",
       "\n",
       "   Relationship_ Own-child  Relationship_ Unmarried  Relationship_ Wife  ...  \\\n",
       "0                        0                        0                   0  ...   \n",
       "1                        0                        0                   0  ...   \n",
       "2                        0                        0                   0  ...   \n",
       "3                        0                        0                   1  ...   \n",
       "4                        0                        0                   1  ...   \n",
       "\n",
       "   Country_ Portugal  Country_ Puerto-Rico  Country_ Scotland  Country_ South  \\\n",
       "0                  0                     0                  0               0   \n",
       "1                  0                     0                  0               0   \n",
       "2                  0                     0                  0               0   \n",
       "3                  0                     0                  0               0   \n",
       "4                  0                     0                  0               0   \n",
       "\n",
       "   Country_ Taiwan  Country_ Thailand  Country_ Trinadad&Tobago  \\\n",
       "0                0                  0                         0   \n",
       "1                0                  0                         0   \n",
       "2                0                  0                         0   \n",
       "3                0                  0                         0   \n",
       "4                0                  0                         0   \n",
       "\n",
       "   Country_ United-States  Country_ Vietnam  Country_ Yugoslavia  \n",
       "0                       1                 0                    0  \n",
       "1                       1                 0                    0  \n",
       "2                       1                 0                    0  \n",
       "3                       0                 0                    0  \n",
       "4                       1                 0                    0  \n",
       "\n",
       "[5 rows x 97 columns]"
      ]
     },
     "execution_count": 111,
     "metadata": {},
     "output_type": "execute_result"
    }
   ],
   "source": [
    "df4.head()"
   ]
  },
  {
   "cell_type": "code",
   "execution_count": 112,
   "metadata": {},
   "outputs": [],
   "source": [
    "#df4.info()"
   ]
  },
  {
   "cell_type": "code",
   "execution_count": 113,
   "metadata": {},
   "outputs": [
    {
     "data": {
      "text/plain": [
       "Index(['capital_loss', 'hours_per_week'], dtype='object')"
      ]
     },
     "execution_count": 113,
     "metadata": {},
     "output_type": "execute_result"
    }
   ],
   "source": [
    "df4.columns[2:4]"
   ]
  },
  {
   "cell_type": "code",
   "execution_count": 114,
   "metadata": {},
   "outputs": [
    {
     "data": {
      "text/plain": [
       "array([   0, 2042, 1408, 1902, 1573, 1887, 1719, 1762, 1564, 2179, 1816,\n",
       "       1980, 1977, 1876, 1340, 2206, 1741, 1485, 2339, 2415, 1380, 1721,\n",
       "       2051, 2377, 1669, 2352, 1672,  653, 2392, 1504, 2001, 1590, 1651,\n",
       "       1628, 1848, 1740, 2002, 1579, 2258, 1602,  419, 2547, 2174, 2205,\n",
       "       1726, 2444, 1138, 2238,  625,  213, 1539,  880, 1668, 1092, 1594,\n",
       "       3004, 2231, 1844,  810, 2824, 2559, 2057, 1974,  974, 2149, 1825,\n",
       "       1735, 1258, 2129, 2603, 2282,  323, 4356, 2246, 1617, 1648, 2489,\n",
       "       3770, 1755, 3683, 2267, 2080, 2457,  155, 3900, 2201, 1944, 2467,\n",
       "       2163, 2754, 2472, 1411], dtype=int64)"
      ]
     },
     "execution_count": 114,
     "metadata": {},
     "output_type": "execute_result"
    }
   ],
   "source": [
    "df4['capital_loss'].unique()"
   ]
  },
  {
   "cell_type": "code",
   "execution_count": 115,
   "metadata": {},
   "outputs": [
    {
     "data": {
      "text/html": [
       "<div>\n",
       "<style scoped>\n",
       "    .dataframe tbody tr th:only-of-type {\n",
       "        vertical-align: middle;\n",
       "    }\n",
       "\n",
       "    .dataframe tbody tr th {\n",
       "        vertical-align: top;\n",
       "    }\n",
       "\n",
       "    .dataframe thead th {\n",
       "        text-align: right;\n",
       "    }\n",
       "</style>\n",
       "<table border=\"1\" class=\"dataframe\">\n",
       "  <thead>\n",
       "    <tr style=\"text-align: right;\">\n",
       "      <th></th>\n",
       "      <th>Age</th>\n",
       "      <th>capital_gain</th>\n",
       "      <th>capital_loss</th>\n",
       "      <th>hours_per_week</th>\n",
       "      <th>less than 50K</th>\n",
       "      <th>Relationship_ Not-in-family</th>\n",
       "      <th>Relationship_ Other-relative</th>\n",
       "      <th>Relationship_ Own-child</th>\n",
       "      <th>Relationship_ Unmarried</th>\n",
       "      <th>Relationship_ Wife</th>\n",
       "      <th>...</th>\n",
       "      <th>Country_ Portugal</th>\n",
       "      <th>Country_ Puerto-Rico</th>\n",
       "      <th>Country_ Scotland</th>\n",
       "      <th>Country_ South</th>\n",
       "      <th>Country_ Taiwan</th>\n",
       "      <th>Country_ Thailand</th>\n",
       "      <th>Country_ Trinadad&amp;Tobago</th>\n",
       "      <th>Country_ United-States</th>\n",
       "      <th>Country_ Vietnam</th>\n",
       "      <th>Country_ Yugoslavia</th>\n",
       "    </tr>\n",
       "  </thead>\n",
       "  <tbody>\n",
       "    <tr>\n",
       "      <th>0</th>\n",
       "      <td>50</td>\n",
       "      <td>0</td>\n",
       "      <td>0</td>\n",
       "      <td>13</td>\n",
       "      <td>1</td>\n",
       "      <td>0</td>\n",
       "      <td>0</td>\n",
       "      <td>0</td>\n",
       "      <td>0</td>\n",
       "      <td>0</td>\n",
       "      <td>...</td>\n",
       "      <td>0</td>\n",
       "      <td>0</td>\n",
       "      <td>0</td>\n",
       "      <td>0</td>\n",
       "      <td>0</td>\n",
       "      <td>0</td>\n",
       "      <td>0</td>\n",
       "      <td>1</td>\n",
       "      <td>0</td>\n",
       "      <td>0</td>\n",
       "    </tr>\n",
       "  </tbody>\n",
       "</table>\n",
       "<p>1 rows × 97 columns</p>\n",
       "</div>"
      ],
      "text/plain": [
       "   Age  capital_gain  capital_loss  hours_per_week  less than 50K  \\\n",
       "0   50             0             0              13              1   \n",
       "\n",
       "   Relationship_ Not-in-family  Relationship_ Other-relative  \\\n",
       "0                            0                             0   \n",
       "\n",
       "   Relationship_ Own-child  Relationship_ Unmarried  Relationship_ Wife  ...  \\\n",
       "0                        0                        0                   0  ...   \n",
       "\n",
       "   Country_ Portugal  Country_ Puerto-Rico  Country_ Scotland  Country_ South  \\\n",
       "0                  0                     0                  0               0   \n",
       "\n",
       "   Country_ Taiwan  Country_ Thailand  Country_ Trinadad&Tobago  \\\n",
       "0                0                  0                         0   \n",
       "\n",
       "   Country_ United-States  Country_ Vietnam  Country_ Yugoslavia  \n",
       "0                       1                 0                    0  \n",
       "\n",
       "[1 rows x 97 columns]"
      ]
     },
     "execution_count": 115,
     "metadata": {},
     "output_type": "execute_result"
    }
   ],
   "source": [
    "df4.head(1)"
   ]
  },
  {
   "cell_type": "code",
   "execution_count": 116,
   "metadata": {},
   "outputs": [],
   "source": [
    "#df4.columns"
   ]
  },
  {
   "cell_type": "code",
   "execution_count": 157,
   "metadata": {},
   "outputs": [],
   "source": [
    "from sklearn.tree import DecisionTreeClassifier\n",
    "from sklearn.model_selection import train_test_split,KFold,cross_val_score, StratifiedKFold,GridSearchCV\n",
    "from sklearn.metrics import classification_report,confusion_matrix,roc_curve, auc\n",
    "from sklearn.ensemble import BaggingClassifier"
   ]
  },
  {
   "cell_type": "code",
   "execution_count": 118,
   "metadata": {},
   "outputs": [],
   "source": [
    "X = df4.drop('less than 50K',axis=1)\n",
    "y = df4['less than 50K']\n",
    "X_train, X_test, y_train, y_test = train_test_split(X, y, test_size=0.30, random_state=42) "
   ]
  },
  {
   "cell_type": "code",
   "execution_count": 119,
   "metadata": {},
   "outputs": [],
   "source": [
    "X_2 = pd.concat([X_train, y_train], axis=1)"
   ]
  },
  {
   "cell_type": "code",
   "execution_count": 162,
   "metadata": {},
   "outputs": [],
   "source": [
    "X_train2, X_test2, y_train2, y_test2 = train_test_split(X_train, y_train, test_size=0.2, random_state=42)"
   ]
  },
  {
   "cell_type": "code",
   "execution_count": 120,
   "metadata": {},
   "outputs": [],
   "source": [
    "kf = KFold(n_splits=5)"
   ]
  },
  {
   "cell_type": "code",
   "execution_count": 121,
   "metadata": {},
   "outputs": [],
   "source": [
    "dtree = DecisionTreeClassifier()"
   ]
  },
  {
   "cell_type": "code",
   "execution_count": 122,
   "metadata": {},
   "outputs": [
    {
     "data": {
      "text/plain": [
       "1    17324\n",
       "0     5468\n",
       "Name: less than 50K, dtype: int64"
      ]
     },
     "execution_count": 122,
     "metadata": {},
     "output_type": "execute_result"
    }
   ],
   "source": [
    "y_train.value_counts()"
   ]
  },
  {
   "cell_type": "code",
   "execution_count": 123,
   "metadata": {},
   "outputs": [],
   "source": [
    "#X.columns"
   ]
  },
  {
   "cell_type": "code",
   "execution_count": 124,
   "metadata": {},
   "outputs": [
    {
     "data": {
      "text/plain": [
       "DecisionTreeClassifier(class_weight=None, criterion='gini', max_depth=None,\n",
       "            max_features=None, max_leaf_nodes=None,\n",
       "            min_impurity_decrease=0.0, min_impurity_split=None,\n",
       "            min_samples_leaf=1, min_samples_split=2,\n",
       "            min_weight_fraction_leaf=0.0, presort=False, random_state=None,\n",
       "            splitter='best')"
      ]
     },
     "execution_count": 124,
     "metadata": {},
     "output_type": "execute_result"
    }
   ],
   "source": [
    "dtree.fit(X_train,y_train)"
   ]
  },
  {
   "cell_type": "code",
   "execution_count": 125,
   "metadata": {},
   "outputs": [
    {
     "name": "stdout",
     "output_type": "stream",
     "text": [
      "[0.81552972 0.8229875  0.81267822 0.80846863 0.81983761]\n",
      "scores mean = 0.8159003353301829\n"
     ]
    }
   ],
   "source": [
    "scores_dt = cross_val_score(dtree, X_train, y_train, cv=5)\n",
    "print(scores_dt)\n",
    "print('scores mean =',scores_dt.mean())"
   ]
  },
  {
   "cell_type": "code",
   "execution_count": 126,
   "metadata": {},
   "outputs": [
    {
     "name": "stdout",
     "output_type": "stream",
     "text": [
      "Fitting 5 folds for each of 36 candidates, totalling 180 fits\n",
      "[CV] criterion=gini, max_depth=4 .....................................\n",
      "[CV]  criterion=gini, max_depth=4, score=0.8361482781311691, total=   0.0s\n",
      "[CV] criterion=gini, max_depth=4 .....................................\n",
      "[CV]  criterion=gini, max_depth=4, score=0.8403158587409519, total=   0.0s\n",
      "[CV] criterion=gini, max_depth=4 .....................................\n"
     ]
    },
    {
     "name": "stderr",
     "output_type": "stream",
     "text": [
      "[Parallel(n_jobs=1)]: Using backend SequentialBackend with 1 concurrent workers.\n",
      "[Parallel(n_jobs=1)]: Done   1 out of   1 | elapsed:    0.0s remaining:    0.0s\n",
      "[Parallel(n_jobs=1)]: Done   2 out of   2 | elapsed:    0.1s remaining:    0.0s\n"
     ]
    },
    {
     "name": "stdout",
     "output_type": "stream",
     "text": [
      "[CV]  criterion=gini, max_depth=4, score=0.8332967756086861, total=   0.0s\n",
      "[CV] criterion=gini, max_depth=4 .....................................\n",
      "[CV]  criterion=gini, max_depth=4, score=0.8310662571303203, total=   0.0s\n",
      "[CV] criterion=gini, max_depth=4 .....................................\n",
      "[CV]  criterion=gini, max_depth=4, score=0.8334430546412114, total=   0.0s\n",
      "[CV] criterion=gini, max_depth=5 .....................................\n",
      "[CV]  criterion=gini, max_depth=5, score=0.8473349418732178, total=   0.0s\n",
      "[CV] criterion=gini, max_depth=5 .....................................\n",
      "[CV]  criterion=gini, max_depth=5, score=0.8525992542224172, total=   0.0s\n",
      "[CV] criterion=gini, max_depth=5 .....................................\n",
      "[CV]  criterion=gini, max_depth=5, score=0.8438254003070849, total=   0.0s\n",
      "[CV] criterion=gini, max_depth=5 .....................................\n",
      "[CV]  criterion=gini, max_depth=5, score=0.8424747696358051, total=   0.0s\n",
      "[CV] criterion=gini, max_depth=5 .....................................\n",
      "[CV]  criterion=gini, max_depth=5, score=0.8367346938775511, total=   0.0s\n",
      "[CV] criterion=gini, max_depth=6 .....................................\n",
      "[CV]  criterion=gini, max_depth=6, score=0.8521605615266505, total=   0.0s\n",
      "[CV] criterion=gini, max_depth=6 .....................................\n",
      "[CV]  criterion=gini, max_depth=6, score=0.8578635665716166, total=   0.0s\n",
      "[CV] criterion=gini, max_depth=6 .....................................\n",
      "[CV]  criterion=gini, max_depth=6, score=0.8484316736126344, total=   0.0s\n",
      "[CV] criterion=gini, max_depth=6 .....................................\n",
      "[CV]  criterion=gini, max_depth=6, score=0.8519087318999561, total=   0.0s\n",
      "[CV] criterion=gini, max_depth=6 .....................................\n",
      "[CV]  criterion=gini, max_depth=6, score=0.8422207592714506, total=   0.0s\n",
      "[CV] criterion=gini, max_depth=7 .....................................\n",
      "[CV]  criterion=gini, max_depth=7, score=0.8552314103970169, total=   0.0s\n",
      "[CV] criterion=gini, max_depth=7 .....................................\n",
      "[CV]  criterion=gini, max_depth=7, score=0.8607150690940996, total=   0.0s\n",
      "[CV] criterion=gini, max_depth=7 .....................................\n",
      "[CV]  criterion=gini, max_depth=7, score=0.8493090590041675, total=   0.0s\n",
      "[CV] criterion=gini, max_depth=7 .....................................\n",
      "[CV]  criterion=gini, max_depth=7, score=0.8523475208424748, total=   0.0s\n",
      "[CV] criterion=gini, max_depth=7 .....................................\n",
      "[CV]  criterion=gini, max_depth=7, score=0.8490234803598858, total=   0.0s\n",
      "[CV] criterion=gini, max_depth=8 .....................................\n",
      "[CV]  criterion=gini, max_depth=8, score=0.8550120640491335, total=   0.0s\n",
      "[CV] criterion=gini, max_depth=8 .....................................\n",
      "[CV]  criterion=gini, max_depth=8, score=0.8646633033559992, total=   0.0s\n",
      "[CV] criterion=gini, max_depth=8 .....................................\n",
      "[CV]  criterion=gini, max_depth=8, score=0.8536959859618337, total=   0.0s\n",
      "[CV] criterion=gini, max_depth=8 .....................................\n",
      "[CV]  criterion=gini, max_depth=8, score=0.8523475208424748, total=   0.0s\n",
      "[CV] criterion=gini, max_depth=8 .....................................\n",
      "[CV]  criterion=gini, max_depth=8, score=0.8492429229756419, total=   0.0s\n",
      "[CV] criterion=gini, max_depth=9 .....................................\n",
      "[CV]  criterion=gini, max_depth=9, score=0.8587409519631498, total=   0.0s\n",
      "[CV] criterion=gini, max_depth=9 .....................................\n",
      "[CV]  criterion=gini, max_depth=9, score=0.8620311471813994, total=   0.0s\n",
      "[CV] criterion=gini, max_depth=9 .....................................\n",
      "[CV]  criterion=gini, max_depth=9, score=0.8532572932660671, total=   0.0s\n",
      "[CV] criterion=gini, max_depth=9 .....................................\n",
      "[CV]  criterion=gini, max_depth=9, score=0.8530057042562528, total=   0.0s\n",
      "[CV] criterion=gini, max_depth=9 .....................................\n",
      "[CV]  criterion=gini, max_depth=9, score=0.8520956769804696, total=   0.0s\n",
      "[CV] criterion=gini, max_depth=10 ....................................\n",
      "[CV]  criterion=gini, max_depth=10, score=0.8547927177012503, total=   0.0s\n",
      "[CV] criterion=gini, max_depth=10 ....................................\n",
      "[CV]  criterion=gini, max_depth=10, score=0.8585216056152665, total=   0.0s\n",
      "[CV] criterion=gini, max_depth=10 ....................................\n",
      "[CV]  criterion=gini, max_depth=10, score=0.8550120640491335, total=   0.0s\n",
      "[CV] criterion=gini, max_depth=10 ....................................\n",
      "[CV]  criterion=gini, max_depth=10, score=0.8562966213251426, total=   0.0s\n",
      "[CV] criterion=gini, max_depth=10 ....................................\n",
      "[CV]  criterion=gini, max_depth=10, score=0.8527540048277376, total=   0.0s\n",
      "[CV] criterion=gini, max_depth=11 ....................................\n",
      "[CV]  criterion=gini, max_depth=11, score=0.8528186005703005, total=   0.1s\n",
      "[CV] criterion=gini, max_depth=11 ....................................\n",
      "[CV]  criterion=gini, max_depth=11, score=0.8541346786576004, total=   0.1s\n",
      "[CV] criterion=gini, max_depth=11 ....................................\n",
      "[CV]  criterion=gini, max_depth=11, score=0.8561087957885501, total=   0.1s\n",
      "[CV] criterion=gini, max_depth=11 ....................................\n",
      "[CV]  criterion=gini, max_depth=11, score=0.8505923650724002, total=   0.0s\n",
      "[CV] criterion=gini, max_depth=11 ....................................\n",
      "[CV]  criterion=gini, max_depth=11, score=0.8512179065174457, total=   0.0s\n",
      "[CV] criterion=gini, max_depth=12 ....................................\n",
      "[CV]  criterion=gini, max_depth=12, score=0.8539153323097171, total=   0.0s\n",
      "[CV] criterion=gini, max_depth=12 ....................................\n",
      "[CV]  criterion=gini, max_depth=12, score=0.8552314103970169, total=   0.1s\n",
      "[CV] criterion=gini, max_depth=12 ....................................\n",
      "[CV]  criterion=gini, max_depth=12, score=0.8530379469181838, total=   0.0s\n",
      "[CV] criterion=gini, max_depth=12 ....................................\n",
      "[CV]  criterion=gini, max_depth=12, score=0.8499341816586222, total=   0.1s\n",
      "[CV] criterion=gini, max_depth=12 ....................................\n",
      "[CV]  criterion=gini, max_depth=12, score=0.8536317752907615, total=   0.0s\n",
      "[CV] criterion=gini, max_depth=15 ....................................\n",
      "[CV]  criterion=gini, max_depth=15, score=0.8411932441324852, total=   0.1s\n",
      "[CV] criterion=gini, max_depth=15 ....................................\n",
      "[CV]  criterion=gini, max_depth=15, score=0.8528186005703005, total=   0.0s\n",
      "[CV] criterion=gini, max_depth=15 ....................................\n",
      "[CV]  criterion=gini, max_depth=15, score=0.8442640930028515, total=   0.1s\n",
      "[CV] criterion=gini, max_depth=15 ....................................\n",
      "[CV]  criterion=gini, max_depth=15, score=0.8407196138657306, total=   0.0s\n",
      "[CV] criterion=gini, max_depth=15 ....................................\n",
      "[CV]  criterion=gini, max_depth=15, score=0.8514373491332017, total=   0.1s\n",
      "[CV] criterion=gini, max_depth=20 ....................................\n",
      "[CV]  criterion=gini, max_depth=20, score=0.8304452730862031, total=   0.1s\n",
      "[CV] criterion=gini, max_depth=20 ....................................\n",
      "[CV]  criterion=gini, max_depth=20, score=0.8389997806536521, total=   0.1s\n",
      "[CV] criterion=gini, max_depth=20 ....................................\n",
      "[CV]  criterion=gini, max_depth=20, score=0.8328580829129195, total=   0.1s\n",
      "[CV] criterion=gini, max_depth=20 ....................................\n",
      "[CV]  criterion=gini, max_depth=20, score=0.8260201842913558, total=   0.1s\n",
      "[CV] criterion=gini, max_depth=20 ....................................\n",
      "[CV]  criterion=gini, max_depth=20, score=0.8404652183454027, total=   0.1s\n",
      "[CV] criterion=gini, max_depth=30 ....................................\n",
      "[CV]  criterion=gini, max_depth=30, score=0.8179425312568546, total=   0.1s\n",
      "[CV] criterion=gini, max_depth=30 ....................................\n",
      "[CV]  criterion=gini, max_depth=30, score=0.8280324632594868, total=   0.1s\n",
      "[CV] criterion=gini, max_depth=30 ....................................\n",
      "[CV]  criterion=gini, max_depth=30, score=0.8170651458653213, total=   0.1s\n",
      "[CV] criterion=gini, max_depth=30 ....................................\n",
      "[CV]  criterion=gini, max_depth=30, score=0.8163668275559456, total=   0.1s\n",
      "[CV] criterion=gini, max_depth=30 ....................................\n"
     ]
    },
    {
     "name": "stdout",
     "output_type": "stream",
     "text": [
      "[CV]  criterion=gini, max_depth=30, score=0.8226903664691683, total=   0.1s\n",
      "[CV] criterion=gini, max_depth=40 ....................................\n",
      "[CV]  criterion=gini, max_depth=40, score=0.817503838561088, total=   0.1s\n",
      "[CV] criterion=gini, max_depth=40 ....................................\n",
      "[CV]  criterion=gini, max_depth=40, score=0.8249616143891204, total=   0.1s\n",
      "[CV] criterion=gini, max_depth=40 ....................................\n",
      "[CV]  criterion=gini, max_depth=40, score=0.8135556042991884, total=   0.1s\n",
      "[CV] criterion=gini, max_depth=40 ....................................\n",
      "[CV]  criterion=gini, max_depth=40, score=0.8130759104870557, total=   0.1s\n",
      "[CV] criterion=gini, max_depth=40 ....................................\n",
      "[CV]  criterion=gini, max_depth=40, score=0.8224709238534124, total=   0.1s\n",
      "[CV] criterion=gini, max_depth=50 ....................................\n",
      "[CV]  criterion=gini, max_depth=50, score=0.8188199166483878, total=   0.1s\n",
      "[CV] criterion=gini, max_depth=50 ....................................\n",
      "[CV]  criterion=gini, max_depth=50, score=0.8256196534327703, total=   0.1s\n",
      "[CV] criterion=gini, max_depth=50 ....................................\n",
      "[CV]  criterion=gini, max_depth=50, score=0.8102654090809388, total=   0.1s\n",
      "[CV] criterion=gini, max_depth=50 ....................................\n",
      "[CV]  criterion=gini, max_depth=50, score=0.8137340939008337, total=   0.1s\n",
      "[CV] criterion=gini, max_depth=50 ....................................\n",
      "[CV]  criterion=gini, max_depth=50, score=0.8215931533903884, total=   0.1s\n",
      "[CV] criterion=gini, max_depth=70 ....................................\n",
      "[CV]  criterion=gini, max_depth=70, score=0.8157490677780215, total=   0.1s\n",
      "[CV] criterion=gini, max_depth=70 ....................................\n",
      "[CV]  criterion=gini, max_depth=70, score=0.8295678876946699, total=   0.1s\n",
      "[CV] criterion=gini, max_depth=70 ....................................\n",
      "[CV]  criterion=gini, max_depth=70, score=0.8122395262118886, total=   0.1s\n",
      "[CV] criterion=gini, max_depth=70 ....................................\n",
      "[CV]  criterion=gini, max_depth=70, score=0.811978938130759, total=   0.1s\n",
      "[CV] criterion=gini, max_depth=70 ....................................\n",
      "[CV]  criterion=gini, max_depth=70, score=0.8185209567698047, total=   0.1s\n",
      "[CV] criterion=gini, max_depth=90 ....................................\n",
      "[CV]  criterion=gini, max_depth=90, score=0.8161877604737882, total=   0.1s\n",
      "[CV] criterion=gini, max_depth=90 ....................................\n",
      "[CV]  criterion=gini, max_depth=90, score=0.8251809607370038, total=   0.1s\n",
      "[CV] criterion=gini, max_depth=90 ....................................\n",
      "[CV]  criterion=gini, max_depth=90, score=0.8144329896907216, total=   0.1s\n",
      "[CV] criterion=gini, max_depth=90 ....................................\n",
      "[CV]  criterion=gini, max_depth=90, score=0.8095655989469065, total=   0.1s\n",
      "[CV] criterion=gini, max_depth=90 ....................................\n",
      "[CV]  criterion=gini, max_depth=90, score=0.8193987272328286, total=   0.1s\n",
      "[CV] criterion=gini, max_depth=120 ...................................\n",
      "[CV]  criterion=gini, max_depth=120, score=0.8142136433428383, total=   0.1s\n",
      "[CV] criterion=gini, max_depth=120 ...................................\n",
      "[CV]  criterion=gini, max_depth=120, score=0.826058346128537, total=   0.1s\n",
      "[CV] criterion=gini, max_depth=120 ...................................\n",
      "[CV]  criterion=gini, max_depth=120, score=0.8131169116034218, total=   0.1s\n",
      "[CV] criterion=gini, max_depth=120 ...................................\n",
      "[CV]  criterion=gini, max_depth=120, score=0.8111013602457218, total=   0.1s\n",
      "[CV] criterion=gini, max_depth=120 ...................................\n",
      "[CV]  criterion=gini, max_depth=120, score=0.8211542681588765, total=   0.1s\n",
      "[CV] criterion=gini, max_depth=150 ...................................\n",
      "[CV]  criterion=gini, max_depth=150, score=0.8142136433428383, total=   0.1s\n",
      "[CV] criterion=gini, max_depth=150 ...................................\n",
      "[CV]  criterion=gini, max_depth=150, score=0.8271550778679535, total=   0.1s\n",
      "[CV] criterion=gini, max_depth=150 ...................................\n",
      "[CV]  criterion=gini, max_depth=150, score=0.8100460627330555, total=   0.1s\n",
      "[CV] criterion=gini, max_depth=150 ...................................\n",
      "[CV]  criterion=gini, max_depth=150, score=0.8100043878894252, total=   0.1s\n",
      "[CV] criterion=gini, max_depth=150 ...................................\n",
      "[CV]  criterion=gini, max_depth=150, score=0.8193987272328286, total=   0.1s\n",
      "[CV] criterion=entropy, max_depth=4 ..................................\n",
      "[CV]  criterion=entropy, max_depth=4, score=0.8363676244790524, total=   0.0s\n",
      "[CV] criterion=entropy, max_depth=4 ..................................\n",
      "[CV]  criterion=entropy, max_depth=4, score=0.8398771660451854, total=   0.0s\n",
      "[CV] criterion=entropy, max_depth=4 ..................................\n",
      "[CV]  criterion=entropy, max_depth=4, score=0.8346128536959859, total=   0.0s\n",
      "[CV] criterion=entropy, max_depth=4 ..................................\n",
      "[CV]  criterion=entropy, max_depth=4, score=0.8308468626590609, total=   0.0s\n",
      "[CV] criterion=entropy, max_depth=4 ..................................\n",
      "[CV]  criterion=entropy, max_depth=4, score=0.8323458415624314, total=   0.0s\n",
      "[CV] criterion=entropy, max_depth=5 ..................................\n",
      "[CV]  criterion=entropy, max_depth=5, score=0.8471155955253346, total=   0.0s\n",
      "[CV] criterion=entropy, max_depth=5 ..................................\n",
      "[CV]  criterion=entropy, max_depth=5, score=0.8523799078745339, total=   0.0s\n",
      "[CV] criterion=entropy, max_depth=5 ..................................\n",
      "[CV]  criterion=entropy, max_depth=5, score=0.8440447466549682, total=   0.0s\n",
      "[CV] criterion=entropy, max_depth=5 ..................................\n",
      "[CV]  criterion=entropy, max_depth=5, score=0.8426941641070645, total=   0.0s\n",
      "[CV] criterion=entropy, max_depth=5 ..................................\n",
      "[CV]  criterion=entropy, max_depth=5, score=0.8466096115865701, total=   0.0s\n",
      "[CV] criterion=entropy, max_depth=6 ..................................\n",
      "[CV]  criterion=entropy, max_depth=6, score=0.848870366308401, total=   0.0s\n",
      "[CV] criterion=entropy, max_depth=6 ..................................\n",
      "[CV]  criterion=entropy, max_depth=6, score=0.8583022592673832, total=   0.0s\n",
      "[CV] criterion=entropy, max_depth=6 ..................................\n",
      "[CV]  criterion=entropy, max_depth=6, score=0.848212327264751, total=   0.0s\n",
      "[CV] criterion=entropy, max_depth=6 ..................................\n",
      "[CV]  criterion=entropy, max_depth=6, score=0.8532250987275121, total=   0.0s\n",
      "[CV] criterion=entropy, max_depth=6 ..................................\n",
      "[CV]  criterion=entropy, max_depth=6, score=0.8417818740399385, total=   0.0s\n",
      "[CV] criterion=entropy, max_depth=7 ..................................\n",
      "[CV]  criterion=entropy, max_depth=7, score=0.8543540250054836, total=   0.0s\n",
      "[CV] criterion=entropy, max_depth=7 ..................................\n",
      "[CV]  criterion=entropy, max_depth=7, score=0.860276376398333, total=   0.0s\n",
      "[CV] criterion=entropy, max_depth=7 ..................................\n",
      "[CV]  criterion=entropy, max_depth=7, score=0.8486510199605176, total=   0.0s\n",
      "[CV] criterion=entropy, max_depth=7 ..................................\n",
      "[CV]  criterion=entropy, max_depth=7, score=0.8501535761298815, total=   0.0s\n",
      "[CV] criterion=entropy, max_depth=7 ..................................\n",
      "[CV]  criterion=entropy, max_depth=7, score=0.8485845951283739, total=   0.0s\n",
      "[CV] criterion=entropy, max_depth=8 ..................................\n",
      "[CV]  criterion=entropy, max_depth=8, score=0.854573371353367, total=   0.0s\n",
      "[CV] criterion=entropy, max_depth=8 ..................................\n",
      "[CV]  criterion=entropy, max_depth=8, score=0.863127878920816, total=   0.0s\n",
      "[CV] criterion=entropy, max_depth=8 ..................................\n",
      "[CV]  criterion=entropy, max_depth=8, score=0.8528186005703005, total=   0.0s\n",
      "[CV] criterion=entropy, max_depth=8 ..................................\n",
      "[CV]  criterion=entropy, max_depth=8, score=0.8554190434401053, total=   0.0s\n",
      "[CV] criterion=entropy, max_depth=8 ..................................\n",
      "[CV]  criterion=entropy, max_depth=8, score=0.847048496818082, total=   0.0s\n",
      "[CV] criterion=entropy, max_depth=9 ..................................\n",
      "[CV]  criterion=entropy, max_depth=9, score=0.8550120640491335, total=   0.0s\n",
      "[CV] criterion=entropy, max_depth=9 ..................................\n"
     ]
    },
    {
     "name": "stdout",
     "output_type": "stream",
     "text": [
      "[CV]  criterion=entropy, max_depth=9, score=0.863127878920816, total=   0.0s\n",
      "[CV] criterion=entropy, max_depth=9 ..................................\n",
      "[CV]  criterion=entropy, max_depth=9, score=0.8543540250054836, total=   0.0s\n",
      "[CV] criterion=entropy, max_depth=9 ..................................\n",
      "[CV]  criterion=entropy, max_depth=9, score=0.8521281263712155, total=   0.0s\n",
      "[CV] criterion=entropy, max_depth=9 ..................................\n",
      "[CV]  criterion=entropy, max_depth=9, score=0.8496818082071538, total=   0.0s\n",
      "[CV] criterion=entropy, max_depth=10 .................................\n",
      "[CV]  criterion=entropy, max_depth=10, score=0.8541346786576004, total=   0.0s\n",
      "[CV] criterion=entropy, max_depth=10 .................................\n",
      "[CV]  criterion=entropy, max_depth=10, score=0.8593989910067997, total=   0.0s\n",
      "[CV] criterion=entropy, max_depth=10 .................................\n",
      "[CV]  criterion=entropy, max_depth=10, score=0.8565474884843167, total=   0.0s\n",
      "[CV] criterion=entropy, max_depth=10 .................................\n",
      "[CV]  criterion=entropy, max_depth=10, score=0.8503729706011408, total=   0.0s\n",
      "[CV] criterion=entropy, max_depth=10 .................................\n",
      "[CV]  criterion=entropy, max_depth=10, score=0.8474873820495941, total=   0.0s\n",
      "[CV] criterion=entropy, max_depth=11 .................................\n",
      "[CV]  criterion=entropy, max_depth=11, score=0.8523799078745339, total=   0.0s\n",
      "[CV] criterion=entropy, max_depth=11 .................................\n",
      "[CV]  criterion=entropy, max_depth=11, score=0.8558894494406668, total=   0.0s\n",
      "[CV] criterion=entropy, max_depth=11 .................................\n",
      "[CV]  criterion=entropy, max_depth=11, score=0.854573371353367, total=   0.0s\n",
      "[CV] criterion=entropy, max_depth=11 .................................\n",
      "[CV]  criterion=entropy, max_depth=11, score=0.8503729706011408, total=   0.0s\n",
      "[CV] criterion=entropy, max_depth=11 .................................\n",
      "[CV]  criterion=entropy, max_depth=11, score=0.8496818082071538, total=   0.0s\n",
      "[CV] criterion=entropy, max_depth=12 .................................\n",
      "[CV]  criterion=entropy, max_depth=12, score=0.8475542882211011, total=   0.0s\n",
      "[CV] criterion=entropy, max_depth=12 .................................\n",
      "[CV]  criterion=entropy, max_depth=12, score=0.8534766396139505, total=   0.0s\n",
      "[CV] criterion=entropy, max_depth=12 .................................\n",
      "[CV]  criterion=entropy, max_depth=12, score=0.8550120640491335, total=   0.0s\n",
      "[CV] criterion=entropy, max_depth=12 .................................\n",
      "[CV]  criterion=entropy, max_depth=12, score=0.847740236946029, total=   0.0s\n",
      "[CV] criterion=entropy, max_depth=12 .................................\n",
      "[CV]  criterion=entropy, max_depth=12, score=0.8507790212859337, total=   0.0s\n",
      "[CV] criterion=entropy, max_depth=15 .................................\n",
      "[CV]  criterion=entropy, max_depth=15, score=0.8427286685676684, total=   0.0s\n",
      "[CV] criterion=entropy, max_depth=15 .................................\n",
      "[CV]  criterion=entropy, max_depth=15, score=0.8536959859618337, total=   0.1s\n",
      "[CV] criterion=entropy, max_depth=15 .................................\n",
      "[CV]  criterion=entropy, max_depth=15, score=0.8490897126562843, total=   0.0s\n",
      "[CV] criterion=entropy, max_depth=15 .................................\n",
      "[CV]  criterion=entropy, max_depth=15, score=0.8385256691531373, total=   0.1s\n",
      "[CV] criterion=entropy, max_depth=15 .................................\n",
      "[CV]  criterion=entropy, max_depth=15, score=0.8505595786701777, total=   0.0s\n",
      "[CV] criterion=entropy, max_depth=20 .................................\n",
      "[CV]  criterion=entropy, max_depth=20, score=0.8370256635227024, total=   0.1s\n",
      "[CV] criterion=entropy, max_depth=20 .................................\n",
      "[CV]  criterion=entropy, max_depth=20, score=0.8455801710901514, total=   0.0s\n",
      "[CV] criterion=entropy, max_depth=20 .................................\n",
      "[CV]  criterion=entropy, max_depth=20, score=0.8385610879578855, total=   0.1s\n",
      "[CV] criterion=entropy, max_depth=20 .................................\n",
      "[CV]  criterion=entropy, max_depth=20, score=0.8358929354980255, total=   0.1s\n",
      "[CV] criterion=entropy, max_depth=20 .................................\n",
      "[CV]  criterion=entropy, max_depth=20, score=0.8452929558920342, total=   0.1s\n",
      "[CV] criterion=entropy, max_depth=30 .................................\n",
      "[CV]  criterion=entropy, max_depth=30, score=0.8188199166483878, total=   0.1s\n",
      "[CV] criterion=entropy, max_depth=30 .................................\n",
      "[CV]  criterion=entropy, max_depth=30, score=0.82825180960737, total=   0.1s\n",
      "[CV] criterion=entropy, max_depth=30 .................................\n",
      "[CV]  criterion=entropy, max_depth=30, score=0.8247422680412371, total=   0.1s\n",
      "[CV] criterion=entropy, max_depth=30 .................................\n",
      "[CV]  criterion=entropy, max_depth=30, score=0.8238262395787627, total=   0.1s\n",
      "[CV] criterion=entropy, max_depth=30 .................................\n",
      "[CV]  criterion=entropy, max_depth=30, score=0.8334430546412114, total=   0.1s\n",
      "[CV] criterion=entropy, max_depth=40 .................................\n",
      "[CV]  criterion=entropy, max_depth=40, score=0.8139942969949551, total=   0.1s\n",
      "[CV] criterion=entropy, max_depth=40 .................................\n",
      "[CV]  criterion=entropy, max_depth=40, score=0.8236455363018206, total=   0.1s\n",
      "[CV] criterion=entropy, max_depth=40 .................................\n",
      "[CV]  criterion=entropy, max_depth=40, score=0.8179425312568546, total=   0.1s\n",
      "[CV] criterion=entropy, max_depth=40 .................................\n",
      "[CV]  criterion=entropy, max_depth=40, score=0.8165862220272049, total=   0.1s\n",
      "[CV] criterion=entropy, max_depth=40 .................................\n",
      "[CV]  criterion=entropy, max_depth=40, score=0.8286153170945798, total=   0.1s\n",
      "[CV] criterion=entropy, max_depth=50 .................................\n",
      "[CV]  criterion=entropy, max_depth=50, score=0.814652336038605, total=   0.1s\n",
      "[CV] criterion=entropy, max_depth=50 .................................\n",
      "[CV]  criterion=entropy, max_depth=50, score=0.8190392629962712, total=   0.1s\n",
      "[CV] criterion=entropy, max_depth=50 .................................\n",
      "[CV]  criterion=entropy, max_depth=50, score=0.8188199166483878, total=   0.1s\n",
      "[CV] criterion=entropy, max_depth=50 .................................\n",
      "[CV]  criterion=entropy, max_depth=50, score=0.8157086441421676, total=   0.1s\n",
      "[CV] criterion=entropy, max_depth=50 .................................\n",
      "[CV]  criterion=entropy, max_depth=50, score=0.8233486943164362, total=   0.1s\n",
      "[CV] criterion=entropy, max_depth=70 .................................\n",
      "[CV]  criterion=entropy, max_depth=70, score=0.8153103750822549, total=   0.1s\n",
      "[CV] criterion=entropy, max_depth=70 .................................\n",
      "[CV]  criterion=entropy, max_depth=70, score=0.8227681509102873, total=   0.1s\n",
      "[CV] criterion=entropy, max_depth=70 .................................\n",
      "[CV]  criterion=entropy, max_depth=70, score=0.8181618776047379, total=   0.1s\n",
      "[CV] criterion=entropy, max_depth=70 .................................\n",
      "[CV]  criterion=entropy, max_depth=70, score=0.8185607722685388, total=   0.1s\n",
      "[CV] criterion=entropy, max_depth=70 .................................\n",
      "[CV]  criterion=entropy, max_depth=70, score=0.8253236778582401, total=   0.1s\n",
      "[CV] criterion=entropy, max_depth=90 .................................\n",
      "[CV]  criterion=entropy, max_depth=90, score=0.8131169116034218, total=   0.1s\n",
      "[CV] criterion=entropy, max_depth=90 .................................\n",
      "[CV]  criterion=entropy, max_depth=90, score=0.8192586093441544, total=   0.1s\n",
      "[CV] criterion=entropy, max_depth=90 .................................\n",
      "[CV]  criterion=entropy, max_depth=90, score=0.8148716823864882, total=   0.1s\n",
      "[CV] criterion=entropy, max_depth=90 .................................\n",
      "[CV]  criterion=entropy, max_depth=90, score=0.8135146994295743, total=   0.1s\n",
      "[CV] criterion=entropy, max_depth=90 .................................\n",
      "[CV]  criterion=entropy, max_depth=90, score=0.825762563089752, total=   0.1s\n",
      "[CV] criterion=entropy, max_depth=120 ................................\n",
      "[CV]  criterion=entropy, max_depth=120, score=0.811800833516122, total=   0.1s\n",
      "[CV] criterion=entropy, max_depth=120 ................................\n",
      "[CV]  criterion=entropy, max_depth=120, score=0.8223294582145207, total=   0.1s\n",
      "[CV] criterion=entropy, max_depth=120 ................................\n"
     ]
    },
    {
     "name": "stdout",
     "output_type": "stream",
     "text": [
      "[CV]  criterion=entropy, max_depth=120, score=0.8166264531695547, total=   0.1s\n",
      "[CV] criterion=entropy, max_depth=120 ................................\n",
      "[CV]  criterion=entropy, max_depth=120, score=0.813295304958315, total=   0.1s\n",
      "[CV] criterion=entropy, max_depth=120 ................................\n",
      "[CV]  criterion=entropy, max_depth=120, score=0.826640333552776, total=   0.1s\n",
      "[CV] criterion=entropy, max_depth=150 ................................\n",
      "[CV]  criterion=entropy, max_depth=150, score=0.814652336038605, total=   0.1s\n",
      "[CV] criterion=entropy, max_depth=150 ................................\n",
      "[CV]  criterion=entropy, max_depth=150, score=0.8229874972581707, total=   0.1s\n",
      "[CV] criterion=entropy, max_depth=150 ................................\n",
      "[CV]  criterion=entropy, max_depth=150, score=0.8190392629962712, total=   0.1s\n",
      "[CV] criterion=entropy, max_depth=150 ................................\n",
      "[CV]  criterion=entropy, max_depth=150, score=0.8148310662571303, total=   0.1s\n",
      "[CV] criterion=entropy, max_depth=150 ................................\n",
      "[CV]  criterion=entropy, max_depth=150, score=0.8259820057055081, total=   0.1s\n"
     ]
    },
    {
     "name": "stderr",
     "output_type": "stream",
     "text": [
      "[Parallel(n_jobs=1)]: Done 180 out of 180 | elapsed:   28.1s finished\n"
     ]
    },
    {
     "data": {
      "text/plain": [
       "GridSearchCV(cv=5, error_score='raise-deprecating',\n",
       "       estimator=DecisionTreeClassifier(class_weight=None, criterion='gini', max_depth=None,\n",
       "            max_features=None, max_leaf_nodes=None,\n",
       "            min_impurity_decrease=0.0, min_impurity_split=None,\n",
       "            min_samples_leaf=1, min_samples_split=2,\n",
       "            min_weight_fraction_leaf=0.0, presort=False, random_state=None,\n",
       "            splitter='best'),\n",
       "       fit_params=None, iid='warn', n_jobs=None,\n",
       "       param_grid={'criterion': ['gini', 'entropy'], 'max_depth': [4, 5, 6, 7, 8, 9, 10, 11, 12, 15, 20, 30, 40, 50, 70, 90, 120, 150]},\n",
       "       pre_dispatch='2*n_jobs', refit=True, return_train_score='warn',\n",
       "       scoring=None, verbose=3)"
      ]
     },
     "execution_count": 126,
     "metadata": {},
     "output_type": "execute_result"
    }
   ],
   "source": [
    "tree_para = {'criterion':['gini','entropy'],'max_depth':[4,5,6,7,8,9,10,11,12,15,20,30,40,50,70,90,120,150]}\n",
    "clf_dt = GridSearchCV(DecisionTreeClassifier(), tree_para,verbose=3, cv=5)\n",
    "clf_dt.fit(X_train, y_train)"
   ]
  },
  {
   "cell_type": "code",
   "execution_count": 127,
   "metadata": {},
   "outputs": [
    {
     "data": {
      "text/plain": [
       "DecisionTreeClassifier(class_weight=None, criterion='gini', max_depth=9,\n",
       "            max_features=None, max_leaf_nodes=None,\n",
       "            min_impurity_decrease=0.0, min_impurity_split=None,\n",
       "            min_samples_leaf=1, min_samples_split=2,\n",
       "            min_weight_fraction_leaf=0.0, presort=False, random_state=None,\n",
       "            splitter='best')"
      ]
     },
     "execution_count": 127,
     "metadata": {},
     "output_type": "execute_result"
    }
   ],
   "source": [
    "clf_dt.best_estimator_"
   ]
  },
  {
   "cell_type": "code",
   "execution_count": 204,
   "metadata": {},
   "outputs": [
    {
     "name": "stdout",
     "output_type": "stream",
     "text": [
      "best score: 0.8558266058266059 best params: {'criterion': 'gini', 'max_depth': 9}\n"
     ]
    }
   ],
   "source": [
    "print('best score:',clf_dt.best_score_,'best params:',clf_dt.best_params_)"
   ]
  },
  {
   "cell_type": "markdown",
   "metadata": {},
   "source": [
    "### testing pickling"
   ]
  },
  {
   "cell_type": "code",
   "execution_count": 205,
   "metadata": {},
   "outputs": [],
   "source": [
    "import pickle\n",
    "#clf_dt = GridSearchCV(DecisionTreeClassifier(), tree_para,verbose=3, cv=5)\n",
    "# clf_dt is already trained - the model is ready\n",
    "filehandler = open(\"model.obj\",\"wb\")\n",
    "pickle.dump(clf_dt,filehandler)\n",
    "filehandler.close()"
   ]
  },
  {
   "cell_type": "code",
   "execution_count": 206,
   "metadata": {},
   "outputs": [],
   "source": [
    "file = open(\"model.obj\",'rb')\n",
    "object_file = pickle.load(file)\n",
    "file.close()"
   ]
  },
  {
   "cell_type": "code",
   "execution_count": 208,
   "metadata": {},
   "outputs": [
    {
     "data": {
      "text/plain": [
       "{'criterion': 'gini', 'max_depth': 9}"
      ]
     },
     "execution_count": 208,
     "metadata": {},
     "output_type": "execute_result"
    }
   ],
   "source": [
    "object_file.best_params_"
   ]
  },
  {
   "cell_type": "markdown",
   "metadata": {},
   "source": [
    "# cross validation with kfold"
   ]
  },
  {
   "cell_type": "code",
   "execution_count": 129,
   "metadata": {},
   "outputs": [
    {
     "name": "stdout",
     "output_type": "stream",
     "text": [
      "# 1                 precision    recall  f1-score   support\n",
      "\n",
      "           0       0.61      0.65      0.63      1085\n",
      "           1       0.89      0.87      0.88      3474\n",
      "\n",
      "   micro avg       0.82      0.82      0.82      4559\n",
      "   macro avg       0.75      0.76      0.75      4559\n",
      "weighted avg       0.82      0.82      0.82      4559\n",
      "\n",
      "[[ 704  381]\n",
      " [ 447 3027]]\n",
      "[0.82917466 0.81190019 0.810255   0.81267142 0.81733406]\n",
      "scores mean = 0.8162670691245113\n",
      "# 2                 precision    recall  f1-score   support\n",
      "\n",
      "           0       0.63      0.66      0.65      1107\n",
      "           1       0.89      0.88      0.88      3452\n",
      "\n",
      "   micro avg       0.83      0.83      0.83      4559\n",
      "   macro avg       0.76      0.77      0.77      4559\n",
      "weighted avg       0.83      0.83      0.83      4559\n",
      "\n",
      "[[ 730  377]\n",
      " [ 420 3032]]\n",
      "[0.80619518 0.80394845 0.8006034  0.81267142 0.81733406]\n",
      "scores mean = 0.8081505025341931\n",
      "# 3                 precision    recall  f1-score   support\n",
      "\n",
      "           0       0.62      0.63      0.63      1133\n",
      "           1       0.88      0.87      0.87      3425\n",
      "\n",
      "   micro avg       0.81      0.81      0.81      4558\n",
      "   macro avg       0.75      0.75      0.75      4558\n",
      "weighted avg       0.81      0.81      0.81      4558\n",
      "\n",
      "[[ 717  416]\n",
      " [ 441 2984]]\n",
      "[0.81957774 0.82231971 0.80943241 0.82012613 0.80855732]\n",
      "scores mean = 0.8160026628638933\n",
      "# 4                 precision    recall  f1-score   support\n",
      "\n",
      "           0       0.60      0.62      0.61      1071\n",
      "           1       0.88      0.87      0.88      3487\n",
      "\n",
      "   micro avg       0.81      0.81      0.81      4558\n",
      "   macro avg       0.74      0.75      0.74      4558\n",
      "weighted avg       0.82      0.81      0.82      4558\n",
      "\n",
      "[[ 664  407]\n",
      " [ 437 3050]]\n",
      "[0.81003289 0.82099781 0.81047724 0.8088316  0.81404279]\n",
      "scores mean = 0.812876463993225\n",
      "# 5                 precision    recall  f1-score   support\n",
      "\n",
      "           0       0.61      0.64      0.62      1072\n",
      "           1       0.89      0.88      0.88      3486\n",
      "\n",
      "   micro avg       0.82      0.82      0.82      4558\n",
      "   macro avg       0.75      0.76      0.75      4558\n",
      "weighted avg       0.82      0.82      0.82      4558\n",
      "\n",
      "[[ 682  390]\n",
      " [ 432 3054]]\n",
      "[0.80235746 0.81381958 0.81381958 0.80608886 0.81157433]\n",
      "scores mean = 0.809531960830074\n"
     ]
    }
   ],
   "source": [
    "k=1\n",
    "for train_index, test_index in kf.split(X_train):\n",
    "    X_train2, X_test2 = X_train.iloc[train_index], X_train.iloc[test_index]\n",
    "    y_train2, y_test2 = y_train.iloc[train_index], y_train.iloc[test_index]\n",
    "    dtree.fit(X_train2,y_train2)\n",
    "    predictions_dt = dtree.predict(X_test2)\n",
    "    print('#',k,' ',classification_report(y_test2,predictions_dt))\n",
    "    print(confusion_matrix(y_test2,predictions_dt))\n",
    "    scores_dt = cross_val_score(dtree, X_train2, y_train2, cv=5)\n",
    "    print(scores_dt)\n",
    "    print('scores mean =',scores_dt.mean())\n",
    "    k+=1\n",
    "    "
   ]
  },
  {
   "cell_type": "markdown",
   "metadata": {},
   "source": [
    "# using funciton cross_validation()"
   ]
  },
  {
   "cell_type": "code",
   "execution_count": 130,
   "metadata": {},
   "outputs": [
    {
     "name": "stdout",
     "output_type": "stream",
     "text": [
      "[0.81662645 0.82649704 0.81267822 0.8135147  0.81895984]\n",
      "[0.81838122 0.82803246 0.81197894 0.81658622 0.81856077]\n",
      "[0.81662645 0.82649704 0.81267822 0.8135147  0.81895984]\n"
     ]
    }
   ],
   "source": [
    "print(cross_val_score(DecisionTreeClassifier(random_state=1), X_train, y_train, cv=5))\n",
    "print(cross_val_score(DecisionTreeClassifier(random_state=1), X_train, y_train, cv=KFold(n_splits=5)))\n",
    "print(cross_val_score(DecisionTreeClassifier(random_state=1), X_train, y_train, cv=StratifiedKFold(n_splits=5)))"
   ]
  },
  {
   "cell_type": "code",
   "execution_count": 131,
   "metadata": {},
   "outputs": [],
   "source": [
    "#from sklearn.metrics import classification_report,confusion_matrix"
   ]
  },
  {
   "cell_type": "code",
   "execution_count": null,
   "metadata": {},
   "outputs": [],
   "source": []
  },
  {
   "cell_type": "code",
   "execution_count": 132,
   "metadata": {},
   "outputs": [],
   "source": [
    "#predictions_dt = dtree.predict(X_test)"
   ]
  },
  {
   "cell_type": "code",
   "execution_count": 133,
   "metadata": {},
   "outputs": [],
   "source": [
    "#print(classification_report(y_test,predictions_dt))"
   ]
  },
  {
   "cell_type": "code",
   "execution_count": 134,
   "metadata": {},
   "outputs": [],
   "source": [
    "#print(confusion_matrix(y_test,predictions_dt))"
   ]
  },
  {
   "cell_type": "code",
   "execution_count": 135,
   "metadata": {},
   "outputs": [
    {
     "name": "stdout",
     "output_type": "stream",
     "text": [
      "[0.81574907 0.82737442 0.81267822 0.80978499 0.81830151]\n",
      "scores mean = 0.8167776436947456\n"
     ]
    }
   ],
   "source": [
    "#from sklearn.model_selection import cross_val_score\n",
    "scores_dt = cross_val_score(dtree, X_train, y_train, cv=5)\n",
    "print(scores_dt)\n",
    "print('scores mean =',scores_dt.mean())"
   ]
  },
  {
   "cell_type": "markdown",
   "metadata": {},
   "source": [
    "## Bagging classifier with decisionTree"
   ]
  },
  {
   "cell_type": "code",
   "execution_count": 184,
   "metadata": {},
   "outputs": [
    {
     "data": {
      "text/plain": [
       "BaggingClassifier(base_estimator=DecisionTreeClassifier(class_weight=None, criterion='gini', max_depth=None,\n",
       "            max_features=None, max_leaf_nodes=None,\n",
       "            min_impurity_decrease=0.0, min_impurity_split=None,\n",
       "            min_samples_leaf=1, min_samples_split=2,\n",
       "            min_weight_fraction_leaf=0.0, presort=False, random_state=1,\n",
       "            splitter='best'),\n",
       "         bootstrap=True, bootstrap_features=False, max_features=1.0,\n",
       "         max_samples=1.0, n_estimators=3, n_jobs=None, oob_score=False,\n",
       "         random_state=None, verbose=0, warm_start=False)"
      ]
     },
     "execution_count": 184,
     "metadata": {},
     "output_type": "execute_result"
    }
   ],
   "source": [
    "bagging_model = BaggingClassifier(DecisionTreeClassifier(random_state=1),n_estimators=3)\n",
    "bagging_model.fit(X_train2, y_train2)"
   ]
  },
  {
   "cell_type": "code",
   "execution_count": 185,
   "metadata": {},
   "outputs": [
    {
     "data": {
      "text/plain": [
       "0.8273744242158368"
      ]
     },
     "execution_count": 185,
     "metadata": {},
     "output_type": "execute_result"
    }
   ],
   "source": [
    "bagging_model.score(X_test2,y_test2)"
   ]
  },
  {
   "cell_type": "code",
   "execution_count": 169,
   "metadata": {},
   "outputs": [],
   "source": [
    "params ={'n_estimators':[3,5,7,9,10,15,20]}"
   ]
  },
  {
   "cell_type": "code",
   "execution_count": 191,
   "metadata": {},
   "outputs": [],
   "source": [
    "bagging_gs = GridSearchCV(BaggingClassifier(DecisionTreeClassifier(random_state=1)),param_grid = params , verbose=1)"
   ]
  },
  {
   "cell_type": "code",
   "execution_count": 192,
   "metadata": {},
   "outputs": [
    {
     "name": "stderr",
     "output_type": "stream",
     "text": [
      "C:\\Users\\Thor 3\\Anaconda3\\lib\\site-packages\\sklearn\\model_selection\\_split.py:2053: FutureWarning: You should specify a value for 'cv' instead of relying on the default value. The default value will change from 3 to 5 in version 0.22.\n",
      "  warnings.warn(CV_WARNING, FutureWarning)\n",
      "[Parallel(n_jobs=1)]: Using backend SequentialBackend with 1 concurrent workers.\n"
     ]
    },
    {
     "name": "stdout",
     "output_type": "stream",
     "text": [
      "Fitting 3 folds for each of 7 candidates, totalling 21 fits\n"
     ]
    },
    {
     "name": "stderr",
     "output_type": "stream",
     "text": [
      "[Parallel(n_jobs=1)]: Done  21 out of  21 | elapsed:   23.6s finished\n"
     ]
    },
    {
     "data": {
      "text/plain": [
       "GridSearchCV(cv='warn', error_score='raise-deprecating',\n",
       "       estimator=BaggingClassifier(base_estimator=DecisionTreeClassifier(class_weight=None, criterion='gini', max_depth=None,\n",
       "            max_features=None, max_leaf_nodes=None,\n",
       "            min_impurity_decrease=0.0, min_impurity_split=None,\n",
       "            min_samples_leaf=1, min_samples_split=2,\n",
       "            ...stimators=10, n_jobs=None, oob_score=False,\n",
       "         random_state=None, verbose=0, warm_start=False),\n",
       "       fit_params=None, iid='warn', n_jobs=None,\n",
       "       param_grid={'n_estimators': [3, 5, 7, 9, 10, 15, 20]},\n",
       "       pre_dispatch='2*n_jobs', refit=True, return_train_score='warn',\n",
       "       scoring=None, verbose=1)"
      ]
     },
     "execution_count": 192,
     "metadata": {},
     "output_type": "execute_result"
    }
   ],
   "source": [
    "bagging_gs.fit(X_train,y_train)"
   ]
  },
  {
   "cell_type": "code",
   "execution_count": 193,
   "metadata": {},
   "outputs": [
    {
     "name": "stderr",
     "output_type": "stream",
     "text": [
      "C:\\Users\\Thor 3\\Anaconda3\\lib\\site-packages\\sklearn\\utils\\deprecation.py:125: FutureWarning: You are accessing a training score ('split0_train_score'), which will not be available by default any more in 0.21. If you need training scores, please set return_train_score=True\n",
      "  warnings.warn(*warn_args, **warn_kwargs)\n",
      "C:\\Users\\Thor 3\\Anaconda3\\lib\\site-packages\\sklearn\\utils\\deprecation.py:125: FutureWarning: You are accessing a training score ('split1_train_score'), which will not be available by default any more in 0.21. If you need training scores, please set return_train_score=True\n",
      "  warnings.warn(*warn_args, **warn_kwargs)\n",
      "C:\\Users\\Thor 3\\Anaconda3\\lib\\site-packages\\sklearn\\utils\\deprecation.py:125: FutureWarning: You are accessing a training score ('split2_train_score'), which will not be available by default any more in 0.21. If you need training scores, please set return_train_score=True\n",
      "  warnings.warn(*warn_args, **warn_kwargs)\n",
      "C:\\Users\\Thor 3\\Anaconda3\\lib\\site-packages\\sklearn\\utils\\deprecation.py:125: FutureWarning: You are accessing a training score ('mean_train_score'), which will not be available by default any more in 0.21. If you need training scores, please set return_train_score=True\n",
      "  warnings.warn(*warn_args, **warn_kwargs)\n",
      "C:\\Users\\Thor 3\\Anaconda3\\lib\\site-packages\\sklearn\\utils\\deprecation.py:125: FutureWarning: You are accessing a training score ('std_train_score'), which will not be available by default any more in 0.21. If you need training scores, please set return_train_score=True\n",
      "  warnings.warn(*warn_args, **warn_kwargs)\n"
     ]
    }
   ],
   "source": [
    "bg_results_df=pd.DataFrame(bagging_gs.cv_results_)"
   ]
  },
  {
   "cell_type": "code",
   "execution_count": 194,
   "metadata": {},
   "outputs": [
    {
     "data": {
      "text/html": [
       "<div>\n",
       "<style scoped>\n",
       "    .dataframe tbody tr th:only-of-type {\n",
       "        vertical-align: middle;\n",
       "    }\n",
       "\n",
       "    .dataframe tbody tr th {\n",
       "        vertical-align: top;\n",
       "    }\n",
       "\n",
       "    .dataframe thead th {\n",
       "        text-align: right;\n",
       "    }\n",
       "</style>\n",
       "<table border=\"1\" class=\"dataframe\">\n",
       "  <thead>\n",
       "    <tr style=\"text-align: right;\">\n",
       "      <th></th>\n",
       "      <th>mean_fit_time</th>\n",
       "      <th>std_fit_time</th>\n",
       "      <th>mean_score_time</th>\n",
       "      <th>std_score_time</th>\n",
       "      <th>param_n_estimators</th>\n",
       "      <th>params</th>\n",
       "      <th>split0_test_score</th>\n",
       "      <th>split1_test_score</th>\n",
       "      <th>split2_test_score</th>\n",
       "      <th>mean_test_score</th>\n",
       "      <th>std_test_score</th>\n",
       "      <th>rank_test_score</th>\n",
       "      <th>split0_train_score</th>\n",
       "      <th>split1_train_score</th>\n",
       "      <th>split2_train_score</th>\n",
       "      <th>mean_train_score</th>\n",
       "      <th>std_train_score</th>\n",
       "    </tr>\n",
       "  </thead>\n",
       "  <tbody>\n",
       "    <tr>\n",
       "      <th>0</th>\n",
       "      <td>0.357976</td>\n",
       "      <td>0.054765</td>\n",
       "      <td>0.024030</td>\n",
       "      <td>0.001930</td>\n",
       "      <td>3</td>\n",
       "      <td>{'n_estimators': 3}</td>\n",
       "      <td>0.836141</td>\n",
       "      <td>0.827718</td>\n",
       "      <td>0.822801</td>\n",
       "      <td>0.828887</td>\n",
       "      <td>0.005508</td>\n",
       "      <td>7</td>\n",
       "      <td>0.954456</td>\n",
       "      <td>0.952350</td>\n",
       "      <td>0.955186</td>\n",
       "      <td>0.953997</td>\n",
       "      <td>0.001202</td>\n",
       "    </tr>\n",
       "    <tr>\n",
       "      <th>1</th>\n",
       "      <td>0.438812</td>\n",
       "      <td>0.009963</td>\n",
       "      <td>0.033513</td>\n",
       "      <td>0.000376</td>\n",
       "      <td>5</td>\n",
       "      <td>{'n_estimators': 5}</td>\n",
       "      <td>0.839563</td>\n",
       "      <td>0.829166</td>\n",
       "      <td>0.835966</td>\n",
       "      <td>0.834898</td>\n",
       "      <td>0.004312</td>\n",
       "      <td>6</td>\n",
       "      <td>0.964460</td>\n",
       "      <td>0.964065</td>\n",
       "      <td>0.967228</td>\n",
       "      <td>0.965251</td>\n",
       "      <td>0.001407</td>\n",
       "    </tr>\n",
       "    <tr>\n",
       "      <th>2</th>\n",
       "      <td>0.611038</td>\n",
       "      <td>0.003841</td>\n",
       "      <td>0.044734</td>\n",
       "      <td>0.003763</td>\n",
       "      <td>7</td>\n",
       "      <td>{'n_estimators': 7}</td>\n",
       "      <td>0.844564</td>\n",
       "      <td>0.833772</td>\n",
       "      <td>0.839521</td>\n",
       "      <td>0.839286</td>\n",
       "      <td>0.004409</td>\n",
       "      <td>3</td>\n",
       "      <td>0.968672</td>\n",
       "      <td>0.970580</td>\n",
       "      <td>0.972756</td>\n",
       "      <td>0.970669</td>\n",
       "      <td>0.001669</td>\n",
       "    </tr>\n",
       "    <tr>\n",
       "      <th>3</th>\n",
       "      <td>0.786035</td>\n",
       "      <td>0.003972</td>\n",
       "      <td>0.057608</td>\n",
       "      <td>0.004610</td>\n",
       "      <td>9</td>\n",
       "      <td>{'n_estimators': 9}</td>\n",
       "      <td>0.842459</td>\n",
       "      <td>0.835615</td>\n",
       "      <td>0.838599</td>\n",
       "      <td>0.838891</td>\n",
       "      <td>0.002802</td>\n",
       "      <td>4</td>\n",
       "      <td>0.974464</td>\n",
       "      <td>0.974595</td>\n",
       "      <td>0.976375</td>\n",
       "      <td>0.975145</td>\n",
       "      <td>0.000872</td>\n",
       "    </tr>\n",
       "    <tr>\n",
       "      <th>4</th>\n",
       "      <td>0.866895</td>\n",
       "      <td>0.013040</td>\n",
       "      <td>0.060962</td>\n",
       "      <td>0.002768</td>\n",
       "      <td>10</td>\n",
       "      <td>{'n_estimators': 10}</td>\n",
       "      <td>0.842064</td>\n",
       "      <td>0.831271</td>\n",
       "      <td>0.839521</td>\n",
       "      <td>0.837618</td>\n",
       "      <td>0.004607</td>\n",
       "      <td>5</td>\n",
       "      <td>0.975846</td>\n",
       "      <td>0.976504</td>\n",
       "      <td>0.976310</td>\n",
       "      <td>0.976220</td>\n",
       "      <td>0.000276</td>\n",
       "    </tr>\n",
       "    <tr>\n",
       "      <th>5</th>\n",
       "      <td>1.323446</td>\n",
       "      <td>0.030417</td>\n",
       "      <td>0.091772</td>\n",
       "      <td>0.000197</td>\n",
       "      <td>15</td>\n",
       "      <td>{'n_estimators': 15}</td>\n",
       "      <td>0.847723</td>\n",
       "      <td>0.839431</td>\n",
       "      <td>0.841101</td>\n",
       "      <td>0.842752</td>\n",
       "      <td>0.003581</td>\n",
       "      <td>1</td>\n",
       "      <td>0.978347</td>\n",
       "      <td>0.977886</td>\n",
       "      <td>0.981377</td>\n",
       "      <td>0.979203</td>\n",
       "      <td>0.001548</td>\n",
       "    </tr>\n",
       "    <tr>\n",
       "      <th>6</th>\n",
       "      <td>2.148275</td>\n",
       "      <td>0.170873</td>\n",
       "      <td>0.143949</td>\n",
       "      <td>0.028267</td>\n",
       "      <td>20</td>\n",
       "      <td>{'n_estimators': 20}</td>\n",
       "      <td>0.843643</td>\n",
       "      <td>0.838905</td>\n",
       "      <td>0.839521</td>\n",
       "      <td>0.840690</td>\n",
       "      <td>0.002104</td>\n",
       "      <td>2</td>\n",
       "      <td>0.981111</td>\n",
       "      <td>0.981177</td>\n",
       "      <td>0.983482</td>\n",
       "      <td>0.981923</td>\n",
       "      <td>0.001103</td>\n",
       "    </tr>\n",
       "  </tbody>\n",
       "</table>\n",
       "</div>"
      ],
      "text/plain": [
       "   mean_fit_time  std_fit_time  mean_score_time  std_score_time  \\\n",
       "0       0.357976      0.054765         0.024030        0.001930   \n",
       "1       0.438812      0.009963         0.033513        0.000376   \n",
       "2       0.611038      0.003841         0.044734        0.003763   \n",
       "3       0.786035      0.003972         0.057608        0.004610   \n",
       "4       0.866895      0.013040         0.060962        0.002768   \n",
       "5       1.323446      0.030417         0.091772        0.000197   \n",
       "6       2.148275      0.170873         0.143949        0.028267   \n",
       "\n",
       "  param_n_estimators                params  split0_test_score  \\\n",
       "0                  3   {'n_estimators': 3}           0.836141   \n",
       "1                  5   {'n_estimators': 5}           0.839563   \n",
       "2                  7   {'n_estimators': 7}           0.844564   \n",
       "3                  9   {'n_estimators': 9}           0.842459   \n",
       "4                 10  {'n_estimators': 10}           0.842064   \n",
       "5                 15  {'n_estimators': 15}           0.847723   \n",
       "6                 20  {'n_estimators': 20}           0.843643   \n",
       "\n",
       "   split1_test_score  split2_test_score  mean_test_score  std_test_score  \\\n",
       "0           0.827718           0.822801         0.828887        0.005508   \n",
       "1           0.829166           0.835966         0.834898        0.004312   \n",
       "2           0.833772           0.839521         0.839286        0.004409   \n",
       "3           0.835615           0.838599         0.838891        0.002802   \n",
       "4           0.831271           0.839521         0.837618        0.004607   \n",
       "5           0.839431           0.841101         0.842752        0.003581   \n",
       "6           0.838905           0.839521         0.840690        0.002104   \n",
       "\n",
       "   rank_test_score  split0_train_score  split1_train_score  \\\n",
       "0                7            0.954456            0.952350   \n",
       "1                6            0.964460            0.964065   \n",
       "2                3            0.968672            0.970580   \n",
       "3                4            0.974464            0.974595   \n",
       "4                5            0.975846            0.976504   \n",
       "5                1            0.978347            0.977886   \n",
       "6                2            0.981111            0.981177   \n",
       "\n",
       "   split2_train_score  mean_train_score  std_train_score  \n",
       "0            0.955186          0.953997         0.001202  \n",
       "1            0.967228          0.965251         0.001407  \n",
       "2            0.972756          0.970669         0.001669  \n",
       "3            0.976375          0.975145         0.000872  \n",
       "4            0.976310          0.976220         0.000276  \n",
       "5            0.981377          0.979203         0.001548  \n",
       "6            0.983482          0.981923         0.001103  "
      ]
     },
     "execution_count": 194,
     "metadata": {},
     "output_type": "execute_result"
    }
   ],
   "source": [
    "bg_results_df"
   ]
  },
  {
   "cell_type": "code",
   "execution_count": 195,
   "metadata": {},
   "outputs": [
    {
     "name": "stdout",
     "output_type": "stream",
     "text": [
      "best score: 0.8427518427518428 best params: {'n_estimators': 15}\n"
     ]
    }
   ],
   "source": [
    "print('best score:',bagging_gs.best_score_,'best params:',bagging_gs.best_params_)"
   ]
  },
  {
   "cell_type": "markdown",
   "metadata": {},
   "source": [
    "# RandomForest"
   ]
  },
  {
   "cell_type": "code",
   "execution_count": 196,
   "metadata": {},
   "outputs": [],
   "source": [
    "from sklearn.ensemble import RandomForestClassifier"
   ]
  },
  {
   "cell_type": "code",
   "execution_count": 197,
   "metadata": {},
   "outputs": [],
   "source": [
    "rfc = RandomForestClassifier(n_estimators=600)"
   ]
  },
  {
   "cell_type": "code",
   "execution_count": 198,
   "metadata": {},
   "outputs": [
    {
     "data": {
      "text/plain": [
       "RandomForestClassifier(bootstrap=True, class_weight=None, criterion='gini',\n",
       "            max_depth=None, max_features='auto', max_leaf_nodes=None,\n",
       "            min_impurity_decrease=0.0, min_impurity_split=None,\n",
       "            min_samples_leaf=1, min_samples_split=2,\n",
       "            min_weight_fraction_leaf=0.0, n_estimators=600, n_jobs=None,\n",
       "            oob_score=False, random_state=None, verbose=0,\n",
       "            warm_start=False)"
      ]
     },
     "execution_count": 198,
     "metadata": {},
     "output_type": "execute_result"
    }
   ],
   "source": [
    "rfc.fit(X_train,y_train)"
   ]
  },
  {
   "cell_type": "code",
   "execution_count": 199,
   "metadata": {},
   "outputs": [],
   "source": [
    "forest_params = {\n",
    "    'n_estimators': [100, 300, 600],\n",
    "    'max_features': ['auto','sqrt','log2']\n",
    "}"
   ]
  },
  {
   "cell_type": "code",
   "execution_count": 200,
   "metadata": {},
   "outputs": [],
   "source": [
    "clf_rf = GridSearchCV(RandomForestClassifier(),param_grid = forest_params , verbose=1)"
   ]
  },
  {
   "cell_type": "code",
   "execution_count": 201,
   "metadata": {},
   "outputs": [
    {
     "name": "stderr",
     "output_type": "stream",
     "text": [
      "C:\\Users\\Thor 3\\Anaconda3\\lib\\site-packages\\sklearn\\model_selection\\_split.py:2053: FutureWarning: You should specify a value for 'cv' instead of relying on the default value. The default value will change from 3 to 5 in version 0.22.\n",
      "  warnings.warn(CV_WARNING, FutureWarning)\n",
      "[Parallel(n_jobs=1)]: Using backend SequentialBackend with 1 concurrent workers.\n"
     ]
    },
    {
     "name": "stdout",
     "output_type": "stream",
     "text": [
      "Fitting 3 folds for each of 9 candidates, totalling 27 fits\n"
     ]
    },
    {
     "name": "stderr",
     "output_type": "stream",
     "text": [
      "[Parallel(n_jobs=1)]: Done  27 out of  27 | elapsed:  3.6min finished\n"
     ]
    },
    {
     "data": {
      "text/plain": [
       "GridSearchCV(cv='warn', error_score='raise-deprecating',\n",
       "       estimator=RandomForestClassifier(bootstrap=True, class_weight=None, criterion='gini',\n",
       "            max_depth=None, max_features='auto', max_leaf_nodes=None,\n",
       "            min_impurity_decrease=0.0, min_impurity_split=None,\n",
       "            min_samples_leaf=1, min_samples_split=2,\n",
       "            min_weight_fraction_leaf=0.0, n_estimators='warn', n_jobs=None,\n",
       "            oob_score=False, random_state=None, verbose=0,\n",
       "            warm_start=False),\n",
       "       fit_params=None, iid='warn', n_jobs=None,\n",
       "       param_grid={'n_estimators': [100, 300, 600], 'max_features': ['auto', 'sqrt', 'log2']},\n",
       "       pre_dispatch='2*n_jobs', refit=True, return_train_score='warn',\n",
       "       scoring=None, verbose=1)"
      ]
     },
     "execution_count": 201,
     "metadata": {},
     "output_type": "execute_result"
    }
   ],
   "source": [
    "clf_rf.fit(X_train, y_train)"
   ]
  },
  {
   "cell_type": "code",
   "execution_count": 209,
   "metadata": {},
   "outputs": [
    {
     "name": "stdout",
     "output_type": "stream",
     "text": [
      "best score: 0.8472270972270972 best params: {'max_features': 'auto', 'n_estimators': 300}\n"
     ]
    }
   ],
   "source": [
    "print('best score:',clf_rf.best_score_,'best params:',clf_rf.best_params_)"
   ]
  },
  {
   "cell_type": "code",
   "execution_count": 210,
   "metadata": {},
   "outputs": [],
   "source": [
    "filehandler = open(\"randomForest_GsCv.model\",\"wb\")\n",
    "pickle.dump(clf_dt,filehandler)\n",
    "filehandler.close()"
   ]
  },
  {
   "cell_type": "code",
   "execution_count": 143,
   "metadata": {},
   "outputs": [
    {
     "name": "stderr",
     "output_type": "stream",
     "text": [
      "C:\\Users\\Thor 3\\Anaconda3\\lib\\site-packages\\sklearn\\utils\\deprecation.py:125: FutureWarning: You are accessing a training score ('split0_train_score'), which will not be available by default any more in 0.21. If you need training scores, please set return_train_score=True\n",
      "  warnings.warn(*warn_args, **warn_kwargs)\n",
      "C:\\Users\\Thor 3\\Anaconda3\\lib\\site-packages\\sklearn\\utils\\deprecation.py:125: FutureWarning: You are accessing a training score ('split1_train_score'), which will not be available by default any more in 0.21. If you need training scores, please set return_train_score=True\n",
      "  warnings.warn(*warn_args, **warn_kwargs)\n",
      "C:\\Users\\Thor 3\\Anaconda3\\lib\\site-packages\\sklearn\\utils\\deprecation.py:125: FutureWarning: You are accessing a training score ('split2_train_score'), which will not be available by default any more in 0.21. If you need training scores, please set return_train_score=True\n",
      "  warnings.warn(*warn_args, **warn_kwargs)\n",
      "C:\\Users\\Thor 3\\Anaconda3\\lib\\site-packages\\sklearn\\utils\\deprecation.py:125: FutureWarning: You are accessing a training score ('mean_train_score'), which will not be available by default any more in 0.21. If you need training scores, please set return_train_score=True\n",
      "  warnings.warn(*warn_args, **warn_kwargs)\n",
      "C:\\Users\\Thor 3\\Anaconda3\\lib\\site-packages\\sklearn\\utils\\deprecation.py:125: FutureWarning: You are accessing a training score ('std_train_score'), which will not be available by default any more in 0.21. If you need training scores, please set return_train_score=True\n",
      "  warnings.warn(*warn_args, **warn_kwargs)\n"
     ]
    }
   ],
   "source": [
    "reusults_df=pd.DataFrame(clf_rf.cv_results_)"
   ]
  },
  {
   "cell_type": "code",
   "execution_count": 203,
   "metadata": {},
   "outputs": [
    {
     "data": {
      "text/html": [
       "<div>\n",
       "<style scoped>\n",
       "    .dataframe tbody tr th:only-of-type {\n",
       "        vertical-align: middle;\n",
       "    }\n",
       "\n",
       "    .dataframe tbody tr th {\n",
       "        vertical-align: top;\n",
       "    }\n",
       "\n",
       "    .dataframe thead th {\n",
       "        text-align: right;\n",
       "    }\n",
       "</style>\n",
       "<table border=\"1\" class=\"dataframe\">\n",
       "  <thead>\n",
       "    <tr style=\"text-align: right;\">\n",
       "      <th></th>\n",
       "      <th>mean_fit_time</th>\n",
       "      <th>std_fit_time</th>\n",
       "      <th>mean_score_time</th>\n",
       "      <th>std_score_time</th>\n",
       "      <th>param_max_features</th>\n",
       "      <th>param_n_estimators</th>\n",
       "      <th>params</th>\n",
       "      <th>split0_test_score</th>\n",
       "      <th>split1_test_score</th>\n",
       "      <th>split2_test_score</th>\n",
       "      <th>mean_test_score</th>\n",
       "      <th>std_test_score</th>\n",
       "      <th>rank_test_score</th>\n",
       "      <th>split0_train_score</th>\n",
       "      <th>split1_train_score</th>\n",
       "      <th>split2_train_score</th>\n",
       "      <th>mean_train_score</th>\n",
       "      <th>std_train_score</th>\n",
       "    </tr>\n",
       "  </thead>\n",
       "  <tbody>\n",
       "    <tr>\n",
       "      <th>0</th>\n",
       "      <td>1.894816</td>\n",
       "      <td>0.048892</td>\n",
       "      <td>0.170351</td>\n",
       "      <td>0.005932</td>\n",
       "      <td>auto</td>\n",
       "      <td>100</td>\n",
       "      <td>{'max_features': 'auto', 'n_estimators': 100}</td>\n",
       "      <td>0.850224</td>\n",
       "      <td>0.841274</td>\n",
       "      <td>0.848868</td>\n",
       "      <td>0.846788</td>\n",
       "      <td>0.003939</td>\n",
       "      <td>4</td>\n",
       "      <td>0.983678</td>\n",
       "      <td>0.983612</td>\n",
       "      <td>0.985852</td>\n",
       "      <td>0.984380</td>\n",
       "      <td>0.001041</td>\n",
       "    </tr>\n",
       "    <tr>\n",
       "      <th>1</th>\n",
       "      <td>5.474725</td>\n",
       "      <td>0.028263</td>\n",
       "      <td>0.491690</td>\n",
       "      <td>0.006668</td>\n",
       "      <td>auto</td>\n",
       "      <td>300</td>\n",
       "      <td>{'max_features': 'auto', 'n_estimators': 300}</td>\n",
       "      <td>0.852856</td>\n",
       "      <td>0.840221</td>\n",
       "      <td>0.849921</td>\n",
       "      <td>0.847666</td>\n",
       "      <td>0.005399</td>\n",
       "      <td>2</td>\n",
       "      <td>0.983678</td>\n",
       "      <td>0.983678</td>\n",
       "      <td>0.985917</td>\n",
       "      <td>0.984424</td>\n",
       "      <td>0.001056</td>\n",
       "    </tr>\n",
       "    <tr>\n",
       "      <th>2</th>\n",
       "      <td>10.897387</td>\n",
       "      <td>0.045867</td>\n",
       "      <td>1.000313</td>\n",
       "      <td>0.029489</td>\n",
       "      <td>auto</td>\n",
       "      <td>600</td>\n",
       "      <td>{'max_features': 'auto', 'n_estimators': 600}</td>\n",
       "      <td>0.852593</td>\n",
       "      <td>0.841011</td>\n",
       "      <td>0.849789</td>\n",
       "      <td>0.847797</td>\n",
       "      <td>0.004934</td>\n",
       "      <td>1</td>\n",
       "      <td>0.983678</td>\n",
       "      <td>0.983678</td>\n",
       "      <td>0.985917</td>\n",
       "      <td>0.984424</td>\n",
       "      <td>0.001056</td>\n",
       "    </tr>\n",
       "  </tbody>\n",
       "</table>\n",
       "</div>"
      ],
      "text/plain": [
       "   mean_fit_time  std_fit_time  mean_score_time  std_score_time  \\\n",
       "0       1.894816      0.048892         0.170351        0.005932   \n",
       "1       5.474725      0.028263         0.491690        0.006668   \n",
       "2      10.897387      0.045867         1.000313        0.029489   \n",
       "\n",
       "  param_max_features param_n_estimators  \\\n",
       "0               auto                100   \n",
       "1               auto                300   \n",
       "2               auto                600   \n",
       "\n",
       "                                          params  split0_test_score  \\\n",
       "0  {'max_features': 'auto', 'n_estimators': 100}           0.850224   \n",
       "1  {'max_features': 'auto', 'n_estimators': 300}           0.852856   \n",
       "2  {'max_features': 'auto', 'n_estimators': 600}           0.852593   \n",
       "\n",
       "   split1_test_score  split2_test_score  mean_test_score  std_test_score  \\\n",
       "0           0.841274           0.848868         0.846788        0.003939   \n",
       "1           0.840221           0.849921         0.847666        0.005399   \n",
       "2           0.841011           0.849789         0.847797        0.004934   \n",
       "\n",
       "   rank_test_score  split0_train_score  split1_train_score  \\\n",
       "0                4            0.983678            0.983612   \n",
       "1                2            0.983678            0.983678   \n",
       "2                1            0.983678            0.983678   \n",
       "\n",
       "   split2_train_score  mean_train_score  std_train_score  \n",
       "0            0.985852          0.984380         0.001041  \n",
       "1            0.985917          0.984424         0.001056  \n",
       "2            0.985917          0.984424         0.001056  "
      ]
     },
     "execution_count": 203,
     "metadata": {},
     "output_type": "execute_result"
    }
   ],
   "source": [
    "reusults_df.head(3)"
   ]
  },
  {
   "cell_type": "markdown",
   "metadata": {},
   "source": [
    "# creating a cross validation set, using randomforest and visualizing with  ROC"
   ]
  },
  {
   "cell_type": "code",
   "execution_count": null,
   "metadata": {},
   "outputs": [],
   "source": []
  },
  {
   "cell_type": "code",
   "execution_count": 145,
   "metadata": {},
   "outputs": [],
   "source": [
    "#already done \n",
    "#X_train2, X_test2, y_train2, y_test2 = train_test_split(X_train, y_train, test_size=0.2, random_state=42)"
   ]
  },
  {
   "cell_type": "code",
   "execution_count": 146,
   "metadata": {},
   "outputs": [
    {
     "data": {
      "text/plain": [
       "RandomForestClassifier(bootstrap=True, class_weight=None, criterion='gini',\n",
       "            max_depth=None, max_features='auto', max_leaf_nodes=None,\n",
       "            min_impurity_decrease=0.0, min_impurity_split=None,\n",
       "            min_samples_leaf=1, min_samples_split=2,\n",
       "            min_weight_fraction_leaf=0.0, n_estimators=600, n_jobs=None,\n",
       "            oob_score=False, random_state=None, verbose=0,\n",
       "            warm_start=False)"
      ]
     },
     "execution_count": 146,
     "metadata": {},
     "output_type": "execute_result"
    }
   ],
   "source": [
    "rfc2 = RandomForestClassifier(n_estimators=600)\n",
    "rfc2.fit(X_train2,y_train2)"
   ]
  },
  {
   "cell_type": "code",
   "execution_count": 147,
   "metadata": {},
   "outputs": [
    {
     "data": {
      "text/plain": [
       "(4559, 96)"
      ]
     },
     "execution_count": 147,
     "metadata": {},
     "output_type": "execute_result"
    }
   ],
   "source": [
    "X_test2.shape"
   ]
  },
  {
   "cell_type": "code",
   "execution_count": 148,
   "metadata": {},
   "outputs": [
    {
     "name": "stdout",
     "output_type": "stream",
     "text": [
      "y_score shape:  (4559, 2)\n"
     ]
    },
    {
     "data": {
      "image/png": "[encoded data removed]",
      "text/plain": [
       "<Figure size 842.4x595.44 with 1 Axes>"
      ]
     },
     "metadata": {},
     "output_type": "display_data"
    }
   ],
   "source": [
    "import matplotlib.pyplot as plt\n",
    "from sklearn.metrics import roc_curve, auc\n",
    "\n",
    "y_score = rfc2.predict_proba(X_test2)\n",
    "print('y_score shape: ',y_score.shape,end='\\n')\n",
    "fpr = dict()\n",
    "tpr = dict()\n",
    "thresholds = dict()\n",
    "roc_auc = dict()\n",
    "for i in range(2):\n",
    "    fpr[i], tpr[i], thresholds[i] = roc_curve(y_test2, y_score[:, i])\n",
    "    roc_auc[i] = auc(fpr[i], tpr[i])\n",
    "\n",
    "\n",
    "plt.figure()\n",
    "lw = 2\n",
    "plt.plot(fpr[1], tpr[1], color='darkorange',\n",
    "         lw=lw, label='1 ROC curve (area = %0.2f)' % roc_auc[1])\n",
    "plt.plot([0, 1], [0, 1], color='navy', lw=lw, linestyle='--')\n",
    "plt.xlim([0.0, 1.0])\n",
    "plt.ylim([0.0, 1.05])\n",
    "plt.xlabel('False Positive Rate')\n",
    "plt.ylabel('True Positive Rate')\n",
    "plt.title('Receiver operating characteristic example')\n",
    "plt.legend(loc=\"lower right\")\n",
    "plt.show()"
   ]
  },
  {
   "cell_type": "markdown",
   "metadata": {},
   "source": [
    "# Cross validation , using only the TEST set"
   ]
  },
  {
   "cell_type": "code",
   "execution_count": 149,
   "metadata": {},
   "outputs": [
    {
     "name": "stdout",
     "output_type": "stream",
     "text": [
      "[0.84930906 0.85413468 0.8409739  0.84335235 0.84792627]\n",
      "[0.85018644 0.8561088  0.83698991 0.84379114 0.85278631]\n",
      "[0.84689625 0.85545076 0.83987717 0.84335235 0.84968181]\n"
     ]
    }
   ],
   "source": [
    "print(cross_val_score(RandomForestClassifier(n_estimators=600), X_train, y_train, cv=5))\n",
    "print(cross_val_score(RandomForestClassifier(n_estimators=600), X_train, y_train, cv=KFold(n_splits=5)))\n",
    "print(cross_val_score(RandomForestClassifier(n_estimators=600), X_train, y_train, cv=StratifiedKFold(n_splits=5)))"
   ]
  },
  {
   "cell_type": "code",
   "execution_count": 150,
   "metadata": {},
   "outputs": [
    {
     "name": "stdout",
     "output_type": "stream",
     "text": [
      "[0.8471156  0.85479272 0.84053521 0.84181659 0.85121791]\n"
     ]
    }
   ],
   "source": [
    "print(cross_val_score(RandomForestClassifier(n_estimators=100), X_train, y_train, cv=5))"
   ]
  },
  {
   "cell_type": "code",
   "execution_count": 151,
   "metadata": {},
   "outputs": [],
   "source": [
    "#predictions_rf = rfc.predict(X_test)"
   ]
  },
  {
   "cell_type": "code",
   "execution_count": 152,
   "metadata": {},
   "outputs": [],
   "source": [
    "#print(classification_report(y_test,predictions_rf))"
   ]
  },
  {
   "cell_type": "code",
   "execution_count": 153,
   "metadata": {},
   "outputs": [],
   "source": [
    "#print(confusion_matrix(y_test,predictions_rf))"
   ]
  },
  {
   "cell_type": "code",
   "execution_count": 154,
   "metadata": {},
   "outputs": [],
   "source": [
    "from sklearn.model_selection import cross_val_score"
   ]
  },
  {
   "cell_type": "code",
   "execution_count": 155,
   "metadata": {},
   "outputs": [],
   "source": [
    "scores = cross_val_score(rfc, X_train, y_train, cv=5)"
   ]
  },
  {
   "cell_type": "code",
   "execution_count": 156,
   "metadata": {},
   "outputs": [
    {
     "data": {
      "text/plain": [
       "array([0.84908971, 0.85325729, 0.83965782, 0.84247477, 0.84836515])"
      ]
     },
     "execution_count": 156,
     "metadata": {},
     "output_type": "execute_result"
    }
   ],
   "source": [
    "scores"
   ]
  },
  {
   "cell_type": "code",
   "execution_count": 157,
   "metadata": {},
   "outputs": [
    {
     "data": {
      "text/plain": [
       "0.8466127514420172"
      ]
     },
     "execution_count": 157,
     "metadata": {},
     "output_type": "execute_result"
    }
   ],
   "source": [
    "scores.mean()"
   ]
  },
  {
   "cell_type": "markdown",
   "metadata": {},
   "source": [
    "# Neural Network - mlp :multi-layer perceptron"
   ]
  },
  {
   "cell_type": "code",
   "execution_count": 211,
   "metadata": {},
   "outputs": [],
   "source": [
    "from sklearn.neural_network import MLPClassifier"
   ]
  },
  {
   "cell_type": "code",
   "execution_count": 212,
   "metadata": {},
   "outputs": [
    {
     "data": {
      "text/plain": [
       "96"
      ]
     },
     "execution_count": 212,
     "metadata": {},
     "output_type": "execute_result"
    }
   ],
   "source": [
    "X_train.shape[1]"
   ]
  },
  {
   "cell_type": "code",
   "execution_count": 213,
   "metadata": {},
   "outputs": [],
   "source": [
    "clf_nn = MLPClassifier(random_state=1, max_iter=400).fit(X_train, y_train)"
   ]
  },
  {
   "cell_type": "code",
   "execution_count": 214,
   "metadata": {},
   "outputs": [],
   "source": [
    "clf_nn2 = MLPClassifier(random_state=1, max_iter=400).fit(X_train2, y_train2)"
   ]
  },
  {
   "cell_type": "code",
   "execution_count": 161,
   "metadata": {},
   "outputs": [],
   "source": [
    "#nn_predictions = clf_nn.predict(X_test)"
   ]
  },
  {
   "cell_type": "code",
   "execution_count": 162,
   "metadata": {},
   "outputs": [],
   "source": [
    "#print(classification_report(y_test,nn_predictions))"
   ]
  },
  {
   "cell_type": "code",
   "execution_count": 163,
   "metadata": {},
   "outputs": [],
   "source": [
    "scores_nn = cross_val_score(clf_nn, X_train, y_train, cv=5)"
   ]
  },
  {
   "cell_type": "code",
   "execution_count": 164,
   "metadata": {},
   "outputs": [
    {
     "data": {
      "text/plain": [
       "array([0.82934854, 0.84930906, 0.84536082, 0.82733655, 0.84617073])"
      ]
     },
     "execution_count": 164,
     "metadata": {},
     "output_type": "execute_result"
    }
   ],
   "source": [
    "scores_nn"
   ]
  },
  {
   "cell_type": "code",
   "execution_count": 165,
   "metadata": {},
   "outputs": [
    {
     "data": {
      "text/plain": [
       "0.8395051405134385"
      ]
     },
     "execution_count": 165,
     "metadata": {},
     "output_type": "execute_result"
    }
   ],
   "source": [
    "scores_nn.mean()"
   ]
  },
  {
   "cell_type": "code",
   "execution_count": 189,
   "metadata": {},
   "outputs": [
    {
     "data": {
      "text/plain": [
       "3"
      ]
     },
     "execution_count": 189,
     "metadata": {},
     "output_type": "execute_result"
    }
   ],
   "source": [
    "clf_nn.n_layers_"
   ]
  },
  {
   "cell_type": "code",
   "execution_count": 166,
   "metadata": {},
   "outputs": [
    {
     "data": {
      "text/plain": [
       "[(96, 100), (100, 1)]"
      ]
     },
     "execution_count": 166,
     "metadata": {},
     "output_type": "execute_result"
    }
   ],
   "source": [
    "[coef.shape for coef in clf_nn.coefs_]"
   ]
  },
  {
   "cell_type": "code",
   "execution_count": 167,
   "metadata": {},
   "outputs": [
    {
     "data": {
      "text/plain": [
       "(32560, 96)"
      ]
     },
     "execution_count": 167,
     "metadata": {},
     "output_type": "execute_result"
    }
   ],
   "source": [
    "X.shape"
   ]
  },
  {
   "cell_type": "markdown",
   "metadata": {},
   "source": [
    "# trying different number of hidden layers"
   ]
  },
  {
   "cell_type": "code",
   "execution_count": 216,
   "metadata": {},
   "outputs": [],
   "source": [
    "clf_nn3 = MLPClassifier(random_state=1,hidden_layer_sizes=(4,), max_iter=400).fit(X_train, y_train)"
   ]
  },
  {
   "cell_type": "code",
   "execution_count": 217,
   "metadata": {},
   "outputs": [],
   "source": [
    "scores_nn3 = cross_val_score(clf_nn3, X_train, y_train, cv=5)"
   ]
  },
  {
   "cell_type": "code",
   "execution_count": 218,
   "metadata": {},
   "outputs": [
    {
     "data": {
      "text/plain": [
       "array([0.80960737, 0.83921913, 0.82803246, 0.82755595, 0.81281545])"
      ]
     },
     "execution_count": 218,
     "metadata": {},
     "output_type": "execute_result"
    }
   ],
   "source": [
    "scores_nn3"
   ]
  },
  {
   "cell_type": "code",
   "execution_count": 219,
   "metadata": {},
   "outputs": [],
   "source": [
    "nn_params ={\n",
    "    'hidden_layer_sizes':[(100,),(96,),(96,96),(96,96,96)]\n",
    "}"
   ]
  },
  {
   "cell_type": "code",
   "execution_count": 220,
   "metadata": {},
   "outputs": [],
   "source": [
    "# 11 mins running time\n",
    "clf_NN = GridSearchCV(MLPClassifier(random_state=1,max_iter=400),param_grid = nn_params , verbose=1)"
   ]
  },
  {
   "cell_type": "code",
   "execution_count": 221,
   "metadata": {},
   "outputs": [
    {
     "name": "stderr",
     "output_type": "stream",
     "text": [
      "C:\\Users\\Thor 3\\Anaconda3\\lib\\site-packages\\sklearn\\model_selection\\_split.py:2053: FutureWarning: You should specify a value for 'cv' instead of relying on the default value. The default value will change from 3 to 5 in version 0.22.\n",
      "  warnings.warn(CV_WARNING, FutureWarning)\n",
      "[Parallel(n_jobs=1)]: Using backend SequentialBackend with 1 concurrent workers.\n"
     ]
    },
    {
     "name": "stdout",
     "output_type": "stream",
     "text": [
      "Fitting 3 folds for each of 4 candidates, totalling 12 fits\n"
     ]
    },
    {
     "name": "stderr",
     "output_type": "stream",
     "text": [
      "[Parallel(n_jobs=1)]: Done  12 out of  12 | elapsed:  6.3min finished\n"
     ]
    },
    {
     "data": {
      "text/plain": [
       "GridSearchCV(cv='warn', error_score='raise-deprecating',\n",
       "       estimator=MLPClassifier(activation='relu', alpha=0.0001, batch_size='auto', beta_1=0.9,\n",
       "       beta_2=0.999, early_stopping=False, epsilon=1e-08,\n",
       "       hidden_layer_sizes=(100,), learning_rate='constant',\n",
       "       learning_rate_init=0.001, max_iter=400, momentum=0.9,\n",
       "       n_iter_no_change=10, nesterovs_momentum=True, power_t=0.5,\n",
       "       random_state=1, shuffle=True, solver='adam', tol=0.0001,\n",
       "       validation_fraction=0.1, verbose=False, warm_start=False),\n",
       "       fit_params=None, iid='warn', n_jobs=None,\n",
       "       param_grid={'hidden_layer_sizes': [(100,), (96,), (96, 96), (96, 96, 96)]},\n",
       "       pre_dispatch='2*n_jobs', refit=True, return_train_score='warn',\n",
       "       scoring=None, verbose=1)"
      ]
     },
     "execution_count": 221,
     "metadata": {},
     "output_type": "execute_result"
    }
   ],
   "source": [
    "clf_NN.fit(X_train, y_train)"
   ]
  },
  {
   "cell_type": "code",
   "execution_count": 225,
   "metadata": {},
   "outputs": [],
   "source": [
    "filehandler = open(\"NeuralNetwrok_GsCv.model\",\"wb\")\n",
    "pickle.dump(clf_dt,filehandler)\n",
    "filehandler.close()"
   ]
  },
  {
   "cell_type": "code",
   "execution_count": 222,
   "metadata": {},
   "outputs": [
    {
     "name": "stderr",
     "output_type": "stream",
     "text": [
      "C:\\Users\\Thor 3\\Anaconda3\\lib\\site-packages\\sklearn\\utils\\deprecation.py:125: FutureWarning: You are accessing a training score ('split0_train_score'), which will not be available by default any more in 0.21. If you need training scores, please set return_train_score=True\n",
      "  warnings.warn(*warn_args, **warn_kwargs)\n",
      "C:\\Users\\Thor 3\\Anaconda3\\lib\\site-packages\\sklearn\\utils\\deprecation.py:125: FutureWarning: You are accessing a training score ('split1_train_score'), which will not be available by default any more in 0.21. If you need training scores, please set return_train_score=True\n",
      "  warnings.warn(*warn_args, **warn_kwargs)\n",
      "C:\\Users\\Thor 3\\Anaconda3\\lib\\site-packages\\sklearn\\utils\\deprecation.py:125: FutureWarning: You are accessing a training score ('split2_train_score'), which will not be available by default any more in 0.21. If you need training scores, please set return_train_score=True\n",
      "  warnings.warn(*warn_args, **warn_kwargs)\n",
      "C:\\Users\\Thor 3\\Anaconda3\\lib\\site-packages\\sklearn\\utils\\deprecation.py:125: FutureWarning: You are accessing a training score ('mean_train_score'), which will not be available by default any more in 0.21. If you need training scores, please set return_train_score=True\n",
      "  warnings.warn(*warn_args, **warn_kwargs)\n",
      "C:\\Users\\Thor 3\\Anaconda3\\lib\\site-packages\\sklearn\\utils\\deprecation.py:125: FutureWarning: You are accessing a training score ('std_train_score'), which will not be available by default any more in 0.21. If you need training scores, please set return_train_score=True\n",
      "  warnings.warn(*warn_args, **warn_kwargs)\n"
     ]
    }
   ],
   "source": [
    "resultsNN_df=pd.DataFrame(clf_NN.cv_results_)\n"
   ]
  },
  {
   "cell_type": "code",
   "execution_count": 223,
   "metadata": {},
   "outputs": [
    {
     "data": {
      "text/html": [
       "<div>\n",
       "<style scoped>\n",
       "    .dataframe tbody tr th:only-of-type {\n",
       "        vertical-align: middle;\n",
       "    }\n",
       "\n",
       "    .dataframe tbody tr th {\n",
       "        vertical-align: top;\n",
       "    }\n",
       "\n",
       "    .dataframe thead th {\n",
       "        text-align: right;\n",
       "    }\n",
       "</style>\n",
       "<table border=\"1\" class=\"dataframe\">\n",
       "  <thead>\n",
       "    <tr style=\"text-align: right;\">\n",
       "      <th></th>\n",
       "      <th>mean_fit_time</th>\n",
       "      <th>std_fit_time</th>\n",
       "      <th>mean_score_time</th>\n",
       "      <th>std_score_time</th>\n",
       "      <th>param_hidden_layer_sizes</th>\n",
       "      <th>params</th>\n",
       "      <th>split0_test_score</th>\n",
       "      <th>split1_test_score</th>\n",
       "      <th>split2_test_score</th>\n",
       "      <th>mean_test_score</th>\n",
       "      <th>std_test_score</th>\n",
       "      <th>rank_test_score</th>\n",
       "      <th>split0_train_score</th>\n",
       "      <th>split1_train_score</th>\n",
       "      <th>split2_train_score</th>\n",
       "      <th>mean_train_score</th>\n",
       "      <th>std_train_score</th>\n",
       "    </tr>\n",
       "  </thead>\n",
       "  <tbody>\n",
       "    <tr>\n",
       "      <th>0</th>\n",
       "      <td>9.123823</td>\n",
       "      <td>4.082212</td>\n",
       "      <td>0.041977</td>\n",
       "      <td>0.018410</td>\n",
       "      <td>(100,)</td>\n",
       "      <td>{'hidden_layer_sizes': (100,)}</td>\n",
       "      <td>0.838642</td>\n",
       "      <td>0.833246</td>\n",
       "      <td>0.831622</td>\n",
       "      <td>0.834503</td>\n",
       "      <td>0.003001</td>\n",
       "      <td>3</td>\n",
       "      <td>0.843425</td>\n",
       "      <td>0.842109</td>\n",
       "      <td>0.830942</td>\n",
       "      <td>0.838825</td>\n",
       "      <td>0.005600</td>\n",
       "    </tr>\n",
       "    <tr>\n",
       "      <th>1</th>\n",
       "      <td>5.215779</td>\n",
       "      <td>1.182336</td>\n",
       "      <td>0.029535</td>\n",
       "      <td>0.002505</td>\n",
       "      <td>(96,)</td>\n",
       "      <td>{'hidden_layer_sizes': (96,)}</td>\n",
       "      <td>0.824559</td>\n",
       "      <td>0.831403</td>\n",
       "      <td>0.849789</td>\n",
       "      <td>0.835249</td>\n",
       "      <td>0.010653</td>\n",
       "      <td>2</td>\n",
       "      <td>0.831710</td>\n",
       "      <td>0.837436</td>\n",
       "      <td>0.854106</td>\n",
       "      <td>0.841084</td>\n",
       "      <td>0.009500</td>\n",
       "    </tr>\n",
       "    <tr>\n",
       "      <th>2</th>\n",
       "      <td>13.340239</td>\n",
       "      <td>5.819861</td>\n",
       "      <td>0.048344</td>\n",
       "      <td>0.001981</td>\n",
       "      <td>(96, 96)</td>\n",
       "      <td>{'hidden_layer_sizes': (96, 96)}</td>\n",
       "      <td>0.852066</td>\n",
       "      <td>0.831535</td>\n",
       "      <td>0.842680</td>\n",
       "      <td>0.842094</td>\n",
       "      <td>0.008393</td>\n",
       "      <td>1</td>\n",
       "      <td>0.856983</td>\n",
       "      <td>0.838094</td>\n",
       "      <td>0.845551</td>\n",
       "      <td>0.846876</td>\n",
       "      <td>0.007768</td>\n",
       "    </tr>\n",
       "    <tr>\n",
       "      <th>3</th>\n",
       "      <td>97.952276</td>\n",
       "      <td>71.198237</td>\n",
       "      <td>0.068360</td>\n",
       "      <td>0.013823</td>\n",
       "      <td>(96, 96, 96)</td>\n",
       "      <td>{'hidden_layer_sizes': (96, 96, 96)}</td>\n",
       "      <td>0.832851</td>\n",
       "      <td>0.816926</td>\n",
       "      <td>0.832412</td>\n",
       "      <td>0.827396</td>\n",
       "      <td>0.007406</td>\n",
       "      <td>4</td>\n",
       "      <td>0.844281</td>\n",
       "      <td>0.928327</td>\n",
       "      <td>0.845354</td>\n",
       "      <td>0.872654</td>\n",
       "      <td>0.039369</td>\n",
       "    </tr>\n",
       "  </tbody>\n",
       "</table>\n",
       "</div>"
      ],
      "text/plain": [
       "   mean_fit_time  std_fit_time  mean_score_time  std_score_time  \\\n",
       "0       9.123823      4.082212         0.041977        0.018410   \n",
       "1       5.215779      1.182336         0.029535        0.002505   \n",
       "2      13.340239      5.819861         0.048344        0.001981   \n",
       "3      97.952276     71.198237         0.068360        0.013823   \n",
       "\n",
       "  param_hidden_layer_sizes                                params  \\\n",
       "0                   (100,)        {'hidden_layer_sizes': (100,)}   \n",
       "1                    (96,)         {'hidden_layer_sizes': (96,)}   \n",
       "2                 (96, 96)      {'hidden_layer_sizes': (96, 96)}   \n",
       "3             (96, 96, 96)  {'hidden_layer_sizes': (96, 96, 96)}   \n",
       "\n",
       "   split0_test_score  split1_test_score  split2_test_score  mean_test_score  \\\n",
       "0           0.838642           0.833246           0.831622         0.834503   \n",
       "1           0.824559           0.831403           0.849789         0.835249   \n",
       "2           0.852066           0.831535           0.842680         0.842094   \n",
       "3           0.832851           0.816926           0.832412         0.827396   \n",
       "\n",
       "   std_test_score  rank_test_score  split0_train_score  split1_train_score  \\\n",
       "0        0.003001                3            0.843425            0.842109   \n",
       "1        0.010653                2            0.831710            0.837436   \n",
       "2        0.008393                1            0.856983            0.838094   \n",
       "3        0.007406                4            0.844281            0.928327   \n",
       "\n",
       "   split2_train_score  mean_train_score  std_train_score  \n",
       "0            0.830942          0.838825         0.005600  \n",
       "1            0.854106          0.841084         0.009500  \n",
       "2            0.845551          0.846876         0.007768  \n",
       "3            0.845354          0.872654         0.039369  "
      ]
     },
     "execution_count": 223,
     "metadata": {},
     "output_type": "execute_result"
    }
   ],
   "source": [
    "resultsNN_df"
   ]
  },
  {
   "cell_type": "code",
   "execution_count": 224,
   "metadata": {},
   "outputs": [
    {
     "name": "stdout",
     "output_type": "stream",
     "text": [
      "Neural Network best score: 0.842093717093717 best params: {'hidden_layer_sizes': (96, 96)}\n",
      "Random Forest  best score: 0.8472270972270972 best params: {'max_features': 'auto', 'n_estimators': 300}\n"
     ]
    }
   ],
   "source": [
    "print('Neural Network best score:',clf_NN.best_score_,'best params:',clf_NN.best_params_)\n",
    "print('Random Forest  best score:',clf_rf.best_score_,'best params:',clf_rf.best_params_)"
   ]
  },
  {
   "cell_type": "markdown",
   "metadata": {},
   "source": [
    "gridsearchCV neural network took 11mins, still the best score was with 2 hidden layers of 96 neurons \n",
    "Overall the bes score is from gridsearchCV RandomForests."
   ]
  },
  {
   "cell_type": "markdown",
   "metadata": {},
   "source": [
    "# Cross_val_Score"
   ]
  },
  {
   "cell_type": "code",
   "execution_count": 168,
   "metadata": {},
   "outputs": [
    {
     "name": "stdout",
     "output_type": "stream",
     "text": [
      "[0.82934854 0.84930906 0.84536082 0.82733655 0.84617073]\n",
      "[0.83658697 0.83878043 0.85015358 0.85366389 0.84664326]\n",
      "[0.82934854 0.84930906 0.84536082 0.82733655 0.84617073]\n"
     ]
    }
   ],
   "source": [
    "print(cross_val_score(MLPClassifier(random_state=1, max_iter=400), X_train, y_train, cv=5))\n",
    "print(cross_val_score(MLPClassifier(random_state=1, max_iter=400), X_train, y_train, cv=KFold(n_splits=5)))\n",
    "print(cross_val_score(MLPClassifier(random_state=1, max_iter=400), X_train, y_train, cv=StratifiedKFold(n_splits=5)))"
   ]
  },
  {
   "cell_type": "code",
   "execution_count": 169,
   "metadata": {},
   "outputs": [
    {
     "name": "stdout",
     "output_type": "stream",
     "text": [
      "y_score shape:  (4559, 2)\n"
     ]
    },
    {
     "data": {
      "image/png": "[encoded data removed]",
      "text/plain": [
       "<Figure size 842.4x595.44 with 1 Axes>"
      ]
     },
     "metadata": {},
     "output_type": "display_data"
    }
   ],
   "source": [
    "y_score = clf_nn2.predict_proba(X_test2)\n",
    "print('y_score shape: ',y_score.shape,end='\\n')\n",
    "fpr = dict()\n",
    "tpr = dict()\n",
    "thresholds = dict()\n",
    "roc_auc = dict()\n",
    "for i in range(2):\n",
    "    fpr[i], tpr[i], thresholds[i] = roc_curve(y_test2, y_score[:, i])\n",
    "    roc_auc[i] = auc(fpr[i], tpr[i])\n",
    "\n",
    "\n",
    "plt.figure()\n",
    "lw = 2\n",
    "plt.plot(fpr[1], tpr[1], color='aqua',\n",
    "         lw=lw, label='1 ROC curve (area = %0.2f)' % roc_auc[1])\n",
    "plt.plot([0, 1], [0, 1], color='navy', lw=lw, linestyle='--')\n",
    "plt.xlim([0.0, 1.0])\n",
    "plt.ylim([0.0, 1.05])\n",
    "plt.xlabel('False Positive Rate')\n",
    "plt.ylabel('True Positive Rate')\n",
    "plt.title('Receiver operating characteristic example')\n",
    "plt.legend(loc=\"lower right\")\n",
    "plt.show()"
   ]
  },
  {
   "cell_type": "markdown",
   "metadata": {},
   "source": [
    "# Other tests and visualizations"
   ]
  },
  {
   "cell_type": "code",
   "execution_count": 175,
   "metadata": {},
   "outputs": [
    {
     "data": {
      "text/plain": [
       "Index(['Age', 'Workclass', 'Bachelors', 'Marital', 'Occupation',\n",
       "       'Relationship', 'Ethnicity', 'Gender', 'capital_gain', 'capital_loss',\n",
       "       'hours_per_week', 'Country', 'less than 50K'],\n",
       "      dtype='object')"
      ]
     },
     "execution_count": 175,
     "metadata": {},
     "output_type": "execute_result"
    }
   ],
   "source": [
    "df3.columns"
   ]
  },
  {
   "cell_type": "code",
   "execution_count": 176,
   "metadata": {
    "scrolled": true
   },
   "outputs": [],
   "source": [
    "#df4.columns"
   ]
  },
  {
   "cell_type": "code",
   "execution_count": 177,
   "metadata": {},
   "outputs": [
    {
     "data": {
      "text/html": [
       "<div>\n",
       "<style scoped>\n",
       "    .dataframe tbody tr th:only-of-type {\n",
       "        vertical-align: middle;\n",
       "    }\n",
       "\n",
       "    .dataframe tbody tr th {\n",
       "        vertical-align: top;\n",
       "    }\n",
       "\n",
       "    .dataframe thead th {\n",
       "        text-align: right;\n",
       "    }\n",
       "</style>\n",
       "<table border=\"1\" class=\"dataframe\">\n",
       "  <thead>\n",
       "    <tr style=\"text-align: right;\">\n",
       "      <th></th>\n",
       "      <th>Bachelors</th>\n",
       "    </tr>\n",
       "  </thead>\n",
       "  <tbody>\n",
       "    <tr>\n",
       "      <th>0</th>\n",
       "      <td>Bachelors</td>\n",
       "    </tr>\n",
       "    <tr>\n",
       "      <th>1</th>\n",
       "      <td>HS-grad</td>\n",
       "    </tr>\n",
       "    <tr>\n",
       "      <th>2</th>\n",
       "      <td>11th</td>\n",
       "    </tr>\n",
       "    <tr>\n",
       "      <th>3</th>\n",
       "      <td>Bachelors</td>\n",
       "    </tr>\n",
       "    <tr>\n",
       "      <th>4</th>\n",
       "      <td>Masters</td>\n",
       "    </tr>\n",
       "    <tr>\n",
       "      <th>...</th>\n",
       "      <td>...</td>\n",
       "    </tr>\n",
       "    <tr>\n",
       "      <th>32555</th>\n",
       "      <td>Assoc-acdm</td>\n",
       "    </tr>\n",
       "    <tr>\n",
       "      <th>32556</th>\n",
       "      <td>HS-grad</td>\n",
       "    </tr>\n",
       "    <tr>\n",
       "      <th>32557</th>\n",
       "      <td>HS-grad</td>\n",
       "    </tr>\n",
       "    <tr>\n",
       "      <th>32558</th>\n",
       "      <td>HS-grad</td>\n",
       "    </tr>\n",
       "    <tr>\n",
       "      <th>32559</th>\n",
       "      <td>HS-grad</td>\n",
       "    </tr>\n",
       "  </tbody>\n",
       "</table>\n",
       "<p>32560 rows × 1 columns</p>\n",
       "</div>"
      ],
      "text/plain": [
       "         Bachelors\n",
       "0        Bachelors\n",
       "1          HS-grad\n",
       "2             11th\n",
       "3        Bachelors\n",
       "4          Masters\n",
       "...            ...\n",
       "32555   Assoc-acdm\n",
       "32556      HS-grad\n",
       "32557      HS-grad\n",
       "32558      HS-grad\n",
       "32559      HS-grad\n",
       "\n",
       "[32560 rows x 1 columns]"
      ]
     },
     "execution_count": 177,
     "metadata": {},
     "output_type": "execute_result"
    }
   ],
   "source": [
    "df3[['Bachelors']]"
   ]
  },
  {
   "cell_type": "code",
   "execution_count": null,
   "metadata": {},
   "outputs": [],
   "source": []
  }
 ],
 "metadata": {
  "kernelspec": {
   "display_name": "Python 3",
   "language": "python",
   "name": "python3"
  },
  "language_info": {
   "codemirror_mode": {
    "name": "ipython",
    "version": 3
   },
   "file_extension": ".py",
   "mimetype": "text/x-python",
   "name": "python",
   "nbconvert_exporter": "python",
   "pygments_lexer": "ipython3",
   "version": "3.7.0"
  }
 },
 "nbformat": 4,
 "nbformat_minor": 2
}
